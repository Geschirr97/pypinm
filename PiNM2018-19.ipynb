{
 "cells": [
  {
   "cell_type": "markdown",
   "metadata": {
    "slideshow": {
     "slide_type": "slide"
    }
   },
   "source": [
    "\n",
    "<font size=\"2\"> [github.com/jankoslavic/pypinm](http://github.com/jankoslavic/pypinm)</font>\n",
    "\n",
    "<center>\n",
    "<img width=300 src=\"./fig/ladisk.png\">\n",
    "<br>\n",
    "<font size=\"7\" color=\"f00e0e\" face=\"garamond\"><b>Programiranje in numerične metode 2017/18 <br><br> študijski in izpitni red</b></font>\n",
    "<br><br>\n",
    "<font size=\"4\">\n",
    "[Prof. dr. Janko Slavič](http://www.ladisk.si/~slavic)\n",
    "</font>\n",
    "<br><br>\n",
    "<font size=\"2\">Februar 2019</font>\n",
    "</center>"
   ]
  },
  {
   "cell_type": "markdown",
   "metadata": {
    "slideshow": {
     "slide_type": "slide"
    }
   },
   "source": [
    "# Predavanja / vaje"
   ]
  },
  {
   "cell_type": "markdown",
   "metadata": {
    "slideshow": {
     "slide_type": "fragment"
    }
   },
   "source": [
    "**Predavanja**: \n",
    "* **T** 10:15 V/2\n",
    "    * **izr. prof. dr. Janko Slavič** (DS-P3, 01 4771 226, janko.slavic@fs.uni-lj.si)\n",
    "\n",
    "**Vaje**:\n",
    "\n",
    "* **Č1** 13:30 I/4: (as. Klemen Zaletelj)\n",
    "* **Č2** 13:30 II/1: (as. Domen Gorjup)\n",
    "* **P1** 7:30 I/4: (as. dr. Luka Knez)\n",
    "* **P2** 7:30 II/1: (as. Domen Gorjup)\n",
    "* **P3** 9:30 I/4: (as. dr. Luka Knez)\n",
    "* **P4** 9:30 II/1: (as. Domen Gorjup)\n",
    "* **P5** 11:30 II/1: (as. Klemen Zaletelj)\n",
    "* **P6** 12:30 I/4: (as. dr. Luka Knez)\n",
    "* **P7** 13:30 II/1: (as. Klemen Zaletelj)\n",
    "\n",
    "**Govorilne ure**\n",
    "* **ponedeljek, 15:30, II/1**: Vprašanja, govorilne ure itd* (če v 5min od začetka ni nikogar, smo v pisarni)\n",
    "* **petek**: popoldan, po predhodnem dogovoru z asistentom\n",
    "\n",
    "Asistenti:\n",
    "* as. dr. Luka Knez (DS-P5, 01 4771 229, luka.knez@fs.uni-lj.si)\n",
    "* as. Domen Gorjup, (DS-P5, 01 4771 228, domen.gorjup@fs.uni-lj.si)\n",
    "* as. Klemen Zaletelj, (DS-P5, 01 4771 228, klemen.zaletelj@fs.uni-lj.si)"
   ]
  },
  {
   "cell_type": "markdown",
   "metadata": {
    "slideshow": {
     "slide_type": "subslide"
    }
   },
   "source": [
    "**Spremljanje sprotnega študija, obvestila itd**\n",
    "\n",
    "Sproten študij bomo izvajali s pomočjo: [moj.ladisk.si](http://moj.ladisk.si/). Za prijavo uporabite email, ki ga imate v VIS-u. Video prikaz prijave: [če imate gmail](https://www.youtube.com/watch?v=kGhOcmRSJG4), [poljubni drugi email](https://www.youtube.com/watch?v=mYBZpz3bico).\n",
    "\n",
    "**Vprašanja in odgovori:**\n",
    "\n",
    "Vprašanja na temo predmeta ali tudi širše lahko postavite/odgovorite na portalu: [pinm.ladisk.si](http://pinm.ladisk.si)."
   ]
  },
  {
   "cell_type": "markdown",
   "metadata": {
    "slideshow": {
     "slide_type": "subslide"
    }
   },
   "source": [
    "**Razpored predavanj**\n",
    "\n",
    "1. [13.feb: Uvod v Python](./Predavanje 01 - Uvod v Python.ipynb)\n",
    "* [20.feb: Uvod v Python](./Predavanje 01 - Uvod v Python.ipynb)\n",
    "* [27.feb: Print, delo z datotekami, funkcije, moduli](./Predavanje 02 - Print, delo z datotekami, funkcije, moduli.ipynb)\n",
    "* [1.mar (četrtek, 7:30, nadomestno): Moduli, numpy, matplotlib](./Predavanje 03 - Moduli, numpy, matplotlib.ipynb)\n",
    "* [13.mar: Objektno programiranje, simbolno računanje](./Predavanje 04 - Objektno programiranje, simbolno računanje.ipynb)"
   ]
  },
  {
   "cell_type": "markdown",
   "metadata": {
    "slideshow": {
     "slide_type": "subslide"
    }
   },
   "source": [
    "* [20.mar: Uvod v numerične metode in sistemi linearnih algebrajskih enačb 1](./Predavanje 05 - Uvod v numerične metode in sistemi linearnih enačb 1.ipynb)\n",
    "* [27.mar: Sistemi linearnih enačb 2](./Predavanje 06 - Sistemi linearnih enačb 2.ipynb)\n",
    "* [3.apr: Interpolacija](./Predavanje 07 - Interpolacija.ipynb)\n",
    "* [10.apr: Aproksimacija](./Predavanje 08 - Aproksimacija.ipynb)\n",
    "* [17.apr: Reševanje enačb](./Predavanje 09 - Reševanje enačb.ipynb)\n",
    "* [24.apr: Numerično odvajanje](./Predavanje 10 - Numerično odvajanje.ipynb)\n",
    "* [8.maj: Numerično integriranje](./Predavanje 11 - Numerično integriranje.ipynb)\n",
    "* [15.maj: Numerično reševanje diferencialnih enačb - začetni problem](./Predavanje 12 - Numerično reševanje diferencialnih enačb - začetni problem.ipynb)\n",
    "* [22.maj: Numerično reševanje diferencialnih enačb - robni problem](./Predavanje 13 - Numerično reševanje diferencialnih enačb - robni problem.ipynb)\n",
    "* [29.maj: Testiranje pravilnosti kode, uporabniški vmesnik](./Predavanje 14 - Testiranje pravilnosti kode, uporabniški vmesnik.ipynb)\n",
    "* [Uvod v Mathematico*](./Uvod v Mathematico.nb)\n",
    "\n",
    "\\* Fakultativno predavanje, študentje Fakultete za strojništvo UNI-LJ imate možnost pridobiti licenčno verzijo programa Mathematica na tej [povezavi](http://www.fs.uni-lj.si/studijska_dejavnost/it_podpora/programska_oprema_za_studente/2015071415154271/Registracija%20Mathematica/)."
   ]
  },
  {
   "cell_type": "markdown",
   "metadata": {
    "slideshow": {
     "slide_type": "slide"
    }
   },
   "source": [
    "# Sprotni študij"
   ]
  },
  {
   "cell_type": "markdown",
   "metadata": {
    "slideshow": {
     "slide_type": "fragment"
    }
   },
   "source": [
    "## Sestava ocene\n",
    "\n",
    "* 10% sodelovanje pri predavanjih\n",
    "* 30% sodelovanje pri vajah* (vsaj 50%)\n",
    "* 10% tedenske domače naloge (osnove ekosistema Pythona) (vsaj 50%)\n",
    "* 20% tedenske domače naloge (numerične metode) (vsaj 50%)\n",
    "* 30% individualni projekt (vsaj 50%)\n",
    "\n",
    "\\* Na predavanja in vaje morate priti pripravljeni; uporabili bomo nekatere principe obratnega učenja! Če ne morete priti na vaje, pridete na prve govorilne ure na katere lahko. "
   ]
  },
  {
   "cell_type": "markdown",
   "metadata": {
    "slideshow": {
     "slide_type": "subslide"
    }
   },
   "source": [
    "## Sodelovanje na vajah\n",
    "\n",
    "Lestvica ocenjevanja je:\n",
    "\n",
    "  * 100% - uspešno odgovorite vprašanje: znate sprogramirati odgovor in ga tudi ustrezno argumentirati,\n",
    "  * 75% - na vprašanje odgovorite delno, vendar z zadovoljivim razumevanjem.\n",
    "  * 50% - na vprašanje odgovorite delno.\n",
    "  * 0% - odgovor na vprašanje kaže nezadovoljivo razumevanje (tudi če je koda pravilno napisana).\n",
    "  * 0% - niste prisotni na vajah.\n",
    "\n",
    "Če ste na vajah prisotni in niste vprašani oziroma se ne javite sami, se to ne šteje k povprečju ocene vaj.\n",
    "Če ste bili ocenjeni z 0%, potem lahko oceno popravite na prvih naslednjih govorilnih urah, vendar lahko dosežete max 75%."
   ]
  },
  {
   "cell_type": "markdown",
   "metadata": {
    "slideshow": {
     "slide_type": "subslide"
    }
   },
   "source": [
    "## Individualni projekt\n",
    "\n",
    "Se navezuje na poljubno vsebino katerega-koli predmeta na FS in ga študent definira sam.\n",
    "Projekt mora vsebovati sledeče vsebine: \n",
    "* *simbolno reševanje*, \n",
    "* *sistemi linearnih enačb*, \n",
    "* *interpolacija ali aproksimacija*,\n",
    "* *iskanje ničel*, \n",
    "* *integriranje ali odvajanje*, \n",
    "* *reševanje diferencialnih enačb*.  "
   ]
  },
  {
   "cell_type": "markdown",
   "metadata": {
    "slideshow": {
     "slide_type": "subslide"
    }
   },
   "source": [
    "Ocena individualnega projekta je sestavljena iz: \n",
    "* *numerična pravilnost* (30%), \n",
    "* *struktura, urejenost, uporaba lastnih modulov, stil kode (docstringi)* (30%), \n",
    "* *lasten odnos / kreativni dodatek** (30%), \n",
    "* *pripravljeni testi kode in/ali uporabniški vmesnik* (10%).\n",
    "\n",
    "\n",
    "\n",
    "Oddaja: do roka (glejte pomembne datume spodaj) v obliki zip datoteke z imenom: **Ime in priimek, vpisna številka.zip** pošljete na email naslov svojega asistenta.\n",
    "\n",
    "V primeru zamude pri oddaji se upeh množi z $0.9^n$, kjer je $n$ število začetih dni zamude.\n",
    "\n",
    "**Predloga za oddajo je na [tukaj](https://github.com/jankoslavic/pypinm/blob/master/projekt/Individualni%20projekt%20-%20predloga.ipynb)**. "
   ]
  },
  {
   "cell_type": "markdown",
   "metadata": {
    "slideshow": {
     "slide_type": "subslide"
    }
   },
   "source": [
    "\\* Kot **kreativni dodatek** se tretira programska vsebina, ki na predavanjih in vajah ni bila posebej obravnavana. Kot na primer:\n",
    "\n",
    "\n",
    "* animacija rezultatov z uporabo matplotlib-a,\n",
    "* druge oblike naprednih prikazov (Plotly, Bokeh, vispy, pyqtgraph, VTK...),\n",
    "* avtomatsko branje podatkov iz spleta, pošiljanje rezultatov po elektronski pošti,\n",
    "* strojno generiranje poročila,\n",
    "* uporaba knjižnjice Pandas, zapis rezultatov v bazo podatkov, MS Excel,\n",
    "* uporaba platform Raspberry Pi, Arduino, zajem podatkov,\n",
    "* izdelava spletne aplikacije (Flask, Django),\n",
    "* uporaba modulov in knjižnic, kot so scikit-learn, TensorFlow, PyOpenCV.\n"
   ]
  },
  {
   "cell_type": "markdown",
   "metadata": {
    "slideshow": {
     "slide_type": "subslide"
    }
   },
   "source": [
    "## Predlog ocene na podlagi sprotnega študija\n",
    "\n",
    "**Izpolnjevanje pogojev za pristop k izpitu**: vsak posamični dogodek, ki sestavlja oceno mora biti večji od 40%.\n",
    "\n",
    "Predlog ocene:\n",
    "* 50% ali več: izpolnjuje pogoje za pristop k izpitu*\n",
    "* 52,5 do 57,5%: 6/6\n",
    "* 62,5 do 67,5%: 7/7\n",
    "* 72,5 do 77,5%: 8/8\n",
    "* 82,5 do 87,5%: 9/9\n",
    "* 92,5 do 100%: 10/10\n",
    "\n",
    "(Nedefinirana področja so vmesne ocene.)\n",
    "   \n",
    "Individualni projekt in predlog ocene se zagovarja na ustnem zagovoru.\n",
    "\n",
    "Pri zagovoru upoštevamo tudi kvalitativno oceno sodelovanja na vajah, predavanjih ali pinm.ladisk.si (1000 točk je ekvivalent 1xP). Glejte [tudi](http://lab.fs.uni-lj.si/ladisk/data/wiki/my.ladisk.si/doku.php?id=start#kaj_pomenijo_oznake_v_stolpcu_komentar)."
   ]
  },
  {
   "cell_type": "markdown",
   "metadata": {
    "slideshow": {
     "slide_type": "subslide"
    }
   },
   "source": [
    "## Pomembni datumi\n",
    "1. Oddaja individualnega projekta: petek, 25. maj 2017, do 12h.\n",
    "* Zagovori: prvi teden poletnega izpitnega obdobja.\n",
    "\n",
    "\n",
    "Predloge za predmet: [github.com/jankoslavic/pypinm](https://github.com/jankoslavic/pypinm)"
   ]
  },
  {
   "cell_type": "markdown",
   "metadata": {
    "slideshow": {
     "slide_type": "slide"
    }
   },
   "source": [
    "# Izpit"
   ]
  },
  {
   "cell_type": "markdown",
   "metadata": {},
   "source": [
    "Če izpolnjujete pogoje za pristop k izpitu, potem lahko obveznosti opravite tudi z izpitom. Izpit se opravlja v dveh delih: 50 min preverjanje uporabe numeričnih metod za računalnikom (tipično dve nalogi, sabo imate lahko poljubne pisne vire, dostopa do interneta ni), nato 60 min za tri teoretična vprašanja ([glejte primer izpita](https://github.com/jankoslavic/pypinm/tree/master/primeri%20nalog%20in%20izpita/primer%20izpita)). Za pozitivno oceno morata biti oba dela pozitivna."
   ]
  },
  {
   "cell_type": "markdown",
   "metadata": {
    "slideshow": {
     "slide_type": "slide"
    }
   },
   "source": [
    "# Literatura"
   ]
  },
  {
   "cell_type": "markdown",
   "metadata": {},
   "source": [
    "1. Slavič J.: Programiranje in numerične metode s Pythonom, [izvršljiva knjiga](https://github.com/jankoslavic/pypinm) ali [spletna knjiga](https://jankoslavic.github.io/pypinm.io/) ali [pdf](https://github.com/jankoslavic/pypinm/raw/master/pdf/Programiranje%20in%20numeri%C4%8Dne%20metode%20v%20ekosistemu%20Pythona%20-%20zadnja%20verzija.pdf), 2015-\n",
    "* Petrišič J.: Uvod v Matlab za inženirje, 2011\n",
    "* Demšar J. Python za programerje, 2012 (dosegljiva na spletu: http://goo.gl/PK1rUZ, glejte tudi to spletno učilnico: http://goo.gl/n4pVUe)\n",
    "* Nicolas P. Rougier: From Python to Numpy, 2017 [spletna knjiga](http://www.labri.fr/perso/nrougier/from-python-to-numpy/)\n",
    "* Kiusalaas J: Numerical Methods in Engineering with Python 3, 2013\n",
    "* Fangohr H. Python for Computational Science and Engineering, 2014  (dosegljiva na spletu: http://goo.gl/nCOfY0)\n",
    "* Bucky R. Python 3.4 Programming Tutorials (videi dosegljivi na: http://goo.gl/ie6nfD)\n",
    "* [Projekt TOMO](https://www.projekt-tomo.si) (več vsebin, glejte predvsem predmete na FMF in FRI)\n",
    "* [Scipy Lecture Notes](http://www.scipy-lectures.org/)\n",
    "\n",
    "Nekatere spletne učilnice na temo Pythona najdete na [pinm.ladisk.si](http://pinm.ladisk.si/9/katera-so-najbolj%C5%A1e-spletne-u%C4%8Dilnice-za-u%C4%8Denje-pythona)"
   ]
  },
  {
   "cell_type": "markdown",
   "metadata": {
    "slideshow": {
     "slide_type": "slide"
    }
   },
   "source": [
    "# Pogoji za poslušanje v naprej?"
   ]
  },
  {
   "cell_type": "markdown",
   "metadata": {},
   "source": [
    "Iz prvega letnika lahko manjkata največ dva predmeta, vendar ne: Tehniška mehanika 1, Tehniška matematika 1 in 2, Tehniška fizika, Informatika in računalništvo."
   ]
  }
 ],
 "metadata": {
  "anaconda-cloud": {},
  "celltoolbar": "Slideshow",
  "kernelspec": {
   "display_name": "Python 3",
   "language": "python",
   "name": "python3"
  },
  "language_info": {
   "codemirror_mode": {
    "name": "ipython",
    "version": 3
   },
   "file_extension": ".py",
   "mimetype": "text/x-python",
   "name": "python",
   "nbconvert_exporter": "python",
   "pygments_lexer": "ipython3",
   "version": "3.6.5"
  },
  "latex_envs": {
   "bibliofile": "biblio.bib",
   "cite_by": "apalike",
   "current_citInitial": 1,
   "eqLabelWithNumbers": true,
   "eqNumInitial": 0
  },
  "livereveal": {
   "theme": "sky",
   "transition": "default",
   "width": 1200
  },
  "nav_menu": {},
  "toc": {
   "base_numbering": 1,
   "nav_menu": {
    "height": "209px",
    "width": "252px"
   },
   "number_sections": true,
   "sideBar": true,
   "skip_h1_title": false,
   "title_cell": "Kazalo",
   "title_sidebar": "Kazalo",
   "toc_cell": false,
   "toc_position": {},
   "toc_section_display": "block",
   "toc_window_display": false
  }
 },
 "nbformat": 4,
 "nbformat_minor": 1
}
