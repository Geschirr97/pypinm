{
 "cells": [
  {
   "cell_type": "markdown",
   "metadata": {
    "slideshow": {
     "slide_type": "slide"
    }
   },
   "source": [
    "<font size=\"2\"> [github.com/jankoslavic/pypinm](http://github.com/jankoslavic/pypinm)</font>\n",
    "\n",
    "[Prof. dr. Janko Slavič](http://www.ladisk.si/~slavic)\n",
    "\n",
    "<center>\n",
    "<img width=300 src=\"./fig/ladisk.png\">\n",
    "<br>\n",
    "<font size=\"7\" color=\"f00e0e\" face=\"garamond\"><b>Numerično odvajanje</b></font>\n",
    "<img src=\"\">\n",
    "<font size=\"2\">December 2019</font>\n",
    "</center>"
   ]
  },
  {
   "cell_type": "markdown",
   "metadata": {
    "slideshow": {
     "slide_type": "subslide"
    },
    "toc": "true"
   },
   "source": [
    "<h1>Kazalo<span class=\"tocSkip\"></span></h1>\n",
    "<div class=\"toc\"><ul class=\"toc-item\"><li><span><a href=\"#Uvod\" data-toc-modified-id=\"Uvod-1\"><span class=\"toc-item-num\">1&nbsp;&nbsp;</span>Uvod</a></span></li><li><span><a href=\"#Aproksimacija-prvega-odvoda-po-metodi-končnih-razlik\" data-toc-modified-id=\"Aproksimacija-prvega-odvoda-po-metodi-končnih-razlik-2\"><span class=\"toc-item-num\">2&nbsp;&nbsp;</span>Aproksimacija prvega odvoda po metodi končnih razlik</a></span></li><li><span><a href=\"#Centralna-diferenčna-shema\" data-toc-modified-id=\"Centralna-diferenčna-shema-3\"><span class=\"toc-item-num\">3&nbsp;&nbsp;</span>Centralna diferenčna shema</a></span><ul class=\"toc-item\"><li><span><a href=\"#Odvod-$f'(x)$\" data-toc-modified-id=\"Odvod-$f'(x)$-3.1\"><span class=\"toc-item-num\">3.1&nbsp;&nbsp;</span>Odvod $f'(x)$</a></span></li><li><span><a href=\"#Zgled:-$\\exp(-x)$\" data-toc-modified-id=\"Zgled:-$\\exp(-x)$-3.2\"><span class=\"toc-item-num\">3.2&nbsp;&nbsp;</span>Zgled: $\\exp(-x)$</a></span></li><li><span><a href=\"#Odvod-$f''(x)$\" data-toc-modified-id=\"Odvod-$f''(x)$-3.3\"><span class=\"toc-item-num\">3.3&nbsp;&nbsp;</span>Odvod $f''(x)$</a></span></li><li><span><a href=\"#Odvod-$f'''(x)$\" data-toc-modified-id=\"Odvod-$f'''(x)$-3.4\"><span class=\"toc-item-num\">3.4&nbsp;&nbsp;</span>Odvod $f'''(x)$</a></span></li><li><span><a href=\"#Odvod-$f^{(4)}(x)$\" data-toc-modified-id=\"Odvod-$f^{(4)}(x)$-3.5\"><span class=\"toc-item-num\">3.5&nbsp;&nbsp;</span>Odvod $f^{(4)}(x)$</a></span></li><li><span><a href=\"#Povzetek-centralne-diferenčne-sheme*\" data-toc-modified-id=\"Povzetek-centralne-diferenčne-sheme*-3.6\"><span class=\"toc-item-num\">3.6&nbsp;&nbsp;</span>Povzetek centralne diferenčne sheme*</a></span></li><li><span><a href=\"#Uporaba-scipy.misc.central_diff_weight\" data-toc-modified-id=\"Uporaba-scipy.misc.central_diff_weight-3.7\"><span class=\"toc-item-num\">3.7&nbsp;&nbsp;</span>Uporaba <code>scipy.misc.central_diff_weight</code></a></span></li><li><span><a href=\"#Izboljšan-približek---Richardsonova-ekstrapolacija\" data-toc-modified-id=\"Izboljšan-približek---Richardsonova-ekstrapolacija-3.8\"><span class=\"toc-item-num\">3.8&nbsp;&nbsp;</span>Izboljšan približek - Richardsonova ekstrapolacija</a></span><ul class=\"toc-item\"><li><span><a href=\"#Zgled\" data-toc-modified-id=\"Zgled-3.8.1\"><span class=\"toc-item-num\">3.8.1&nbsp;&nbsp;</span>Zgled</a></span></li></ul></li></ul></li><li><span><a href=\"#Necentralna-diferenčna-shema\" data-toc-modified-id=\"Necentralna-diferenčna-shema-4\"><span class=\"toc-item-num\">4&nbsp;&nbsp;</span>Necentralna diferenčna shema</a></span><ul class=\"toc-item\"><li><span><a href=\"#Diferenčna-shema-naprej\" data-toc-modified-id=\"Diferenčna-shema-naprej-4.1\"><span class=\"toc-item-num\">4.1&nbsp;&nbsp;</span>Diferenčna shema naprej</a></span></li><li><span><a href=\"#Diferenčna-shema-nazaj\" data-toc-modified-id=\"Diferenčna-shema-nazaj-4.2\"><span class=\"toc-item-num\">4.2&nbsp;&nbsp;</span>Diferenčna shema nazaj</a></span></li></ul></li><li><span><a href=\"#Uporaba-numpy.gradient\" data-toc-modified-id=\"Uporaba-numpy.gradient-5\"><span class=\"toc-item-num\">5&nbsp;&nbsp;</span>Uporaba <code>numpy.gradient</code></a></span><ul class=\"toc-item\"><li><span><a href=\"#Zgled\" data-toc-modified-id=\"Zgled-5.1\"><span class=\"toc-item-num\">5.1&nbsp;&nbsp;</span>Zgled</a></span></li></ul></li><li><span><a href=\"#Zaokrožitvena-napaka-pri-numeričnem-odvajanju\" data-toc-modified-id=\"Zaokrožitvena-napaka-pri-numeričnem-odvajanju-6\"><span class=\"toc-item-num\">6&nbsp;&nbsp;</span>Zaokrožitvena napaka pri numeričnem odvajanju</a></span><ul class=\"toc-item\"><li><span><a href=\"#Zgled\" data-toc-modified-id=\"Zgled-6.1\"><span class=\"toc-item-num\">6.1&nbsp;&nbsp;</span>Zgled</a></span></li></ul></li><li><span><a href=\"#Nekaj-vprašanj-za-razmislek!\" data-toc-modified-id=\"Nekaj-vprašanj-za-razmislek!-7\"><span class=\"toc-item-num\">7&nbsp;&nbsp;</span>Nekaj vprašanj za razmislek!</a></span></li><li><span><a href=\"#Dodatno\" data-toc-modified-id=\"Dodatno-8\"><span class=\"toc-item-num\">8&nbsp;&nbsp;</span>Dodatno</a></span></li></ul></div>"
   ]
  },
  {
   "cell_type": "markdown",
   "metadata": {
    "slideshow": {
     "slide_type": "slide"
    }
   },
   "source": [
    "# Uvod"
   ]
  },
  {
   "cell_type": "markdown",
   "metadata": {},
   "source": [
    "Vsako elementarno funkcijo lahko analitično odvajamo. Definicija odvoda je:\n",
    "$$f'(x)=\\lim_{\\Delta x \\rightarrow 0}\\frac{f(x+\\Delta x)-f(x)}{\\Delta x}.$$"
   ]
  },
  {
   "cell_type": "markdown",
   "metadata": {
    "slideshow": {
     "slide_type": "subslide"
    }
   },
   "source": [
    "Neposredna uporaba zgornje enačbe vodi v odštevanje zelo podobnih funkcijskih vrednostih ($f(x+\\Delta x)$, $f(x)$), obremenjenih z zaokrožitveno napako, ki jih delimo z majhno vrednostjo $\\Delta x$; posledično ima odvod bistveno manj signifikantnih števk kakor pa funkcijske vrednosti. Numeričnemu odvajanju se izognemo, če imamo to možnost; je pa v nekaterih primerih (npr. reševanje diferencialnih enačb) nepogrešljivo orodje!"
   ]
  },
  {
   "cell_type": "markdown",
   "metadata": {
    "slideshow": {
     "slide_type": "subslide"
    }
   },
   "source": [
    "Pri numeričnem odvajanju imamo dva, v principu različna, pristopa:\n",
    "\n",
    "1. najprej izvedemo **interpolacijo/aproksimacijo**, nato pa na podlagi znanih interpolacijskih/aproksimacijskih funkcij izračunamo odvod (o tej temi smo že govorili pri interpolaciji oz. aproksimaciji) in \n",
    "2. računanje odvoda **neposredno iz vrednosti iz tabele**."
   ]
  },
  {
   "cell_type": "markdown",
   "metadata": {
    "slideshow": {
     "slide_type": "subslide"
    }
   },
   "source": [
    "V okviru tega poglavja se bomo seznanili s tem, kako numerično izračunamo odvod funkcije $f(x)$; pri tem so vrednosti funkcije $f(x)$ podane tabelarično (pari $x_i$, $y_i$), kakor je prikazano na sliki:\n",
    "<img src='./fig/odvajanje_tabela.png' width=400>\n",
    "Najprej se bomo osredotočili na ekvidistantno, s korakom $h$, razporejene vrednosti $x_i$; vrednosti funkcije pa bodo $y_i=f(x_i)$."
   ]
  },
  {
   "cell_type": "markdown",
   "metadata": {
    "slideshow": {
     "slide_type": "subslide"
    }
   },
   "source": [
    "Glede na zgornjo definicijo odvoda, bi prvi odvod (za mesto $i$) lahko zapisali:\n",
    "$$y_i'=\\frac{y_{i+1}-y_{i}}{h},$$\n",
    "kjer je $h=x_{i+1}-x_{i}$. S preoblikovanjem enačbe:\n",
    "$$y_i'=-\\frac{y_{i}}{h}+\\frac{y_{i+1}}{h},$$\n",
    "lahko tudi rečemo, da za prvi odvod funkcije na mestu $i$, **utežimo** funkcijsko vrednost pri $i$ z $-1/h$ in funkcijsko vrednost pri $i+1$ z $+1/h$."
   ]
  },
  {
   "cell_type": "markdown",
   "metadata": {
    "slideshow": {
     "slide_type": "subslide"
    }
   },
   "source": [
    "V nadaljevanju si bomo pogledali teoretično ozadje kako določimo ustrezne **uteži** za različne stopnje odvodov, katere možnosti pri tem imamo in kako to vpliva na red natančnosti."
   ]
  },
  {
   "cell_type": "markdown",
   "metadata": {
    "slideshow": {
     "slide_type": "slide"
    }
   },
   "source": [
    "# Aproksimacija prvega odvoda po metodi končnih razlik"
   ]
  },
  {
   "cell_type": "markdown",
   "metadata": {},
   "source": [
    "Odvod $f'(x)$ lahko aproksimiramo na podlagi razvoja Taylorjeve vrste. To metodo imenujemo **metoda končnih razlik** ali tudi **diferenčna metoda**.\n",
    "\n",
    "Razvijmo **Taylorjevo vrsto naprej** (naprej, zaradi člena $+h$):\n",
    "$$f{\\left (x + h \\right )} =\\sum_{n=0}^{\\infty}\\frac{h^n}{n!}\\frac{d^n}{dx^n}f(x)= f{\\left (x \\right )} + h\\, f'\\left (x \\right ) + \\underbrace{\\frac{h^2}{2}\\,f''(x)+\\cdots}_{\\mathcal{O}\\left(h^{2}\\right)}$$\n"
   ]
  },
  {
   "cell_type": "markdown",
   "metadata": {
    "slideshow": {
     "slide_type": "subslide"
    }
   },
   "source": [
    "Člen $\\mathcal{O}\\left(h^{2}\\right)$ označuje napako drugega reda. Če iz enačbe izrazimo prvi odvod:\n",
    "\n",
    "$$f'{\\left (x \\right )}=\\frac{1}{h}\\left(f{\\left (x + h \\right )} - f{\\left (x \\right )}\\right) - \\underbrace{\\frac{h}{2}\\,f''(x)+\\cdots}_{\\mathcal{O}\\left(h^{1}\\right)}$$"
   ]
  },
  {
   "cell_type": "markdown",
   "metadata": {
    "slideshow": {
     "slide_type": "subslide"
    }
   },
   "source": [
    "Ugotovimo, da lahko ocenimo prvi odvod v točki $x_i$ (to je: $f_o'(x_i)$) na podlagi dveh zaporednih funkcijskih vrednosti:\n",
    "$$f_o'(x_i)=\\frac{1}{h}\\left(y_{i+1}-y_i\\right)$$\n",
    "in pri tem naredimo **napako metode**, ki je prvega reda $\\mathcal{O}\\left(h^{1}\\right)$. \n",
    "\n",
    "Uporabili smo $y_i=f(x_i)$ (glejte sliko zgoraj)."
   ]
  },
  {
   "cell_type": "markdown",
   "metadata": {
    "slideshow": {
     "slide_type": "subslide"
    }
   },
   "source": [
    "Napaka je:\n",
    "\n",
    "$$e=-\\frac{h}{2}\\,f''(\\xi),$$\n",
    "\n",
    "kjer je $\\xi$ neznana vrednost na intervalu $[x_i, x_{i+1}]$ in smo zanemarili višje člene."
   ]
  },
  {
   "cell_type": "markdown",
   "metadata": {
    "slideshow": {
     "slide_type": "subslide"
    }
   },
   "source": [
    "Velja torej izraz:\n",
    "$$f'(x_i)=f_o'(x_i)+e$$"
   ]
  },
  {
   "cell_type": "markdown",
   "metadata": {
    "slideshow": {
     "slide_type": "subslide"
    }
   },
   "source": [
    "Sedaj si poglejmo, kako pridemo do istega rezultata s strojno izpeljavo; najprej uvozimo ``sympy``:"
   ]
  },
  {
   "cell_type": "code",
   "execution_count": 72,
   "metadata": {},
   "outputs": [],
   "source": [
    "import sympy as sym\n",
    "sym.init_printing()"
   ]
  },
  {
   "cell_type": "markdown",
   "metadata": {
    "slideshow": {
     "slide_type": "subslide"
    }
   },
   "source": [
    "Definirajmo simbole:"
   ]
  },
  {
   "cell_type": "code",
   "execution_count": 73,
   "metadata": {},
   "outputs": [],
   "source": [
    "f = sym.Function('f')\n",
    "x, h = sym.symbols('x, h')"
   ]
  },
  {
   "cell_type": "markdown",
   "metadata": {
    "slideshow": {
     "slide_type": "subslide"
    }
   },
   "source": [
    "Nato nadaljujemo z razvojem **Taylorjeve vrste naprej** (angl. *forward Taylor series*):"
   ]
  },
  {
   "cell_type": "code",
   "execution_count": 76,
   "metadata": {},
   "outputs": [
    {
     "data": {
      "image/png": "[encoded data removed]",
      "text/latex": [
       "$\\displaystyle f{\\left(x \\right)} + h \\left. \\frac{d}{d \\xi_{1}} f{\\left(\\xi_{1} \\right)} \\right|_{\\substack{ \\xi_{1}=x }} + O\\left(h^{2}\\right)$"
      ],
      "text/plain": [
       "         ⎛ d        ⎞│        ⎛ 2⎞\n",
       "f(x) + h⋅⎜───(f(ξ₁))⎟│     + O⎝h ⎠\n",
       "         ⎝dξ₁       ⎠│ξ₁=x        "
      ]
     },
     "execution_count": 76,
     "metadata": {},
     "output_type": "execute_result"
    }
   ],
   "source": [
    "f(x+h).series(h, n=2)"
   ]
  },
  {
   "cell_type": "markdown",
   "metadata": {
    "slideshow": {
     "slide_type": "subslide"
    }
   },
   "source": [
    "Člen $\\mathcal{O}\\left(h^{2}\\right)$ vsebuje člene drugega in višjega reda. V zgornji enačbi je uporabljena začasna spremenljivko za odvajanje $\\xi_1$; izvedmo odvajanje in vstavimo $\\xi_1=x$:"
   ]
  },
  {
   "cell_type": "code",
   "execution_count": 77,
   "metadata": {},
   "outputs": [
    {
     "data": {
      "image/png": "[encoded data removed]",
      "text/latex": [
       "$\\displaystyle f{\\left(x \\right)} + h \\frac{d}{d x} f{\\left(x \\right)} + O\\left(h^{2}\\right)$"
      ],
      "text/plain": [
       "         d           ⎛ 2⎞\n",
       "f(x) + h⋅──(f(x)) + O⎝h ⎠\n",
       "         dx              "
      ]
     },
     "execution_count": 77,
     "metadata": {},
     "output_type": "execute_result"
    }
   ],
   "source": [
    "f(x+h).series(h, n=2).doit()"
   ]
  },
  {
   "cell_type": "markdown",
   "metadata": {
    "slideshow": {
     "slide_type": "subslide"
    }
   },
   "source": [
    "Zapišemo enačbo:"
   ]
  },
  {
   "cell_type": "code",
   "execution_count": 78,
   "metadata": {},
   "outputs": [
    {
     "data": {
      "image/png": "[encoded data removed]",
      "text/latex": [
       "$\\displaystyle f{\\left(h + x \\right)} = f{\\left(x \\right)} + h \\frac{d}{d x} f{\\left(x \\right)} + O\\left(h^{2}\\right)$"
      ],
      "text/plain": [
       "                    d           ⎛ 2⎞\n",
       "f(h + x) = f(x) + h⋅──(f(x)) + O⎝h ⎠\n",
       "                    dx              "
      ]
     },
     "execution_count": 78,
     "metadata": {},
     "output_type": "execute_result"
    }
   ],
   "source": [
    "enačba = sym.Eq(f(x+h), f(x+h).series(h, n=2).doit())\n",
    "enačba"
   ]
  },
  {
   "cell_type": "markdown",
   "metadata": {
    "slideshow": {
     "slide_type": "subslide"
    }
   },
   "source": [
    "Rešimo jo za prvi odvod $f'(x)$:"
   ]
  },
  {
   "cell_type": "code",
   "execution_count": 81,
   "metadata": {},
   "outputs": [
    {
     "data": {
      "image/png": "[encoded data removed]",
      "text/latex": [
       "$\\displaystyle \\frac{f{\\left(h + x \\right)} - f{\\left(x \\right)} + O\\left(h^{2}\\right)}{h}$"
      ],
      "text/plain": [
       "                   ⎛ 2⎞\n",
       "f(h + x) - f(x) + O⎝h ⎠\n",
       "───────────────────────\n",
       "           h           "
      ]
     },
     "execution_count": 81,
     "metadata": {},
     "output_type": "execute_result"
    }
   ],
   "source": [
    "f1_naprej_točno = sym.solve(enačba, f(x).diff(x))[0]\n",
    "f1_naprej_točno"
   ]
  },
  {
   "cell_type": "markdown",
   "metadata": {
    "slideshow": {
     "slide_type": "subslide"
    }
   },
   "source": [
    "V kolikor odvoda drugega in višjih redov ne upoštevamo, smo naredili torej napako:"
   ]
  },
  {
   "cell_type": "code",
   "execution_count": 82,
   "metadata": {},
   "outputs": [
    {
     "data": {
      "image/png": "[encoded data removed]",
      "text/latex": [
       "$\\displaystyle O\\left(h\\right)$"
      ],
      "text/plain": [
       "O(h)"
      ]
     },
     "execution_count": 82,
     "metadata": {},
     "output_type": "execute_result"
    }
   ],
   "source": [
    "f1_naprej_O = f1_naprej_točno.expand().getO()\n",
    "f1_naprej_O"
   ]
  },
  {
   "cell_type": "markdown",
   "metadata": {
    "slideshow": {
     "slide_type": "subslide"
    }
   },
   "source": [
    "Napaka $\\mathcal{O}\\left(h^{1}\\right)$ je torej prvega reda in če ta člen zanemarimo, naredimo *napako metode* in dobimo oceno odvoda:"
   ]
  },
  {
   "cell_type": "code",
   "execution_count": 84,
   "metadata": {},
   "outputs": [
    {
     "data": {
      "image/png": "[encoded data removed]",
      "text/latex": [
       "$\\displaystyle - \\frac{f{\\left(x \\right)}}{h} + \\frac{f{\\left(h + x \\right)}}{h}$"
      ],
      "text/plain": [
       "  f(x)   f(h + x)\n",
       "- ──── + ────────\n",
       "   h        h    "
      ]
     },
     "execution_count": 84,
     "metadata": {},
     "output_type": "execute_result"
    }
   ],
   "source": [
    "f1_naprej_ocena = f1_naprej_točno.expand().removeO()\n",
    "f1_naprej_ocena"
   ]
  },
  {
   "cell_type": "markdown",
   "metadata": {
    "slideshow": {
     "slide_type": "subslide"
    }
   },
   "source": [
    "Ugotovimo, da gre za isti izraz, kakor smo ga izpeljali zgoraj, torej je:\n",
    "\n",
    "$$y_i'=\\frac{1}{h}\\left(-y_i+y_{i+1}\\right).$$\n",
    "\n",
    "Uteži torej so:\n",
    "\n",
    "|    Odvod$\\downarrow$ $\\backslash$ Vrednosti $\\rightarrow$   | $y_{i}$   |$y_{i+1}$|\n",
    "|:----------:|:----------:|:----------:|\n",
    "|$y_i'=\\frac{1}{h}\\cdot$| -1 | 1 |"
   ]
  },
  {
   "cell_type": "markdown",
   "metadata": {
    "slideshow": {
     "slide_type": "slide"
    }
   },
   "source": [
    "# Centralna diferenčna shema"
   ]
  },
  {
   "cell_type": "markdown",
   "metadata": {},
   "source": [
    "## Odvod $f'(x)$"
   ]
  },
  {
   "cell_type": "markdown",
   "metadata": {
    "slideshow": {
     "slide_type": "subslide"
    }
   },
   "source": [
    "Najprej si poglejmo razvoj **Taylorjeve vrste nazaj** (angl. *backward Taylor series*):"
   ]
  },
  {
   "cell_type": "code",
   "execution_count": 85,
   "metadata": {},
   "outputs": [
    {
     "data": {
      "image/png": "[encoded data removed]",
      "text/latex": [
       "$\\displaystyle f{\\left(x \\right)} - h \\frac{d}{d x} f{\\left(x \\right)} + \\frac{h^{2} \\frac{d^{2}}{d x^{2}} f{\\left(x \\right)}}{2} + O\\left(h^{3}\\right)$"
      ],
      "text/plain": [
       "                         2              \n",
       "                     2  d               \n",
       "                    h ⋅───(f(x))        \n",
       "                         2              \n",
       "         d             dx           ⎛ 3⎞\n",
       "f(x) - h⋅──(f(x)) + ──────────── + O⎝h ⎠\n",
       "         dx              2              "
      ]
     },
     "execution_count": 85,
     "metadata": {},
     "output_type": "execute_result"
    }
   ],
   "source": [
    "f(x-h).series(h, n=3).doit()"
   ]
  },
  {
   "cell_type": "markdown",
   "metadata": {
    "slideshow": {
     "slide_type": "subslide"
    }
   },
   "source": [
    "Ugotovimo, da se pri razliki vrste naprej in nazaj odštevajo členi sodega reda; definirajmo:"
   ]
  },
  {
   "cell_type": "code",
   "execution_count": 86,
   "metadata": {},
   "outputs": [
    {
     "data": {
      "image/png": "[encoded data removed]",
      "text/latex": [
       "$\\displaystyle 2 h \\frac{d}{d x} f{\\left(x \\right)} + O\\left(h^{3}\\right)$"
      ],
      "text/plain": [
       "    d           ⎛ 3⎞\n",
       "2⋅h⋅──(f(x)) + O⎝h ⎠\n",
       "    dx              "
      ]
     },
     "execution_count": 86,
     "metadata": {},
     "output_type": "execute_result"
    }
   ],
   "source": [
    "def razlika(n=3):\n",
    "    return f(x+h).series(h, n=n).doit()-f(x-h).series(h, n=n).doit()\n",
    "razlika(n=3)"
   ]
  },
  {
   "cell_type": "markdown",
   "metadata": {
    "slideshow": {
     "slide_type": "subslide"
    }
   },
   "source": [
    "Izvedemo sledeče korake:\n",
    "\n",
    "1. Taylorjevo vrsto nazaj odštejemo od vrste naprej, sodi odvodi se odštejejo,\n",
    "2. rešimo enačbo za prvi odvod,\n",
    "3. določimo napako metode,\n",
    "4. določimo oceno odvoda.\n",
    "\n",
    "Izvedimo zgornje korake:"
   ]
  },
  {
   "cell_type": "code",
   "execution_count": 87,
   "metadata": {
    "slideshow": {
     "slide_type": "subslide"
    }
   },
   "outputs": [],
   "source": [
    "f1_cent_točno = sym.solve(\n",
    "           sym.Eq(f(x+h) - f(x-h), razlika(n=3)), # 1 korak\n",
    "           f(x).diff(x))[0]                       # 2.korak\n",
    "f1_cent_O = f1_cent_točno.expand().getO()         # 3.korak\n",
    "f1_cent_ocena = f1_cent_točno.expand().removeO()  # 4.korak"
   ]
  },
  {
   "cell_type": "markdown",
   "metadata": {
    "slideshow": {
     "slide_type": "subslide"
    }
   },
   "source": [
    "Ocena 1. odvoda torej je:"
   ]
  },
  {
   "cell_type": "code",
   "execution_count": 88,
   "metadata": {},
   "outputs": [
    {
     "data": {
      "image/png": "[encoded data removed]",
      "text/latex": [
       "$\\displaystyle - \\frac{f{\\left(- h + x \\right)}}{2 h} + \\frac{f{\\left(h + x \\right)}}{2 h}$"
      ],
      "text/plain": [
       "  f(-h + x)   f(h + x)\n",
       "- ───────── + ────────\n",
       "     2⋅h        2⋅h   "
      ]
     },
     "execution_count": 88,
     "metadata": {},
     "output_type": "execute_result"
    }
   ],
   "source": [
    "f1_cent_ocena"
   ]
  },
  {
   "cell_type": "markdown",
   "metadata": {
    "slideshow": {
     "slide_type": "subslide"
    }
   },
   "source": [
    "Ali:\n",
    "\n",
    "$$y_i'=\\frac{1}{2h}\\left(-y_{i-1}+y_{i+1}\\right)$$\n",
    "\n",
    "Uteži torej so:\n",
    "\n",
    "|    Odvod$\\downarrow$ $\\backslash$ Vrednosti $\\rightarrow$   |$y_{i-1}$ | $y_{i}$   |$y_{i+1}$|\n",
    "|:--------:|:-------------------:|:----------:|:----------:|\n",
    "|$y_i'=\\frac{1}{2h}\\cdot$| -1 | 0 | 1 |"
   ]
  },
  {
   "cell_type": "markdown",
   "metadata": {
    "slideshow": {
     "slide_type": "subslide"
    }
   },
   "source": [
    "Napaka metode pa je torej drugega reda:"
   ]
  },
  {
   "cell_type": "code",
   "execution_count": 89,
   "metadata": {},
   "outputs": [
    {
     "data": {
      "image/png": "[encoded data removed]",
      "text/latex": [
       "$\\displaystyle O\\left(h^{2}\\right)$"
      ],
      "text/plain": [
       " ⎛ 2⎞\n",
       "O⎝h ⎠"
      ]
     },
     "execution_count": 89,
     "metadata": {},
     "output_type": "execute_result"
    }
   ],
   "source": [
    "f1_cent_O"
   ]
  },
  {
   "cell_type": "markdown",
   "metadata": {
    "slideshow": {
     "slide_type": "subslide"
    }
   },
   "source": [
    "## Zgled: $\\exp(-x)$"
   ]
  },
  {
   "cell_type": "markdown",
   "metadata": {},
   "source": [
    "Poglejmo si zgled eksponentne funkcije $f(x)=\\exp(-x)$ in za točko $x=1,0$ izračunajmo prvi odvod $f'(x)=-\\exp(-x)$ pri koraku $h_0=1$ in $h_1=0,1$. \n",
    "\n",
    "Najprej pripravimo tabelo numeričnih vrednosti in točen rezultat:"
   ]
  },
  {
   "cell_type": "code",
   "execution_count": 90,
   "metadata": {},
   "outputs": [],
   "source": [
    "import numpy as np\n",
    "x0 = np.array([0., 1., 2.]) # korak h=1\n",
    "y0 = np.exp(-x0)\n",
    "h0 = x0[1]-x0[0]\n",
    "\n",
    "x1 = np.array([0.9, 1.0, 1.1]) # korak h=0.1\n",
    "y1 = np.exp(-x1)\n",
    "h1 = x1[1]-x1[0]\n",
    "\n",
    "f1_točno0 = - np.exp(-1) # točen rezultat\n",
    "f1_točno1 = - np.exp(-1) # točen rezultat"
   ]
  },
  {
   "cell_type": "markdown",
   "metadata": {
    "slideshow": {
     "slide_type": "subslide"
    }
   },
   "source": [
    "Potem uporabimo shemo naprej:"
   ]
  },
  {
   "cell_type": "code",
   "execution_count": 15,
   "metadata": {},
   "outputs": [
    {
     "data": {
      "image/png": "[encoded data removed]",
      "text/latex": [
       "$\\displaystyle - \\frac{f{\\left(x \\right)}}{h} + \\frac{f{\\left(h + x \\right)}}{h}$"
      ],
      "text/plain": [
       "  f(x)   f(h + x)\n",
       "- ──── + ────────\n",
       "   h        h    "
      ]
     },
     "execution_count": 15,
     "metadata": {},
     "output_type": "execute_result"
    }
   ],
   "source": [
    "f1_naprej_ocena # da se spomnimo"
   ]
  },
  {
   "cell_type": "code",
   "execution_count": 16,
   "metadata": {},
   "outputs": [],
   "source": [
    "f1_naprej0 = (y0[1:]-y0[:-1])/h0   # korak h_0\n",
    "f1_naprej1 = (y1[1:]-y1[:-1])/h1   # korak h_1"
   ]
  },
  {
   "cell_type": "markdown",
   "metadata": {
    "slideshow": {
     "slide_type": "subslide"
    }
   },
   "source": [
    "Izračunajmo napako pri $x=1,0$:"
   ]
  },
  {
   "cell_type": "code",
   "execution_count": 17,
   "metadata": {},
   "outputs": [
    {
     "data": {
      "image/png": "[encoded data removed]",
      "text/latex": [
       "$\\displaystyle -0.1353352832366127$"
      ],
      "text/plain": [
       "-0.1353352832366127"
      ]
     },
     "execution_count": 17,
     "metadata": {},
     "output_type": "execute_result"
    }
   ],
   "source": [
    "f1_točno0 - f1_naprej0[1]"
   ]
  },
  {
   "cell_type": "code",
   "execution_count": 18,
   "metadata": {},
   "outputs": [
    {
     "data": {
      "image/png": "[encoded data removed]",
      "text/latex": [
       "$\\displaystyle -0.017795866437814445$"
      ],
      "text/plain": [
       "-0.017795866437814445"
      ]
     },
     "execution_count": 18,
     "metadata": {},
     "output_type": "execute_result"
    }
   ],
   "source": [
    "f1_točno1 - f1_naprej1[1] # korak h1"
   ]
  },
  {
   "cell_type": "markdown",
   "metadata": {},
   "source": [
    "Potrdimo lahko, da je napaka pri koraku $h/10$ res približno 1/10 tiste pri koraku $h$."
   ]
  },
  {
   "cell_type": "markdown",
   "metadata": {
    "slideshow": {
     "slide_type": "subslide"
    }
   },
   "source": [
    "Poglejmo sedaj še napako za centralno diferenčno shemo, ki je drugega reda:"
   ]
  },
  {
   "cell_type": "code",
   "execution_count": 19,
   "metadata": {},
   "outputs": [
    {
     "data": {
      "image/png": "[encoded data removed]",
      "text/latex": [
       "$\\displaystyle - \\frac{f{\\left(- h + x \\right)}}{2 h} + \\frac{f{\\left(h + x \\right)}}{2 h}$"
      ],
      "text/plain": [
       "  f(-h + x)   f(h + x)\n",
       "- ───────── + ────────\n",
       "     2⋅h        2⋅h   "
      ]
     },
     "execution_count": 19,
     "metadata": {},
     "output_type": "execute_result"
    }
   ],
   "source": [
    "f1_cent_ocena"
   ]
  },
  {
   "cell_type": "code",
   "execution_count": 20,
   "metadata": {},
   "outputs": [],
   "source": [
    "f1_cent0 = (y0[2:]-y0[:-2])/(2*h0) # korak h_0\n",
    "f1_cent1 = (y1[2:]-y1[:-2])/(2*h1) # korak h_1"
   ]
  },
  {
   "cell_type": "markdown",
   "metadata": {
    "slideshow": {
     "slide_type": "subslide"
    }
   },
   "source": [
    "Analizirajmo napako:"
   ]
  },
  {
   "cell_type": "code",
   "execution_count": 21,
   "metadata": {},
   "outputs": [
    {
     "data": {
      "image/png": "[encoded data removed]",
      "text/latex": [
       "$\\displaystyle 0.06445291721025131$"
      ],
      "text/plain": [
       "0.06445291721025131"
      ]
     },
     "execution_count": 21,
     "metadata": {},
     "output_type": "execute_result"
    }
   ],
   "source": [
    "f1_točno0 - f1_cent0[0] # korak h0"
   ]
  },
  {
   "cell_type": "code",
   "execution_count": 22,
   "metadata": {},
   "outputs": [
    {
     "data": {
      "image/png": "[encoded data removed]",
      "text/latex": [
       "$\\displaystyle 0.0006134390411555168$"
      ],
      "text/plain": [
       "0.0006134390411555168"
      ]
     },
     "execution_count": 22,
     "metadata": {},
     "output_type": "execute_result"
    }
   ],
   "source": [
    "f1_točno1 - f1_cent1[0] # korak h1"
   ]
  },
  {
   "cell_type": "markdown",
   "metadata": {},
   "source": [
    "Potrdimo lahko, da je napaka pri koraku $h/10$ res približno 1/100 tiste pri koraku $h$."
   ]
  },
  {
   "cell_type": "markdown",
   "metadata": {
    "slideshow": {
     "slide_type": "subslide"
    }
   },
   "source": [
    "## Odvod $f''(x)$"
   ]
  },
  {
   "cell_type": "markdown",
   "metadata": {},
   "source": [
    "Če Taylorjevo vrsto naprej in nazaj seštejemo, se odštejejo lihi odvodi:"
   ]
  },
  {
   "cell_type": "code",
   "execution_count": 23,
   "metadata": {},
   "outputs": [
    {
     "data": {
      "image/png": "[encoded data removed]",
      "text/latex": [
       "$\\displaystyle 2 f{\\left(x \\right)} + h^{2} \\frac{d^{2}}{d x^{2}} f{\\left(x \\right)} + O\\left(h^{4}\\right)$"
      ],
      "text/plain": [
       "              2              \n",
       "          2  d           ⎛ 4⎞\n",
       "2⋅f(x) + h ⋅───(f(x)) + O⎝h ⎠\n",
       "              2              \n",
       "            dx               "
      ]
     },
     "execution_count": 23,
     "metadata": {},
     "output_type": "execute_result"
    }
   ],
   "source": [
    "def vsota(n=3):\n",
    "    return f(x+h).series(h, n=n).doit() + f(x-h).series(h, n=n).doit()\n",
    "vsota(n=4)"
   ]
  },
  {
   "cell_type": "markdown",
   "metadata": {
    "slideshow": {
     "slide_type": "subslide"
    }
   },
   "source": [
    "Določimo drugi odvod:"
   ]
  },
  {
   "cell_type": "code",
   "execution_count": 91,
   "metadata": {},
   "outputs": [],
   "source": [
    "f2_cent_točno = sym.solve(\n",
    "           sym.Eq(f(x+h) + f(x-h), vsota(n=4)),   # 1 korak\n",
    "           f(x).diff(x,2))[0]                     # 2.korak\n",
    "f2_cent_O = f2_cent_točno.expand().getO()         # 3.korak\n",
    "f2_cent_ocena = f2_cent_točno.expand().removeO()  # 4.korak"
   ]
  },
  {
   "cell_type": "markdown",
   "metadata": {
    "slideshow": {
     "slide_type": "subslide"
    }
   },
   "source": [
    "Ocena drugega odvoda je:"
   ]
  },
  {
   "cell_type": "code",
   "execution_count": 92,
   "metadata": {},
   "outputs": [
    {
     "data": {
      "image/png": "[encoded data removed]",
      "text/latex": [
       "$\\displaystyle - \\frac{2 f{\\left(x \\right)}}{h^{2}} + \\frac{f{\\left(- h + x \\right)}}{h^{2}} + \\frac{f{\\left(h + x \\right)}}{h^{2}}$"
      ],
      "text/plain": [
       "  2⋅f(x)   f(-h + x)   f(h + x)\n",
       "- ────── + ───────── + ────────\n",
       "     2          2          2   \n",
       "    h          h          h    "
      ]
     },
     "execution_count": 92,
     "metadata": {},
     "output_type": "execute_result"
    }
   ],
   "source": [
    "f2_cent_ocena"
   ]
  },
  {
   "cell_type": "markdown",
   "metadata": {
    "slideshow": {
     "slide_type": "subslide"
    }
   },
   "source": [
    "Ali:\n",
    "\n",
    "$$y_i''=\\frac{1}{h^2}\\left(y_{i-1}-2\\,y_{i}+y_{i+1}\\right)$$\n",
    "\n",
    "Uteži torej so:\n",
    "\n",
    "|    Odvod$\\downarrow$ $\\backslash$ Vrednosti $\\rightarrow$   |$y_{i-1}$ | $y_{i}$   |$y_{i+1}$ |\n",
    "|:--------:|:-------------------:|:----------:|:----------:|\n",
    "|$y_i''=\\frac{1}{h^2}\\cdot$ | 1 | -2 | 1 |\n"
   ]
  },
  {
   "cell_type": "markdown",
   "metadata": {},
   "source": [
    "Napaka metode pa je ponovno drugega reda:"
   ]
  },
  {
   "cell_type": "code",
   "execution_count": 93,
   "metadata": {},
   "outputs": [
    {
     "data": {
      "image/png": "[encoded data removed]",
      "text/latex": [
       "$\\displaystyle O\\left(h^{2}\\right)$"
      ],
      "text/plain": [
       " ⎛ 2⎞\n",
       "O⎝h ⎠"
      ]
     },
     "execution_count": 93,
     "metadata": {},
     "output_type": "execute_result"
    }
   ],
   "source": [
    "f2_cent_O"
   ]
  },
  {
   "cell_type": "markdown",
   "metadata": {
    "slideshow": {
     "slide_type": "subslide"
    }
   },
   "source": [
    "## Odvod $f'''(x)$"
   ]
  },
  {
   "cell_type": "markdown",
   "metadata": {},
   "source": [
    "Če želimo določiti tretji odvod, moramo Taylorjevo vrsto razviti do stopnje 5:"
   ]
  },
  {
   "cell_type": "code",
   "execution_count": 98,
   "metadata": {
    "slideshow": {
     "slide_type": "subslide"
    }
   },
   "outputs": [
    {
     "data": {
      "image/png": "[encoded data removed]",
      "text/latex": [
       "$\\displaystyle - f{\\left(- h + x \\right)} + f{\\left(h + x \\right)} = 2 h \\frac{d}{d x} f{\\left(x \\right)} + \\frac{h^{3} \\frac{d^{3}}{d x^{3}} f{\\left(x \\right)}}{3} + O\\left(h^{5}\\right)$"
      ],
      "text/plain": [
       "                                            3              \n",
       "                                        3  d               \n",
       "                                       h ⋅───(f(x))        \n",
       "                                            3              \n",
       "                            d             dx           ⎛ 5⎞\n",
       "-f(-h + x) + f(h + x) = 2⋅h⋅──(f(x)) + ──────────── + O⎝h ⎠\n",
       "                            dx              3              "
      ]
     },
     "execution_count": 98,
     "metadata": {},
     "output_type": "execute_result"
    }
   ],
   "source": [
    "eq_h = sym.Eq(f(x+h)-f(x-h), razlika(n=5))\n",
    "eq_h"
   ]
  },
  {
   "cell_type": "markdown",
   "metadata": {},
   "source": [
    "Uporaba 1. odvoda, ki smo ga izpeljali zgoraj, nam ne bi koristila, saj je red napake $\\mathcal{O}\\left(h^{2}\\right)$, kar pomeni, da bi v zgornji pri deljenju s $h^3$ dobili $\\mathcal{O}\\left(h^{-1}\\right)$."
   ]
  },
  {
   "cell_type": "markdown",
   "metadata": {
    "slideshow": {
     "slide_type": "subslide"
    }
   },
   "source": [
    "Uporabimo trik: ponovimo razvoj, vendar na podlagi dodatnih točk, ki sta od $x$ oddaljeni za $2h$ in $-2h$:"
   ]
  },
  {
   "cell_type": "code",
   "execution_count": 102,
   "metadata": {},
   "outputs": [
    {
     "data": {
      "image/png": "[encoded data removed]",
      "text/latex": [
       "$\\displaystyle - f{\\left(- 2 h + x \\right)} + f{\\left(2 h + x \\right)} = 4 h \\frac{d}{d x} f{\\left(x \\right)} + \\frac{8 h^{3} \\frac{d^{3}}{d x^{3}} f{\\left(x \\right)}}{3} + O\\left(h^{5}\\right)$"
      ],
      "text/plain": [
       "                                                  3              \n",
       "                                              3  d               \n",
       "                                           8⋅h ⋅───(f(x))        \n",
       "                                                  3              \n",
       "                                d               dx           ⎛ 5⎞\n",
       "-f(-2⋅h + x) + f(2⋅h + x) = 4⋅h⋅──(f(x)) + ────────────── + O⎝h ⎠\n",
       "                                dx               3               "
      ]
     },
     "execution_count": 102,
     "metadata": {},
     "output_type": "execute_result"
    }
   ],
   "source": [
    "eq_2h = eq_h.subs(h, 2*h)\n",
    "eq_2h"
   ]
  },
  {
   "cell_type": "markdown",
   "metadata": {
    "slideshow": {
     "slide_type": "subslide"
    }
   },
   "source": [
    "Sedaj imamo dve enačbi in dve neznanki; sistem bomo rešili po korakih:\n",
    "\n",
    "1. enačbo `eq_h` rešimo za prvi odvod,\n",
    "2. enačbo `eq_2h` rešimo za prvi odvod,\n",
    "3. enačimo rezultata prvih dveh korakov in rešimo za tretji odvod,\n",
    "4. določimo napako metode,\n",
    "5. določimo oceno odvoda.\n",
    "\n",
    "Izvedimo navedene korake:"
   ]
  },
  {
   "cell_type": "code",
   "execution_count": 105,
   "metadata": {
    "slideshow": {
     "slide_type": "subslide"
    }
   },
   "outputs": [],
   "source": [
    "f3_cent_točno = sym.solve(\n",
    "        sym.Eq(sym.solve(eq_h, f(x).diff(x))[0],  # 1. korak\n",
    "        sym.solve(eq_2h, f(x).diff(x))[0]),       # 2. korak\n",
    "        f(x).diff(x,3))[0]                        # 3. korak\n",
    "f3_cent_O = f3_cent_točno.expand().getO()         # 4.korak\n",
    "f3_cent_ocena = f3_cent_točno.expand().removeO()  # 5.korak"
   ]
  },
  {
   "cell_type": "markdown",
   "metadata": {
    "slideshow": {
     "slide_type": "subslide"
    }
   },
   "source": [
    "Ocena 3. odvoda je:"
   ]
  },
  {
   "cell_type": "code",
   "execution_count": 106,
   "metadata": {},
   "outputs": [
    {
     "data": {
      "image/png": "[encoded data removed]",
      "text/latex": [
       "$\\displaystyle - \\frac{f{\\left(- 2 h + x \\right)}}{2 h^{3}} + \\frac{f{\\left(- h + x \\right)}}{h^{3}} - \\frac{f{\\left(h + x \\right)}}{h^{3}} + \\frac{f{\\left(2 h + x \\right)}}{2 h^{3}}$"
      ],
      "text/plain": [
       "  f(-2⋅h + x)   f(-h + x)   f(h + x)   f(2⋅h + x)\n",
       "- ─────────── + ───────── - ──────── + ──────────\n",
       "         3           3          3            3   \n",
       "      2⋅h           h          h          2⋅h    "
      ]
     },
     "execution_count": 106,
     "metadata": {},
     "output_type": "execute_result"
    }
   ],
   "source": [
    "f3_cent_ocena"
   ]
  },
  {
   "cell_type": "markdown",
   "metadata": {
    "slideshow": {
     "slide_type": "subslide"
    }
   },
   "source": [
    "Ali:\n",
    "\n",
    "$$y_i'''=\\frac{1}{h^3}\\left(-y_{i-2}/2+y_{i-1}-y_{i+1}+y_{i+2}/2\\right)$$\n",
    "\n",
    "Uteži torej so:\n",
    "\n",
    "|    Odvod$\\downarrow$ $\\backslash$ Vrednosti $\\rightarrow$   |$y_{i-2}$|$y_{i-1}$ | $y_{i}$   |$y_{i+1}$ |$y_{i+2}$|\n",
    "|:--------:|:-------------------:|:----------:|:----------:|:----------:|:----------:|\n",
    "|$y_i'''=\\frac{1}{h^3}\\cdot$| -0.5 | 1 | 0 | -1 | 0.5|"
   ]
  },
  {
   "cell_type": "markdown",
   "metadata": {},
   "source": [
    "Potrdimo, da je napaka metode drugega reda:"
   ]
  },
  {
   "cell_type": "code",
   "execution_count": 31,
   "metadata": {},
   "outputs": [
    {
     "data": {
      "image/png": "[encoded data removed]",
      "text/latex": [
       "$\\displaystyle O\\left(h^{2}\\right)$"
      ],
      "text/plain": [
       " ⎛ 2⎞\n",
       "O⎝h ⎠"
      ]
     },
     "execution_count": 31,
     "metadata": {},
     "output_type": "execute_result"
    }
   ],
   "source": [
    "f3_cent_O"
   ]
  },
  {
   "cell_type": "markdown",
   "metadata": {
    "slideshow": {
     "slide_type": "subslide"
    }
   },
   "source": [
    "## Odvod $f^{(4)}(x)$"
   ]
  },
  {
   "cell_type": "markdown",
   "metadata": {},
   "source": [
    "Ponovimo podoben postopek kot za 3. odvod, vendar za 4. odvod seštevamo Taylorjevo vrsto (do stopnje 6) naprej in nazaj:"
   ]
  },
  {
   "cell_type": "code",
   "execution_count": 32,
   "metadata": {
    "slideshow": {
     "slide_type": "subslide"
    }
   },
   "outputs": [
    {
     "data": {
      "image/png": "[encoded data removed]",
      "text/latex": [
       "$\\displaystyle f{\\left(- h + x \\right)} + f{\\left(h + x \\right)} = 2 f{\\left(x \\right)} + h^{2} \\frac{d^{2}}{d x^{2}} f{\\left(x \\right)} + \\frac{h^{4} \\frac{d^{4}}{d x^{4}} f{\\left(x \\right)}}{12} + O\\left(h^{6}\\right)$"
      ],
      "text/plain": [
       "                                                    4              \n",
       "                                                4  d               \n",
       "                                               h ⋅───(f(x))        \n",
       "                                     2              4              \n",
       "                                 2  d             dx           ⎛ 6⎞\n",
       "f(-h + x) + f(h + x) = 2⋅f(x) + h ⋅───(f(x)) + ──────────── + O⎝h ⎠\n",
       "                                     2              12             \n",
       "                                   dx                              "
      ]
     },
     "execution_count": 32,
     "metadata": {},
     "output_type": "execute_result"
    }
   ],
   "source": [
    "eq_h = sym.Eq(f(x+h)+f(x-h), vsota(n=6))\n",
    "eq_h"
   ]
  },
  {
   "cell_type": "markdown",
   "metadata": {
    "slideshow": {
     "slide_type": "subslide"
    }
   },
   "source": [
    "Pripravimo dodatno enačbo na podlagi točk, ki sta od $x$ oddaljeni za $2h$ in $-2h$:"
   ]
  },
  {
   "cell_type": "code",
   "execution_count": 33,
   "metadata": {},
   "outputs": [
    {
     "data": {
      "image/png": "[encoded data removed]",
      "text/latex": [
       "$\\displaystyle f{\\left(- 2 h + x \\right)} + f{\\left(2 h + x \\right)} = 2 f{\\left(x \\right)} + 4 h^{2} \\frac{d^{2}}{d x^{2}} f{\\left(x \\right)} + \\frac{4 h^{4} \\frac{d^{4}}{d x^{4}} f{\\left(x \\right)}}{3} + O\\left(h^{6}\\right)$"
      ],
      "text/plain": [
       "                                                            4              \n",
       "                                                        4  d               \n",
       "                                                     4⋅h ⋅───(f(x))        \n",
       "                                           2                4              \n",
       "                                       2  d               dx           ⎛ 6⎞\n",
       "f(-2⋅h + x) + f(2⋅h + x) = 2⋅f(x) + 4⋅h ⋅───(f(x)) + ────────────── + O⎝h ⎠\n",
       "                                           2               3               \n",
       "                                         dx                                "
      ]
     },
     "execution_count": 33,
     "metadata": {},
     "output_type": "execute_result"
    }
   ],
   "source": [
    "eq_2h = eq_h.subs(h, 2*h)\n",
    "eq_2h"
   ]
  },
  {
   "cell_type": "markdown",
   "metadata": {
    "slideshow": {
     "slide_type": "subslide"
    }
   },
   "source": [
    "Iz dveh enačb določimo 4. odvod:"
   ]
  },
  {
   "cell_type": "code",
   "execution_count": 34,
   "metadata": {
    "slideshow": {
     "slide_type": "subslide"
    }
   },
   "outputs": [],
   "source": [
    "f4_cent_točno = sym.solve(\n",
    "        sym.Eq(sym.solve(eq_h, f(x).diff(x,2))[0],  # 1. korak\n",
    "        sym.solve(eq_2h, f(x).diff(x,2))[0]),       # 2. korak\n",
    "        f(x).diff(x,4))[0]                          # 3. korak\n",
    "f4_cent_O = f4_cent_točno.expand().getO()           # 4.korak\n",
    "f4_cent_ocena = f4_cent_točno.expand().removeO()    # 5.korak"
   ]
  },
  {
   "cell_type": "markdown",
   "metadata": {
    "slideshow": {
     "slide_type": "subslide"
    }
   },
   "source": [
    "Ocena 4. odvoda je:"
   ]
  },
  {
   "cell_type": "code",
   "execution_count": 35,
   "metadata": {},
   "outputs": [
    {
     "data": {
      "image/png": "[encoded data removed]",
      "text/latex": [
       "$\\displaystyle \\frac{6 f{\\left(x \\right)}}{h^{4}} + \\frac{f{\\left(- 2 h + x \\right)}}{h^{4}} - \\frac{4 f{\\left(- h + x \\right)}}{h^{4}} - \\frac{4 f{\\left(h + x \\right)}}{h^{4}} + \\frac{f{\\left(2 h + x \\right)}}{h^{4}}$"
      ],
      "text/plain": [
       "6⋅f(x)   f(-2⋅h + x)   4⋅f(-h + x)   4⋅f(h + x)   f(2⋅h + x)\n",
       "────── + ─────────── - ─────────── - ────────── + ──────────\n",
       "   4           4             4            4            4    \n",
       "  h           h             h            h            h     "
      ]
     },
     "execution_count": 35,
     "metadata": {},
     "output_type": "execute_result"
    }
   ],
   "source": [
    "f4_cent_ocena"
   ]
  },
  {
   "cell_type": "markdown",
   "metadata": {
    "slideshow": {
     "slide_type": "subslide"
    }
   },
   "source": [
    "Ali:\n",
    "\n",
    "$$y_i^{(4)}=\\frac{1}{h^4}\\left(y_{i-2}-4\\,y_{i-1}+6\\,y_i-4\\,y_{i+1}+y_{i+2}\\right)$$\n",
    "\n",
    "Uteži torej so:\n",
    "\n",
    "|    Odvod$\\downarrow$ $\\backslash$ Vrednosti $\\rightarrow$   |$y_{i-2}$|$y_{i-1}$ | $y_{i}$   |$y_{i+1}$ |$y_{i+2}$|\n",
    "|:--------:|:-------------------:|:----------:|:----------:|:----------:|:----------:|\n",
    "|$y_i^{(4)}=\\frac{1}{h^4}\\cdot$| 1 | -4 | 6 | -4 | 1|"
   ]
  },
  {
   "cell_type": "markdown",
   "metadata": {},
   "source": [
    "Potrdimo, da je napaka metode drugega reda:"
   ]
  },
  {
   "cell_type": "code",
   "execution_count": 36,
   "metadata": {},
   "outputs": [
    {
     "data": {
      "image/png": "[encoded data removed]",
      "text/latex": [
       "$\\displaystyle O\\left(h^{2}\\right)$"
      ],
      "text/plain": [
       " ⎛ 2⎞\n",
       "O⎝h ⎠"
      ]
     },
     "execution_count": 36,
     "metadata": {},
     "output_type": "execute_result"
    }
   ],
   "source": [
    "f4_cent_O"
   ]
  },
  {
   "cell_type": "markdown",
   "metadata": {
    "slideshow": {
     "slide_type": "subslide"
    }
   },
   "source": [
    "## Povzetek centralne diferenčne sheme*"
   ]
  },
  {
   "cell_type": "markdown",
   "metadata": {},
   "source": [
    "Zgoraj smo izpeljali prve štiri odvode z napako metode 2. reda. Bistvo zgornjih izpeljav je, da nam dajo **uteži**, s katerimi moramo množiti funkcijske vrednosti, da izračunamo približek določenega odvoda. Iz tega razloga bomo tukaj te uteži zbrali. Če ste neučakani, lahko skočite na tabelo spodaj. Z branjem nadaljujte, če pa želite spoznati, kako predhodno izpeljane izraze strojno uredimo."
   ]
  },
  {
   "cell_type": "markdown",
   "metadata": {
    "slideshow": {
     "slide_type": "subslide"
    }
   },
   "source": [
    "Najprej zberimo vse ocene odvodov v seznam:"
   ]
  },
  {
   "cell_type": "code",
   "execution_count": 37,
   "metadata": {},
   "outputs": [
    {
     "data": {
      "image/png": "[encoded data removed]",
      "text/latex": [
       "$\\displaystyle \\left[ - \\frac{f{\\left(- h + x \\right)}}{2 h} + \\frac{f{\\left(h + x \\right)}}{2 h}, \\  - \\frac{2 f{\\left(x \\right)}}{h^{2}} + \\frac{f{\\left(- h + x \\right)}}{h^{2}} + \\frac{f{\\left(h + x \\right)}}{h^{2}}, \\  - \\frac{f{\\left(- 2 h + x \\right)}}{2 h^{3}} + \\frac{f{\\left(- h + x \\right)}}{h^{3}} - \\frac{f{\\left(h + x \\right)}}{h^{3}} + \\frac{f{\\left(2 h + x \\right)}}{2 h^{3}}, \\  \\frac{6 f{\\left(x \\right)}}{h^{4}} + \\frac{f{\\left(- 2 h + x \\right)}}{h^{4}} - \\frac{4 f{\\left(- h + x \\right)}}{h^{4}} - \\frac{4 f{\\left(h + x \\right)}}{h^{4}} + \\frac{f{\\left(2 h + x \\right)}}{h^{4}}\\right]$"
      ],
      "text/plain": [
       "⎡  f(-h + x)   f(h + x)    2⋅f(x)   f(-h + x)   f(h + x)    f(-2⋅h + x)   f(-h\n",
       "⎢- ───────── + ────────, - ────── + ───────── + ────────, - ─────────── + ────\n",
       "⎢     2⋅h        2⋅h          2          2          2              3          \n",
       "⎣                            h          h          h            2⋅h           \n",
       "\n",
       " + x)   f(h + x)   f(2⋅h + x)  6⋅f(x)   f(-2⋅h + x)   4⋅f(-h + x)   4⋅f(h + x)\n",
       "───── - ──────── + ──────────, ────── + ─────────── - ─────────── - ──────────\n",
       " 3          3            3        4           4             4            4    \n",
       "h          h          2⋅h        h           h             h            h     \n",
       "\n",
       "   f(2⋅h + x)⎤\n",
       " + ──────────⎥\n",
       "        4    ⎥\n",
       "       h     ⎦"
      ]
     },
     "execution_count": 37,
     "metadata": {},
     "output_type": "execute_result"
    }
   ],
   "source": [
    "odvodi = [f1_cent_ocena, f2_cent_ocena, f3_cent_ocena, f4_cent_ocena]\n",
    "odvodi"
   ]
  },
  {
   "cell_type": "markdown",
   "metadata": {
    "slideshow": {
     "slide_type": "subslide"
    }
   },
   "source": [
    "Na razpolago imamo 5 funkcijskih vrednosti (pri legah $x-2h, x-h, x, x+h, x+2h$), ki jih damo v seznam:"
   ]
  },
  {
   "cell_type": "code",
   "execution_count": 38,
   "metadata": {
    "slideshow": {
     "slide_type": "-"
    }
   },
   "outputs": [],
   "source": [
    "funkcijske_vrednosti = [f(x-2*h), f(x-h), f(x), f(x+h), f(x+2*h)]"
   ]
  },
  {
   "cell_type": "markdown",
   "metadata": {
    "slideshow": {
     "slide_type": "subslide"
    }
   },
   "source": [
    "Utež prvega odvoda za funkcijsko vrednosti $f(x-h)$ izračunamo:"
   ]
  },
  {
   "cell_type": "code",
   "execution_count": 39,
   "metadata": {},
   "outputs": [
    {
     "data": {
      "image/png": "[encoded data removed]",
      "text/latex": [
       "$\\displaystyle - \\frac{1}{2 h}$"
      ],
      "text/plain": [
       "-1 \n",
       "───\n",
       "2⋅h"
      ]
     },
     "execution_count": 39,
     "metadata": {},
     "output_type": "execute_result"
    }
   ],
   "source": [
    "f1_cent_ocena.expand().coeff(funkcijske_vrednosti[1])"
   ]
  },
  {
   "cell_type": "markdown",
   "metadata": {
    "slideshow": {
     "slide_type": "subslide"
    }
   },
   "source": [
    "Sedaj posplošimo in izračunajmo uteži za vse funkcijske vrednosti in za vse ocene odvodov:"
   ]
  },
  {
   "cell_type": "code",
   "execution_count": 40,
   "metadata": {},
   "outputs": [
    {
     "data": {
      "image/png": "[encoded data removed]",
      "text/latex": [
       "$\\displaystyle \\left[ \\left[ 0, \\  - \\frac{1}{2 h}, \\  0, \\  \\frac{1}{2 h}, \\  0\\right], \\  \\left[ 0, \\  \\frac{1}{h^{2}}, \\  - \\frac{2}{h^{2}}, \\  \\frac{1}{h^{2}}, \\  0\\right], \\  \\left[ - \\frac{1}{2 h^{3}}, \\  \\frac{1}{h^{3}}, \\  0, \\  - \\frac{1}{h^{3}}, \\  \\frac{1}{2 h^{3}}\\right], \\  \\left[ \\frac{1}{h^{4}}, \\  - \\frac{4}{h^{4}}, \\  \\frac{6}{h^{4}}, \\  - \\frac{4}{h^{4}}, \\  \\frac{1}{h^{4}}\\right]\\right]$"
      ],
      "text/plain": [
       "⎡⎡   -1       1    ⎤  ⎡   1   -2   1    ⎤  ⎡-1    1      -1    1  ⎤  ⎡1   -4  \n",
       "⎢⎢0, ───, 0, ───, 0⎥, ⎢0, ──, ───, ──, 0⎥, ⎢────, ──, 0, ───, ────⎥, ⎢──, ───,\n",
       "⎢⎣   2⋅h     2⋅h   ⎦  ⎢    2    2   2   ⎥  ⎢   3   3       3     3⎥  ⎢ 4    4 \n",
       "⎣                     ⎣   h    h   h    ⎦  ⎣2⋅h   h       h   2⋅h ⎦  ⎣h    h  \n",
       "\n",
       " 6   -4   1 ⎤⎤\n",
       " ──, ───, ──⎥⎥\n",
       "  4    4   4⎥⎥\n",
       " h    h   h ⎦⎦"
      ]
     },
     "execution_count": 40,
     "metadata": {},
     "output_type": "execute_result"
    }
   ],
   "source": [
    "centralna_diff_shema = [[odvod.expand().coeff(fv) for fv in funkcijske_vrednosti] \\\n",
    "                        for odvod in odvodi]\n",
    "centralna_diff_shema"
   ]
  },
  {
   "cell_type": "markdown",
   "metadata": {
    "slideshow": {
     "slide_type": "subslide"
    }
   },
   "source": [
    "Zgornje povzetke lahko tudi zapišemo v tabelarični obliki:\n",
    "\n",
    "|    Odvod$\\downarrow$ $\\backslash$ Vrednosti $\\rightarrow$   |$y_{i-2}$|$y_{i-1}$ | $y_{i}$   |$y_{i+1}$ |$y_{i+2}$|\n",
    "|:--------:|:-------------------:|:----------:|:----------:|:----------:|:----------:|\n",
    "|$y_i'=\\frac{1}{h}\\cdot$| 0     | -0.5 | 0 | 0.5 | 0|\n",
    "|$y_i''=\\frac{1}{h^2}\\cdot$| 0 | 1 | -2 | 1 | 0|\n",
    "|$y_i'''=\\frac{1}{h^3}\\cdot$| -0.5 | 1 | 0 | -1 | 0.5|\n",
    "|$y_i^{(4)}=\\frac{1}{h^4}\\cdot$| 1 | -4 | 6 | -4 | 1|\n",
    "\n",
    "Prikazana centralna diferenčna shema ima napako 2. reda $\\mathcal{O}(h^{2})$."
   ]
  },
  {
   "cell_type": "markdown",
   "metadata": {
    "slideshow": {
     "slide_type": "subslide"
    }
   },
   "source": [
    "## Uporaba ``scipy.misc.central_diff_weight``"
   ]
  },
  {
   "cell_type": "markdown",
   "metadata": {},
   "source": [
    "Uteži za centralno diferenčno metodo lahko izračunamo tudi z uporabo ``scipy.misc.central_diff_weight()`` ([dokumentacija](https://docs.scipy.org/doc/scipy/reference/generated/scipy.misc.central_diff_weights.html)):\n",
    "\n",
    "```python\n",
    "central_diff_weights(Np, ndiv=1)\n",
    "```\n",
    "\n",
    "`Np` predstavlja število točk, čez katere želimo izračunati odvod, `ndiv` pa stopnjo odvoda (privzeto 1).\n",
    "Za več informacij glejte [dokumentacijo](https://docs.scipy.org/doc/scipy/reference/generated/scipy.misc.central_diff_weights.html)."
   ]
  },
  {
   "cell_type": "markdown",
   "metadata": {
    "slideshow": {
     "slide_type": "subslide"
    }
   },
   "source": [
    "Uvozimo funkcijo:"
   ]
  },
  {
   "cell_type": "code",
   "execution_count": 107,
   "metadata": {},
   "outputs": [],
   "source": [
    "from scipy.misc import central_diff_weights"
   ]
  },
  {
   "cell_type": "markdown",
   "metadata": {},
   "source": [
    "3$.$ odvod (čez pet točk), napaka reda  $\\mathcal{O}(h^{2})$:"
   ]
  },
  {
   "cell_type": "code",
   "execution_count": 112,
   "metadata": {},
   "outputs": [
    {
     "data": {
      "text/plain": [
       "array([-0.5,  1. ,  0. , -1. ,  0.5])"
      ]
     },
     "execution_count": 112,
     "metadata": {},
     "output_type": "execute_result"
    }
   ],
   "source": [
    "central_diff_weights(Np=5, ndiv=3)"
   ]
  },
  {
   "cell_type": "markdown",
   "metadata": {
    "slideshow": {
     "slide_type": "subslide"
    }
   },
   "source": [
    "Opomba: ``SymPy.finite_diff_weights`` omogoča izračun uteži tudi pri nekonstantnem koraku; v podrobnosti ne bomo šli in radovednega bralca napotimo na [dokumentacijo](http://docs.sympy.org/latest/modules/calculus/index.html#sympy.calculus.finite_diff.finite_diff_weights)."
   ]
  },
  {
   "cell_type": "markdown",
   "metadata": {
    "slideshow": {
     "slide_type": "subslide"
    }
   },
   "source": [
    "## Izboljšan približek - Richardsonova ekstrapolacija"
   ]
  },
  {
   "cell_type": "markdown",
   "metadata": {},
   "source": [
    "Če je točen odvod je izračunan kot:\n",
    "\n",
    "$$f'(x_i)=f_o'(x_i)+e,$$\n",
    "\n",
    "kjer je $f_o'(x_i)$ numerično izračunan odvod v točki $x_i$ in $e$ ocena napake."
   ]
  },
  {
   "cell_type": "markdown",
   "metadata": {
    "slideshow": {
     "slide_type": "subslide"
    }
   },
   "source": [
    "Za metodo reda točnosti $n$: $\\mathcal{O}(h^{n})$ pri koraku $h$ velja:\n",
    "$$f'(x_i)=f_o'(x_i, h)+K\\,h^n,$$\n",
    "kjer je $K$ neznana konstanta. \n",
    "\n",
    "Če korak razpolovimo in predostavimo, da se $K$ ne spremeni, velja:\n",
    "$$f'(x_i)=f_o'\\left(x_i, \\frac{h}{2}\\right)+K\\,\\left(\\frac{h}{2}\\right)^n.$$"
   ]
  },
  {
   "cell_type": "markdown",
   "metadata": {
    "slideshow": {
     "slide_type": "subslide"
    }
   },
   "source": [
    "Iz obeh enačb izločimo konstanto $K$ in določimo izboljšan približek:\n",
    "$$\\overline{f}'(x_i)=\\frac{2^n\\,f_o'\\left(x_i, \\frac{h}{2}\\right)-f_o'(x_i, h)}{2^n-1}$$"
   ]
  },
  {
   "cell_type": "markdown",
   "metadata": {
    "slideshow": {
     "slide_type": "subslide"
    }
   },
   "source": [
    "### Zgled \n",
    "\n",
    "Poglejmo si zgled $f(x)=\\sin(x)$ (analitični odvod je: $f'(x)=\\cos(x)$):"
   ]
  },
  {
   "cell_type": "code",
   "execution_count": 43,
   "metadata": {},
   "outputs": [],
   "source": [
    "x = np.linspace(0, 2*np.pi, 9)\n",
    "y = np.sin(x)"
   ]
  },
  {
   "cell_type": "markdown",
   "metadata": {
    "slideshow": {
     "slide_type": "subslide"
    }
   },
   "source": [
    "Pri koraku $h$ imamo funkcijske vrednosti definirane pri:"
   ]
  },
  {
   "cell_type": "code",
   "execution_count": 44,
   "metadata": {},
   "outputs": [
    {
     "data": {
      "text/plain": [
       "array([0.        , 0.78539816, 1.57079633, 2.35619449, 3.14159265,\n",
       "       3.92699082, 4.71238898, 5.49778714, 6.28318531])"
      ]
     },
     "execution_count": 44,
     "metadata": {},
     "output_type": "execute_result"
    }
   ],
   "source": [
    "x"
   ]
  },
  {
   "cell_type": "markdown",
   "metadata": {
    "slideshow": {
     "slide_type": "subslide"
    }
   },
   "source": [
    "Numerični odvod pri $x=\\pi$:"
   ]
  },
  {
   "cell_type": "code",
   "execution_count": 45,
   "metadata": {},
   "outputs": [
    {
     "data": {
      "image/png": "[encoded data removed]",
      "text/latex": [
       "$\\displaystyle 3.141592653589793$"
      ],
      "text/plain": [
       "3.141592653589793"
      ]
     },
     "execution_count": 45,
     "metadata": {},
     "output_type": "execute_result"
    }
   ],
   "source": [
    "x[4]"
   ]
  },
  {
   "cell_type": "markdown",
   "metadata": {},
   "source": [
    "in koraku $h$ je"
   ]
  },
  {
   "cell_type": "code",
   "execution_count": 46,
   "metadata": {},
   "outputs": [
    {
     "data": {
      "image/png": "[encoded data removed]",
      "text/latex": [
       "$\\displaystyle -0.9003163161571061$"
      ],
      "text/plain": [
       "-0.9003163161571061"
      ]
     },
     "execution_count": 46,
     "metadata": {},
     "output_type": "execute_result"
    }
   ],
   "source": [
    "h = x[1] - x[0]\n",
    "f_ocena_h = (-0.5*y[3] + 0.5*y[5])/h\n",
    "f_ocena_h"
   ]
  },
  {
   "cell_type": "markdown",
   "metadata": {
    "slideshow": {
     "slide_type": "subslide"
    }
   },
   "source": [
    "Izračun pri koraku $2h$:"
   ]
  },
  {
   "cell_type": "code",
   "execution_count": 47,
   "metadata": {},
   "outputs": [
    {
     "data": {
      "image/png": "[encoded data removed]",
      "text/latex": [
       "$\\displaystyle -0.6366197723675814$"
      ],
      "text/plain": [
       "-0.6366197723675814"
      ]
     },
     "execution_count": 47,
     "metadata": {},
     "output_type": "execute_result"
    }
   ],
   "source": [
    "h2 = x[2] - x[0]\n",
    "f_ocena_2h = (-0.5*y[2] + 0.5*y[6])/h2\n",
    "f_ocena_2h"
   ]
  },
  {
   "cell_type": "markdown",
   "metadata": {
    "slideshow": {
     "slide_type": "subslide"
    }
   },
   "source": [
    "Izračunajmo izboljšano oceno za $x=\\pi$:"
   ]
  },
  {
   "cell_type": "code",
   "execution_count": 48,
   "metadata": {},
   "outputs": [
    {
     "data": {
      "image/png": "[encoded data removed]",
      "text/latex": [
       "$\\displaystyle -0.9882151640869475$"
      ],
      "text/plain": [
       "-0.9882151640869475"
      ]
     },
     "execution_count": 48,
     "metadata": {},
     "output_type": "execute_result"
    }
   ],
   "source": [
    "f_ocena_izboljšana = (2**2 * f_ocena_h - f_ocena_2h)/(2**2-1)\n",
    "f_ocena_izboljšana"
   ]
  },
  {
   "cell_type": "markdown",
   "metadata": {},
   "source": [
    "Vidimo, da je izboljšana ocena najbližje teoretični vrednosti $\\cos(\\pi)=-1$."
   ]
  },
  {
   "cell_type": "markdown",
   "metadata": {
    "slideshow": {
     "slide_type": "slide"
    }
   },
   "source": [
    "# Necentralna diferenčna shema"
   ]
  },
  {
   "cell_type": "markdown",
   "metadata": {},
   "source": [
    "Centralna diferenčna shema, ki smo jo spoznali zgoraj, je zelo uporabna in relativno natančna. Ker pa je ne moremo vedno uporabiti (recimo na začetku ali koncu tabele), si moramo pomagati z **necentralnimi diferenčnimi shemami** za računanje odvodov."
   ]
  },
  {
   "cell_type": "markdown",
   "metadata": {
    "slideshow": {
     "slide_type": "subslide"
    }
   },
   "source": [
    "Poznamo:\n",
    "\n",
    "* **diferenčno shemo naprej**, ki odvod točke aproksimira z vrednostmi funkcije v naslednjih  točkah in \n",
    "* **diferenčno shemo nazaj**, ki odvod točke aproksimira z vrednostmi v predhodnih točkah.\n",
    "\n",
    "Izpeljave so podobne, kakor smo prikazali za centralno diferenčno shemo, zato jih tukaj ne bomo obravnavali in bomo prikazali samo končni rezultat."
   ]
  },
  {
   "cell_type": "markdown",
   "metadata": {
    "slideshow": {
     "slide_type": "subslide"
    }
   },
   "source": [
    "## Diferenčna shema naprej"
   ]
  },
  {
   "cell_type": "markdown",
   "metadata": {},
   "source": [
    "Diferenčna shema naprej z redom napake $\\mathcal{O}(h^{1})$:\n",
    "\n",
    "|  Odvod$\\downarrow$ $\\backslash$ Vrednosti $\\rightarrow$        |$y_{i}$|$y_{i+1}$ | $y_{i+2}$   |$y_{i+3}$ |$y_{i+4}$|\n",
    "|:--------:|:-------------------:|:----------:|:----------:|:----------:|:----------:|\n",
    "|$y_i'=\\frac{1}{h}\\cdot$| -1     | 1 | 0 | 0 | 0|\n",
    "|$y_i''=\\frac{1}{h^2}\\cdot$| 1 | -2 | 1 | 0 | 0|\n",
    "|$y_i'''=\\frac{1}{h^3}\\cdot$| -1 | 3 | -3| 1 | 0|\n",
    "|$y_i^{(4)}=\\frac{1}{h^4}\\cdot$| 1 | -4 | 6 | -4 | 1|"
   ]
  },
  {
   "cell_type": "markdown",
   "metadata": {
    "slideshow": {
     "slide_type": "subslide"
    }
   },
   "source": [
    "Diferenčna shema naprej z redom napake $\\mathcal{O}(h^{2})$:\n",
    "\n",
    "|  Odvod$\\downarrow$ $\\backslash$ Vrednosti $\\rightarrow$        |$y_{i}$|$y_{i+1}$ | $y_{i+2}$   |$y_{i+3}$ |$y_{i+4}$|$y_{i+5}$|\n",
    "|:--------:|:-------------------:|:----------:|:----------:|:----------:|:----------:|:----------:|\n",
    "|$y_i'=\\frac{1}{2h}\\cdot$| -3 | 4 | -1| 0 | 0|  0| \n",
    "|$y_i''=\\frac{1}{h^2}\\cdot$| 2 | -5 | 4 | -1| 0| 0| \n",
    "|$y_i'''=\\frac{1}{2h^3}\\cdot$| -5 | 18| -24| 14| -3| 0| \n",
    "|$y_i^{(4)}=\\frac{1}{h^4}\\cdot$| 3 | -14 | 26 | -24 | 11| -2| "
   ]
  },
  {
   "cell_type": "markdown",
   "metadata": {
    "slideshow": {
     "slide_type": "subslide"
    }
   },
   "source": [
    "## Diferenčna shema nazaj"
   ]
  },
  {
   "cell_type": "markdown",
   "metadata": {},
   "source": [
    "Diferenčna shema nazaj z redom napake $\\mathcal{O}(h^{1})$:\n",
    "\n",
    "| Odvod$\\downarrow$ $\\backslash$ Vrednosti $\\rightarrow$         |$y_{i-4}$|$y_{i-3}$ | $y_{i-2}$   |$y_{i-1}$ |$y_{i}$|\n",
    "|:--------:|:-------------------:|:----------:|:----------:|:----------:|:----------:|\n",
    "|$y_i'=\\frac{1}{h}\\cdot$| 0 | 0| 0 | -1| 1|\n",
    "|$y_i''=\\frac{1}{h^2}\\cdot$| 0 | 0 | 1 | -2| 1|\n",
    "|$y_i'''=\\frac{1}{h^3}\\cdot$| 0 | -1| 3| -3| 1|\n",
    "|$y_i^{(4)}=\\frac{1}{h^4}\\cdot$| 1 | -4 | 6 | -4 | 1|"
   ]
  },
  {
   "cell_type": "markdown",
   "metadata": {
    "slideshow": {
     "slide_type": "subslide"
    }
   },
   "source": [
    "Diferenčna shema nazaj z redom napake $\\mathcal{O}(h^{2})$:\n",
    "\n",
    "| Odvod$\\downarrow$ $\\backslash$ Vrednosti $\\rightarrow$         |$y_{i-5}$|$y_{i-4}$|$y_{i-3}$ | $y_{i-2}$   |$y_{i-1}$ |$y_{i}$|\n",
    "|:--------:|:-------------------:|:----------:|:----------:|:----------:|:----------:|:----------:|\n",
    "|$y_i'=\\frac{1}{2h}\\cdot$| 0 | 0| 0| 1 |-4| 3| \n",
    "|$y_i''=\\frac{1}{h^2}\\cdot$| 0 | 0 | -1| 4|-5| 2| \n",
    "|$y_i'''=\\frac{1}{2h^3}\\cdot$| 0 | 3| -14| 24|-18| 5| \n",
    "|$y_i^{(4)}=\\frac{1}{h^4}\\cdot$| -2| 11| -24| 26 | -14| 3| "
   ]
  },
  {
   "cell_type": "markdown",
   "metadata": {
    "slideshow": {
     "slide_type": "slide"
    }
   },
   "source": [
    "# Uporaba ``numpy.gradient``"
   ]
  },
  {
   "cell_type": "markdown",
   "metadata": {},
   "source": [
    "Za izračun numeričnih odvodov (centralna diferenčna shema 2. reda) lahko uporabimo tudi ``numpy.gradient()`` ([dokumentacija](http://docs.scipy.org/doc/numpy/reference/generated/numpy.gradient.html)):\n",
    "\n",
    "```python\n",
    "gradient(f, *varargs, **kwargs)\n",
    "```\n",
    "\n",
    "kjer `f` predstavlja tabelo vrednosti (v obliki numeričnega polja) funkcije, katere odvod iščemo. `f` je lahko ene ali več dimenzij. Pozicijski parametri `varargs` definirajo razdaljo med vrednostmi argumenta funkcije `f`; privzeta vrednost je 1. Ta vrednost je lahko skalar, lahko pa tudi seznam vrednosti neodvisne spremenljivke (ali tudi kombinacija obojega). Gradientna metoda na robovih uporabi shemo naprej oziroma nazaj; parameter `edge_order` definira red sheme, ki se uporabi na robovih (izbiramo lahko med 1 ali 2, privzeta vrednost je 1). "
   ]
  },
  {
   "cell_type": "markdown",
   "metadata": {
    "slideshow": {
     "slide_type": "subslide"
    }
   },
   "source": [
    "Rezultat funkcije `gradient` je numerični seznam (ali seznam numeričnih seznamov) z izračunanimi odvodi.\n",
    "\n",
    "Za podrobnosti glejte [dokumentacijo](http://docs.scipy.org/doc/numpy/reference/generated/numpy.gradient.html)."
   ]
  },
  {
   "cell_type": "markdown",
   "metadata": {
    "slideshow": {
     "slide_type": "subslide"
    }
   },
   "source": [
    "## Zgled"
   ]
  },
  {
   "cell_type": "markdown",
   "metadata": {},
   "source": [
    "Pogledali si bomo zgled, kako uporabimo **uteži**, funkcijo gradient in posebnosti na robovih. Najprej pripravimo tabelo podatkov:"
   ]
  },
  {
   "cell_type": "code",
   "execution_count": 113,
   "metadata": {},
   "outputs": [],
   "source": [
    "x, h = np.linspace(0, 1, 20, retstep=True)\n",
    "y = np.sin(2*np.pi*x)"
   ]
  },
  {
   "cell_type": "markdown",
   "metadata": {},
   "source": [
    "Uteži diferenčih shem:"
   ]
  },
  {
   "cell_type": "code",
   "execution_count": 114,
   "metadata": {},
   "outputs": [],
   "source": [
    "centralna = np.array([-0.5, 0, 0.5]) # bi lahko tudi pridobili prek central_diff_weights(3,1)\n",
    "naprej = np.array([-3/2, 2, -1/2])\n",
    "nazaj = np.array([1/2, -2, 3/2])"
   ]
  },
  {
   "cell_type": "markdown",
   "metadata": {
    "slideshow": {
     "slide_type": "subslide"
    }
   },
   "source": [
    "Sedaj izvedemo odvod notranjih točk (prvi način je z izpeljevanjem seznamov, drugi je vektoriziran):"
   ]
  },
  {
   "cell_type": "code",
   "execution_count": 51,
   "metadata": {},
   "outputs": [],
   "source": [
    "odvod_notranje = np.array([y[i-1:i+2] @ centralna/h for i in range(1, len(x)-1)]) # izpeljevanje seznamov\n",
    "odvod_notranje = np.convolve(y, centralna[::-1], mode='valid') / h # vektoriziran"
   ]
  },
  {
   "cell_type": "markdown",
   "metadata": {
    "slideshow": {
     "slide_type": "subslide"
    }
   },
   "source": [
    "Na robovih uporabimo diferenčno shemo naprej oziroma nazaj:"
   ]
  },
  {
   "cell_type": "code",
   "execution_count": 52,
   "metadata": {},
   "outputs": [],
   "source": [
    "odvod_prva = y[:len(naprej)] @ naprej / h  # naprej\n",
    "odvod_zadnja = y[-len(nazaj):] @ nazaj / h # nazaj"
   ]
  },
  {
   "cell_type": "markdown",
   "metadata": {
    "slideshow": {
     "slide_type": "subslide"
    }
   },
   "source": [
    "Sestavimo rezultat:"
   ]
  },
  {
   "cell_type": "code",
   "execution_count": 53,
   "metadata": {},
   "outputs": [],
   "source": [
    "odvod_cel = np.hstack([odvod_prva, odvod_notranje, odvod_zadnja])"
   ]
  },
  {
   "cell_type": "markdown",
   "metadata": {},
   "source": [
    "Prikažemo rezultat skupaj z rezultatom funkcije `np.gradient`:"
   ]
  },
  {
   "cell_type": "code",
   "execution_count": 54,
   "metadata": {
    "slideshow": {
     "slide_type": "subslide"
    }
   },
   "outputs": [
    {
     "data": {
      "image/png": "[encoded data removed]",
      "text/plain": [
       "<Figure size 432x288 with 1 Axes>"
      ]
     },
     "metadata": {
      "needs_background": "light"
     },
     "output_type": "display_data"
    }
   ],
   "source": [
    "import matplotlib.pyplot as plt\n",
    "%matplotlib inline\n",
    "plt.plot(x, odvod_cel, 'ko', lw=3, label='lastna implementacija')\n",
    "plt.plot(x, np.gradient(y, h), 'g.', label='np.gradient, edge_order=1')\n",
    "plt.plot(x, np.gradient(y, h, edge_order=2), 'r.', label='np.gradient, edge_order=2')\n",
    "plt.legend();"
   ]
  },
  {
   "cell_type": "markdown",
   "metadata": {
    "slideshow": {
     "slide_type": "slide"
    }
   },
   "source": [
    "# Zaokrožitvena napaka pri numeričnem odvajanju"
   ]
  },
  {
   "cell_type": "markdown",
   "metadata": {},
   "source": [
    "Zgoraj smo se osredotočili na napako metode. Pri numeričnem odvajanju pa moramo biti zelo pozorni tudi na **zaokrožitveno** (ali tudi *upodobitveno*) napako! Poglejmo si prvi odvod (po centralni diferenčni shemi) zapisan z napako metode ($k\\,h^2$) in zaokrožitveno napako $\\varepsilon$:\n",
    "\n",
    "$$y_i'=\\frac{1}{2h}\\left((-y_{i-1}\\pm\\varepsilon)+(y_{i+1}\\pm\\varepsilon)\\right) + k\\,h^2$$"
   ]
  },
  {
   "cell_type": "markdown",
   "metadata": {
    "slideshow": {
     "slide_type": "subslide"
    }
   },
   "source": [
    "V najslabšem primeru se zaokrožitvena napaka sešteje in je skupna napaka:\n",
    "\n",
    "$$n=\\frac{\\varepsilon}{h}+k\\,h^2$$"
   ]
  },
  {
   "cell_type": "markdown",
   "metadata": {
    "slideshow": {
     "slide_type": "subslide"
    }
   },
   "source": [
    "Ko je $h$ velik prevladuje napaka metode $k\\,h^2$; ko pa je $h$ majhen, pa prevladuje zaokrožitvena napaka. Napaka ima minimum, ko velja:\n",
    "\n",
    "$$n'=-\\frac{\\varepsilon}{h^2}+2\\,k\\,h=0.$$\n",
    "\n",
    "Sledi:\n",
    "\n",
    "$$h=\\sqrt[3]{\\frac{\\varepsilon}{2\\,k}}.$$"
   ]
  },
  {
   "cell_type": "markdown",
   "metadata": {
    "slideshow": {
     "slide_type": "subslide"
    }
   },
   "source": [
    "## Zgled"
   ]
  },
  {
   "cell_type": "markdown",
   "metadata": {
    "slideshow": {
     "slide_type": "subslide"
    }
   },
   "source": [
    "Spodaj si bomo pogledali primer, kjer bomo natančnost spreminjali v treh korakih:\n",
    "\n",
    "1. ``float16`` -\n",
    "    16-bitni zapis: predznak 1 bit, 5 bitov eksponent, 10 bitov mantisa\n",
    "2. ``float32`` -\n",
    "    32-bitni zapis: predznak 1 bit, 8 bitov eksponent, 23 bitov mantisa\n",
    "3. ``float64`` -\n",
    "    64-bitni zapis: predznak 1 bit, 11 bitov eksponent, 52 bitov mantisa (to je privzeta natančnost).\n",
    "\n",
    "Za več o tipih v ``numpy`` glejte [dokumentacijo](http://docs.scipy.org/doc/numpy/user/basics.types.html)"
   ]
  },
  {
   "cell_type": "markdown",
   "metadata": {
    "slideshow": {
     "slide_type": "subslide"
    }
   },
   "source": [
    "Določimo sedaj osnovno zaokrožitveno napako za posamezni tip:"
   ]
  },
  {
   "cell_type": "code",
   "execution_count": 55,
   "metadata": {},
   "outputs": [
    {
     "name": "stdout",
     "output_type": "stream",
     "text": [
      "Osnovna zaokrožitvena napaka za tipe `float16`, `float32` in `float64` je:\n",
      "[0.000977, 1.1920929e-07, 2.220446049250313e-16]\n"
     ]
    }
   ],
   "source": [
    "eps16 = np.finfo(np.float16).eps\n",
    "eps32 = np.finfo(np.float32).eps\n",
    "eps64 = np.finfo(np.float64).eps\n",
    "print(f'Osnovna zaokrožitvena napaka za tipe \\\n",
    "`float16`, `float32` in `float64` je:\\n{[eps16, eps32, eps64]}')"
   ]
  },
  {
   "cell_type": "markdown",
   "metadata": {
    "slideshow": {
     "slide_type": "-"
    }
   },
   "source": [
    "Kot primer si poglejmo seštevanje: k številu `1.` prištejemo polovico osnovne zaokrožitvene napake `eps16` in pretvorimo v tip `float16`, ugotovimo, da je nova vrednost še vedno enaka vrednosti `1.`:"
   ]
  },
  {
   "cell_type": "code",
   "execution_count": 56,
   "metadata": {},
   "outputs": [
    {
     "data": {
      "text/plain": [
       "1.0"
      ]
     },
     "execution_count": 56,
     "metadata": {},
     "output_type": "execute_result"
    }
   ],
   "source": [
    "(1.+eps16/2).astype('float16')"
   ]
  },
  {
   "cell_type": "markdown",
   "metadata": {
    "slideshow": {
     "slide_type": "subslide"
    }
   },
   "source": [
    "Definirajmo najprej funkcijo $\\exp(x)$, ki bo dala rezultat natančnosti, ki jo definira parameter `dtype`:"
   ]
  },
  {
   "cell_type": "code",
   "execution_count": 57,
   "metadata": {},
   "outputs": [],
   "source": [
    "def fun(x, dtype=np.float): # funkcija\n",
    "    return np.exp(-dtype(x)).astype(dtype)"
   ]
  },
  {
   "cell_type": "markdown",
   "metadata": {},
   "source": [
    "Definirajmo še funkcijo za analitično določljiv odvod (to bomo pozneje potrebovali za določitev relativne napake):"
   ]
  },
  {
   "cell_type": "code",
   "execution_count": 58,
   "metadata": {
    "slideshow": {
     "slide_type": "subslide"
    }
   },
   "outputs": [],
   "source": [
    "def f1_fun(x): # \"točen\" odvod funkcije\n",
    "    return -np.exp(-x)"
   ]
  },
  {
   "cell_type": "markdown",
   "metadata": {
    "slideshow": {
     "slide_type": "subslide"
    }
   },
   "source": [
    "Podobno kakor zgoraj pri seštevanju, lahko tudi pri vrednosti funkcije ugotovimo, da sprememba vrednosti $x$, ki je manjša od $\\epsilon$, vodi v isti rezultat:"
   ]
  },
  {
   "cell_type": "code",
   "execution_count": 59,
   "metadata": {},
   "outputs": [
    {
     "data": {
      "text/plain": [
       "0.368"
      ]
     },
     "execution_count": 59,
     "metadata": {},
     "output_type": "execute_result"
    }
   ],
   "source": [
    "fun(1., dtype=np.float16)"
   ]
  },
  {
   "cell_type": "code",
   "execution_count": 60,
   "metadata": {},
   "outputs": [
    {
     "data": {
      "text/plain": [
       "0.368"
      ]
     },
     "execution_count": 60,
     "metadata": {},
     "output_type": "execute_result"
    }
   ],
   "source": [
    "fun(1+eps16/2, dtype=np.float16)"
   ]
  },
  {
   "cell_type": "markdown",
   "metadata": {
    "slideshow": {
     "slide_type": "subslide"
    }
   },
   "source": [
    "Uporabimo sedaj centralno diferenčno shemo za prvi odvod. Pri tem naj bodo števila zapisana z natančnostjo `dtype`, s pomočjo točnega odvoda pa se izračuna še relativna napaka:"
   ]
  },
  {
   "cell_type": "code",
   "execution_count": 61,
   "metadata": {},
   "outputs": [],
   "source": [
    "def f1_CDS(fun, x, h, dtype=np.float64):\n",
    "    f1_ocena = (fun(x+h, dtype=dtype)-fun(x-h,dtype=dtype))/(2*dtype(h))\n",
    "    f1_točno = f1_fun(x)\n",
    "    relativna_napaka = (f1_točno - f1_ocena) / f1_točno\n",
    "    return f1_ocena, relativna_napaka"
   ]
  },
  {
   "cell_type": "markdown",
   "metadata": {
    "slideshow": {
     "slide_type": "subslide"
    }
   },
   "source": [
    "Poglejmo primer odvoda pri $x=1,0$ (Python funkcija vrne vrednost in relativno napako):"
   ]
  },
  {
   "cell_type": "code",
   "execution_count": 62,
   "metadata": {},
   "outputs": [
    {
     "data": {
      "image/png": "[encoded data removed]",
      "text/latex": [
       "$\\displaystyle \\left( -0.36613272311212813, \\  0.00474807196007504\\right)$"
      ],
      "text/plain": [
       "(-0.36613272311212813, 0.00474807196007504)"
      ]
     },
     "execution_count": 62,
     "metadata": {},
     "output_type": "execute_result"
    }
   ],
   "source": [
    "f1_CDS(fun, x=1., h=.01, dtype=np.float16)"
   ]
  },
  {
   "cell_type": "code",
   "execution_count": 63,
   "metadata": {},
   "outputs": [
    {
     "data": {
      "image/png": "[encoded data removed]",
      "text/latex": [
       "$\\displaystyle \\left( -0.3678855725261193, \\  -1.6666750002257943e-05\\right)$"
      ],
      "text/plain": [
       "(-0.3678855725261193, -1.6666750002257943e-05)"
      ]
     },
     "execution_count": 63,
     "metadata": {},
     "output_type": "execute_result"
    }
   ],
   "source": [
    "f1_CDS(fun, x=1., h=.01, dtype=np.float64)"
   ]
  },
  {
   "cell_type": "markdown",
   "metadata": {
    "slideshow": {
     "slide_type": "subslide"
    }
   },
   "source": [
    "Definirajmo sedaj korak:"
   ]
  },
  {
   "cell_type": "code",
   "execution_count": 64,
   "metadata": {},
   "outputs": [
    {
     "data": {
      "text/plain": [
       "array([1.00000000e+00, 2.50000000e-01, 6.25000000e-02, 1.56250000e-02,\n",
       "       3.90625000e-03, 9.76562500e-04, 2.44140625e-04, 6.10351562e-05,\n",
       "       1.52587891e-05, 3.81469727e-06])"
      ]
     },
     "execution_count": 64,
     "metadata": {},
     "output_type": "execute_result"
    }
   ],
   "source": [
    "h=0.25**np.arange(30)\n",
    "h[:10]"
   ]
  },
  {
   "cell_type": "markdown",
   "metadata": {},
   "source": [
    "Izračunamo oceno odvodov za različne natančnosti zapisa (zaradi deljenja z 0 dobimo opozorilo):"
   ]
  },
  {
   "cell_type": "code",
   "execution_count": 65,
   "metadata": {},
   "outputs": [
    {
     "name": "stderr",
     "output_type": "stream",
     "text": [
      "C:\\ProgramData\\Anaconda3\\lib\\site-packages\\ipykernel_launcher.py:2: RuntimeWarning: invalid value encountered in true_divide\n",
      "  \n"
     ]
    }
   ],
   "source": [
    "f1_16 = f1_CDS(fun, x=1., h=h, dtype=np.float16)\n",
    "f1_32 = f1_CDS(fun, x=1., h=h, dtype=np.float32)\n",
    "f1_64 = f1_CDS(fun, x=1., h=h, dtype=np.float64)"
   ]
  },
  {
   "cell_type": "markdown",
   "metadata": {
    "slideshow": {
     "slide_type": "subslide"
    }
   },
   "source": [
    "Izrišemo različne tipe v odvisnosti od velikosti koraka $h$. Najprej uvozimo potrebne knjižnice:"
   ]
  },
  {
   "cell_type": "code",
   "execution_count": 66,
   "metadata": {},
   "outputs": [],
   "source": [
    "import matplotlib.pyplot as plt\n",
    "%matplotlib inline"
   ]
  },
  {
   "cell_type": "markdown",
   "metadata": {
    "slideshow": {
     "slide_type": "subslide"
    }
   },
   "source": [
    "Definirajmo sliko:"
   ]
  },
  {
   "cell_type": "code",
   "execution_count": 67,
   "metadata": {},
   "outputs": [],
   "source": [
    "def fig_ocena():\n",
    "    plt.semilogx(h, f1_16[0], 'b', lw=3, alpha=0.5, label='float16')\n",
    "    plt.semilogx(h, f1_32[0], 'r', lw=3, alpha=0.5, label='float32')\n",
    "    plt.semilogx(h, f1_64[0], 'g', lw=3, alpha=0.5, label='float64=float')\n",
    "    plt.title('Ocena odvoda za različne tipe natančnosti')\n",
    "    plt.xlabel('$h$')\n",
    "    plt.ylabel('Ocena odvoda: $-\\exp(-1)=−0.3678794$')\n",
    "    plt.ylim(-0.37, -0.365)\n",
    "    plt.legend();"
   ]
  },
  {
   "cell_type": "markdown",
   "metadata": {
    "slideshow": {
     "slide_type": "subslide"
    }
   },
   "source": [
    "Prikažimo jo:"
   ]
  },
  {
   "cell_type": "code",
   "execution_count": 68,
   "metadata": {},
   "outputs": [
    {
     "data": {
      "image/png": "[encoded data removed]",
      "text/plain": [
       "<Figure size 432x288 with 1 Axes>"
      ]
     },
     "metadata": {
      "needs_background": "light"
     },
     "output_type": "display_data"
    }
   ],
   "source": [
    "fig_ocena()"
   ]
  },
  {
   "cell_type": "markdown",
   "metadata": {
    "slideshow": {
     "slide_type": "subslide"
    }
   },
   "source": [
    "Pri relativno velikem koraku $h$ prevladuje napaka metode, pri majhnem koraku pa zaokrožitvnea napaka; optimalni korak lahko ocenimo glede na:\n",
    "\n",
    "$$h=\\sqrt[3]{\\frac{\\varepsilon}{2\\,k}}.$$\n",
    "\n",
    "V konkretnem primeru velja:\n",
    "\n",
    "$$k=-\\frac{f'''(x)}{6}=-\\frac{-e^{-x}}{6}=\\frac{1}{6\\,e}\\qquad(x=1)$$\n",
    "\n",
    "Sledi:\n",
    "\n",
    "$$h=\\sqrt[3]{3\\,\\varepsilon\\,e}.$$"
   ]
  },
  {
   "cell_type": "markdown",
   "metadata": {
    "slideshow": {
     "slide_type": "subslide"
    }
   },
   "source": [
    "Izračunamo primeren korak za 16, 32 in 64-bitni zapis:"
   ]
  },
  {
   "cell_type": "code",
   "execution_count": 69,
   "metadata": {},
   "outputs": [
    {
     "data": {
      "image/png": "[encoded data removed]",
      "text/latex": [
       "$\\displaystyle 0.19969717751005522$"
      ],
      "text/plain": [
       "0.19969717751005522"
      ]
     },
     "execution_count": 69,
     "metadata": {},
     "output_type": "execute_result"
    }
   ],
   "source": [
    "np.power(3*eps16*np.exp(1),1/3)"
   ]
  },
  {
   "cell_type": "code",
   "execution_count": 70,
   "metadata": {},
   "outputs": [
    {
     "data": {
      "image/png": "[encoded data removed]",
      "text/latex": [
       "$\\displaystyle 0.009906234676704437$"
      ],
      "text/plain": [
       "0.009906234676704437"
      ]
     },
     "execution_count": 70,
     "metadata": {},
     "output_type": "execute_result"
    }
   ],
   "source": [
    "np.power(3*eps32*np.exp(1),1/3)"
   ]
  },
  {
   "cell_type": "code",
   "execution_count": 71,
   "metadata": {},
   "outputs": [
    {
     "data": {
      "image/png": "[encoded data removed]",
      "text/latex": [
       "$\\displaystyle 1.2188548432010213e-05$"
      ],
      "text/plain": [
       "1.2188548432010213e-05"
      ]
     },
     "execution_count": 71,
     "metadata": {},
     "output_type": "execute_result"
    }
   ],
   "source": [
    "np.power(3*eps64*np.exp(1),1/3)"
   ]
  },
  {
   "cell_type": "markdown",
   "metadata": {},
   "source": [
    "Najbolje se izkaže 64-bitni zapis, vendar pa tudi pri tem korak manjši od cca `1e-5` ni priporočen!"
   ]
  },
  {
   "cell_type": "markdown",
   "metadata": {
    "slideshow": {
     "slide_type": "slide"
    }
   },
   "source": [
    "# Nekaj vprašanj za razmislek!"
   ]
  },
  {
   "cell_type": "markdown",
   "metadata": {},
   "source": [
    "1. Za batni mehanizem na spodnji sliki strojno izpeljite kinematiko gibanja bata, če se kolenasta gred giblje po zakonu $\\varphi(t)=\\omega\\,t$.\n",
    "<img src='./fig/batni_mehanizem.png' width=300>\n",
    "2. Za kotno hitrosti $\\omega=2\\,\\pi\\,50\\,$rad/s izrišite lego bata v treh obratih gredi. Uporabite: $r=0,03\\,$m in $l=0,1\\,$m.\n",
    "3. Simbolno odvajajte lego $x(t)$, da pridobite pospešek $\\ddot x(t)$.\n",
    "4. Pripravite funkcijo za klicanje simbolnih izrazov za lego $x(t)$ in pospešek $\\ddot x(t)$ iz ``numpy``.\n",
    "5. S pomočjo ``scipy`` pripravite centralno diferenčno shemo za 2. odvod čez 3, 5, in 7 točk.\n",
    "6. Raziščite funkcijo ``numpy.convolve`` in z njo na podlagi numeričnih vrednosti za $x$ numerično izračunajte pospešek $\\ddot x$. Kje je odvod pravilen?\n",
    "7. S centralno diferenčno shemo 2. odvoda čez tri točke ste izračunali notranje točke, nastavite diferenčno shemo naprej za izračun prve točke z natančnostjo $\\mathcal{O}(h^{2})$.\n",
    "8. Dodajte podatkom lege, določeno mero šuma in preverite, zakaj ni primerna uporaba numeričnega odvajanja na šumnih podatkih.\n",
    "9. S centralno diferenčno shemo 2. odvoda čez tri točke ste doslej izračunali notranje točke, nastavite diferenčno shemo nazaj za izračun zadnje točke z natančnostjo $\\mathcal{O}(h^{2})$.\n",
    "10. Raziščite vpliv časovnega koraka na izračun 2. odvoda.\n",
    "11. Izmerjene imamo sledeče pozicije (gibanja) avtomobila:\n",
    "\n",
    "    $t = [ 0. ,  0.1,  0.2,  0.3,  0.4,  0.5,  0.6,  0.7,  0.8,  0.9,  1. ]$ [h]\n",
    "\n",
    "    $s = [0, 3, 10, 13, 17, 25, 33, 46, 58, 75]$ [km]\n",
    "\n",
    "    Izračunajte hitrost in pospešek avtomobila pri času 0,5 h. Hitrost in pospešek prikažite tudi v grafični obliki.\n",
    "    \n",
    "Opomba:\n",
    "Dodatek k domačim nalogam: 6. vprašanje bi lahko nadaljevali in zašumljene podatke gladili ter nato izvedli odvajanje. Glajenje izvedite s konvolucijo med [0,21194156,  0,57611688,  0,21194156] in $x$."
   ]
  },
  {
   "cell_type": "markdown",
   "metadata": {
    "slideshow": {
     "slide_type": "slide"
    }
   },
   "source": [
    "# Dodatno"
   ]
  },
  {
   "cell_type": "markdown",
   "metadata": {},
   "source": [
    "[Video predavanja na temo numeričnega odvajanja](https://www.youtube.com/watch?v=ZJkGI5DZQv8&list=PLYdroRCLMg5OvLx1EtY1ByvveJeTEXQd_&index=18)."
   ]
  }
 ],
 "metadata": {
  "anaconda-cloud": {},
  "celltoolbar": "Slideshow",
  "kernelspec": {
   "display_name": "Python 3",
   "language": "python",
   "name": "python3"
  },
  "language_info": {
   "codemirror_mode": {
    "name": "ipython",
    "version": 3
   },
   "file_extension": ".py",
   "mimetype": "text/x-python",
   "name": "python",
   "nbconvert_exporter": "python",
   "pygments_lexer": "ipython3",
   "version": "3.6.9"
  },
  "latex_envs": {
   "bibliofile": "biblio.bib",
   "cite_by": "apalike",
   "current_citInitial": 1,
   "eqLabelWithNumbers": true,
   "eqNumInitial": 0
  },
  "livereveal": {
   "theme": "sky",
   "transition": "default",
   "width": 1200
  },
  "nav_menu": {},
  "toc": {
   "base_numbering": 1,
   "nav_menu": {
    "height": "371px",
    "width": "252px"
   },
   "number_sections": true,
   "sideBar": true,
   "skip_h1_title": false,
   "title_cell": "Kazalo",
   "title_sidebar": "Kazalo",
   "toc_cell": true,
   "toc_position": {},
   "toc_section_display": "block",
   "toc_window_display": false
  }
 },
 "nbformat": 4,
 "nbformat_minor": 4
}
