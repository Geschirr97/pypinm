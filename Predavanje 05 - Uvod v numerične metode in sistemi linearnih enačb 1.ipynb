{
 "cells": [
  {
   "cell_type": "markdown",
   "metadata": {
    "slideshow": {
     "slide_type": "slide"
    }
   },
   "source": [
    "<font size=\"2\"> [github.com/jankoslavic/pypinm](http://github.com/jankoslavic/pypinm)</font>\n",
    "\n",
    "<center>\n",
    "<img width=300 src=\"./fig/ladisk.png\">\n",
    "<br>\n",
    "<font size=\"7\" color=\"f00e0e\" face=\"garamond\"><b>Uvod v numerične metode in sistemi linearnih enačb (1)</b></font>\n",
    "<br><br>\n",
    "<font size=\"4\">\n",
    "[Prof. dr. Janko Slavič](http://www.ladisk.si/~slavic)\n",
    "</font>\n",
    "<br><br>\n",
    "<font size=\"2\">Oktober 2018</font>\n",
    "</center>"
   ]
  },
  {
   "cell_type": "markdown",
   "metadata": {
    "slideshow": {
     "slide_type": "subslide"
    },
    "toc": "true"
   },
   "source": [
    "<h1>Kazalo<span class=\"tocSkip\"></span></h1>\n",
    "<div class=\"toc\"><ul class=\"toc-item\"><li><span><a href=\"#Uvod-v-numerične-metode\" data-toc-modified-id=\"Uvod-v-numerične-metode-1\"><span class=\"toc-item-num\">1&nbsp;&nbsp;</span>Uvod v numerične metode</a></span><ul class=\"toc-item\"><li><span><a href=\"#Zaokrožitvena-napaka\" data-toc-modified-id=\"Zaokrožitvena-napaka-1.1\"><span class=\"toc-item-num\">1.1&nbsp;&nbsp;</span>Zaokrožitvena napaka</a></span></li><li><span><a href=\"#Napaka-metode\" data-toc-modified-id=\"Napaka-metode-1.2\"><span class=\"toc-item-num\">1.2&nbsp;&nbsp;</span>Napaka metode</a></span></li></ul></li><li><span><a href=\"#Uvod-v-sisteme-linearnih-enačb\" data-toc-modified-id=\"Uvod-v-sisteme-linearnih-enačb-2\"><span class=\"toc-item-num\">2&nbsp;&nbsp;</span>Uvod v sisteme linearnih enačb</a></span><ul class=\"toc-item\"><li><span><a href=\"#O-rešitvi-sistema-linearnih-enačb\" data-toc-modified-id=\"O-rešitvi-sistema-linearnih-enačb-2.1\"><span class=\"toc-item-num\">2.1&nbsp;&nbsp;</span>O rešitvi sistema linearnih enačb</a></span></li><li><span><a href=\"#Norma-in-pogojenost-sistemov-enačb\" data-toc-modified-id=\"Norma-in-pogojenost-sistemov-enačb-2.2\"><span class=\"toc-item-num\">2.2&nbsp;&nbsp;</span>Norma in pogojenost sistemov enačb</a></span><ul class=\"toc-item\"><li><span><a href=\"#Primer-slabo-pogojene-matrike\" data-toc-modified-id=\"Primer-slabo-pogojene-matrike-2.2.1\"><span class=\"toc-item-num\">2.2.1&nbsp;&nbsp;</span>Primer slabo pogojene matrike</a></span></li></ul></li><li><span><a href=\"#Numerično-reševanje-sistemov-linearnih-enačb\" data-toc-modified-id=\"Numerično-reševanje-sistemov-linearnih-enačb-2.3\"><span class=\"toc-item-num\">2.3&nbsp;&nbsp;</span>Numerično reševanje sistemov linearnih enačb</a></span></li></ul></li><li><span><a href=\"#Gaussova-eliminacija\" data-toc-modified-id=\"Gaussova-eliminacija-3\"><span class=\"toc-item-num\">3&nbsp;&nbsp;</span>Gaussova eliminacija</a></span><ul class=\"toc-item\"><li><ul class=\"toc-item\"><li><span><a href=\"#Povzetek-Gaussove-eliminacije\" data-toc-modified-id=\"Povzetek-Gaussove-eliminacije-3.0.1\"><span class=\"toc-item-num\">3.0.1&nbsp;&nbsp;</span>Povzetek Gaussove eliminacije</a></span></li></ul></li><li><span><a href=\"#Numerična-zahtevnost\" data-toc-modified-id=\"Numerična-zahtevnost-3.1\"><span class=\"toc-item-num\">3.1&nbsp;&nbsp;</span>Numerična zahtevnost</a></span></li><li><span><a href=\"#Uporaba-knjižnjice-numpy\" data-toc-modified-id=\"Uporaba-knjižnjice-numpy-3.2\"><span class=\"toc-item-num\">3.2&nbsp;&nbsp;</span>Uporaba knjižnjice <code>numpy</code></a></span></li></ul></li><li><span><a href=\"#Nekaj-vprašanj-za-razmislek!\" data-toc-modified-id=\"Nekaj-vprašanj-za-razmislek!-4\"><span class=\"toc-item-num\">4&nbsp;&nbsp;</span>Nekaj vprašanj za razmislek!</a></span></li><li><span><a href=\"#Dodatno\" data-toc-modified-id=\"Dodatno-5\"><span class=\"toc-item-num\">5&nbsp;&nbsp;</span>Dodatno</a></span><ul class=\"toc-item\"><li><span><a href=\"#Primer-simbolnega-reševanja-sistema-linearnih-enačb-v-okviru-sympy\" data-toc-modified-id=\"Primer-simbolnega-reševanja-sistema-linearnih-enačb-v-okviru-sympy-5.1\"><span class=\"toc-item-num\">5.1&nbsp;&nbsp;</span>Primer simbolnega reševanja sistema linearnih enačb v okviru <code>sympy</code></a></span></li></ul></li></ul></div>"
   ]
  },
  {
   "cell_type": "markdown",
   "metadata": {
    "slideshow": {
     "slide_type": "slide"
    }
   },
   "source": [
    "# Uvod v numerične metode"
   ]
  },
  {
   "cell_type": "markdown",
   "metadata": {},
   "source": [
    "Kadar želimo simulirati izbrani fizikalni proces, ponavadi postopamo takole:\n",
    "\n",
    "1. postavimo matematični model*,\n",
    "* izberemo numerično metodo in njene parametre,\n",
    "* pripravimo program (pomagamo si z vgrajenimi funkcijami),\n",
    "* izvedemo izračun, rezultate analiziramo in vrednotimo.\n",
    "\n",
    "\\* Če lahko matematični model rešimo analitično, numerično reševanje ni potrebno."
   ]
  },
  {
   "cell_type": "markdown",
   "metadata": {
    "slideshow": {
     "slide_type": "subslide"
    }
   },
   "source": [
    "Matematični model poskušamo rešiti analitično, saj taka rešitev ni obremenjena z napakami. Iz tega razloga se v okviru matematike učimo reševanja sistema enačb, integriranja, odvajanja in podobno. Bistvo **numeričnih metod** je, da matematične modele rešujemo **numerično**, torej na podlagi **diskretnih vrednosti**. Kakor bomo spoznali pozneje, nam numerični pristop v primerjavi z analitičnim omogoča reševanje bistveno obsežnejših in kompleksnejših problemov."
   ]
  },
  {
   "cell_type": "markdown",
   "metadata": {
    "slideshow": {
     "slide_type": "subslide"
    }
   },
   "source": [
    "## Zaokrožitvena napaka \n",
    "\n",
    "V nadaljevanju si bomo pogledali nekatere omejitve in izzive numeričnega pristopa. Prva omejitev je, da so v računalniku realne vrednosti vedno zapisane s končno natančnostjo. V Pythonu se števila pogosto zapišejo v dvojni natančnosti s približno 15 signifikantnimi števkami. "
   ]
  },
  {
   "cell_type": "markdown",
   "metadata": {
    "slideshow": {
     "slide_type": "subslide"
    }
   },
   "source": [
    "Število z dvojno natančnostjo se v Pythonu imenuje **float64** in je zapisano v spomin v binarni obliki v 64 bitih (11 bitov eksponent in 53 bitov mantisa (1 bit za predznak)). Ker je mantisa definirana na podlagi 52 binarnih števk, se lahko pojavi pri njegovem zapisu *relativna napaka* največ $\\epsilon\\approx2.2\\cdot 10^{-16}$. Ta napaka se imenuje **osnovna zaokrožitvena napaka** in se lahko pojavi pri vsakem vmesnem\n",
    "izračunu!"
   ]
  },
  {
   "cell_type": "markdown",
   "metadata": {
    "slideshow": {
     "slide_type": "subslide"
    }
   },
   "source": [
    "Če je korakov veliko, lahko napaka zelo naraste in zato je pomembno, da je njen vpliv na rezultat čim manjši!\n",
    "\n",
    "Spodaj je primer podrobnejših informacij za tip podatkov z dvojno natančnostjo (`float`); pri tem si pomagamo z vgrajenim modulom `sys` za klic parametrov in funkcij python sistema ([dokumentacija](https://docs.python.org/3/library/sys.html)):"
   ]
  },
  {
   "cell_type": "code",
   "execution_count": 1,
   "metadata": {
    "slideshow": {
     "slide_type": "subslide"
    }
   },
   "outputs": [
    {
     "data": {
      "text/plain": [
       "2.220446049250313e-16"
      ]
     },
     "execution_count": 1,
     "metadata": {},
     "output_type": "execute_result"
    }
   ],
   "source": [
    "import sys\n",
    "sys.float_info.epsilon\n",
    "#sys.float_info #preverite tudi širši izpis!"
   ]
  },
  {
   "cell_type": "markdown",
   "metadata": {
    "slideshow": {
     "slide_type": "subslide"
    }
   },
   "source": [
    "Poleg števila z dvojno natančnostjo se uporabljajo drugi tipi podatkov; dober pregled različnih tipov je prikazan v okviru [numpy](https://docs.scipy.org/doc/numpy-1.10.1/user/basics.types.html) in [python](https://docs.python.org/3/library/stdtypes.html) dokumentacije.\n",
    "\n",
    "Tukaj si poglejmo primer tipa `int8`, kar pomeni celo število zapisano z 8 biti (8 bit = 1 byte). Z njim lahko v dvojiškem sistemu zapišemo cela števila od -128 do +127:"
   ]
  },
  {
   "cell_type": "code",
   "execution_count": 2,
   "metadata": {
    "slideshow": {
     "slide_type": "subslide"
    }
   },
   "outputs": [
    {
     "data": {
      "text/plain": [
       "\"Število 90 tipa <class 'numpy.int8'> zapisano v binari obliki: 1011010\""
      ]
     },
     "execution_count": 2,
     "metadata": {},
     "output_type": "execute_result"
    }
   ],
   "source": [
    "import numpy as np\n",
    "število = np.int8(90) # poskušite še števila: -128 in nato 127, 128, 129. Kaj se dogaja?\n",
    "f'Število {število} tipa {type(število)} zapisano v binari obliki:{število:8b}'"
   ]
  },
  {
   "cell_type": "markdown",
   "metadata": {
    "slideshow": {
     "slide_type": "subslide"
    }
   },
   "source": [
    "## Napaka metode\n",
    "\n",
    "Poleg zaokrožitvene napake pa se pogosto srečamo tudi z **napako metode** ali **metodično napako**, ki jo naredimo takrat, ko natančen analitični postopek reševanja matematičnega modela zamenjamo s približnim numeričnim."
   ]
  },
  {
   "cell_type": "markdown",
   "metadata": {
    "slideshow": {
     "slide_type": "subslide"
    }
   },
   "source": [
    "Pomembna lastnost numeričnih algoritmov je **stabilnost**. To pomeni, da majhna sprememba vhodnih podatkov povzroči majhno spremembo rezultatov. Če se ob majhni spremembi na vhodu rezultati zelo spremenijo, pravimo, da je **algoritem nestabilen**. V praksi torej uporabljamo stabilne algoritme; bomo pa pozneje spoznali, da je stabilnost lahko pogojena tudi z vhodnimi podatki!\n",
    "\n",
    "Poznamo pa tudi nestabilnost matematičnega modela/naloge/enačbe; v tem primeru govorimo o **slabi pogojenosti**."
   ]
  },
  {
   "cell_type": "markdown",
   "metadata": {
    "slideshow": {
     "slide_type": "subslide"
    }
   },
   "source": [
    "Med izvajanjem numeričnega izračuna se napake lahko širijo. Posledično je rezultat operacije manj natančen (ima manj zanesljivih števk), kakor pa je zanesljivost podatkov izračuna."
   ]
  },
  {
   "cell_type": "markdown",
   "metadata": {
    "slideshow": {
     "slide_type": "subslide"
    }
   },
   "source": [
    "Poglejmo si sedaj splošen pristop k oceni napake. Točno vrednost označimo z $r$, približek z $a_1$; velja $r=a_1+e_1$, kjer je $e_1$ napaka. Če z numeričnim algoritmom  izračunamo bistveno boljši približek $a_2$, velja $r=a_2+e_2$. \n",
    "\n",
    "Ker velja $a_1+e_1=a_2+e_2$, lahko ob predpostavki $\\left|e_1\\right|>>\\left|e_2\\right|$ in $\\left|e_2\\right|\\approx 0$ izpeljemo $a_2-a_1=e_1-e_2\\approx e_1$."
   ]
  },
  {
   "cell_type": "markdown",
   "metadata": {
    "slideshow": {
     "slide_type": "subslide"
    }
   },
   "source": [
    "$\\left|a_1-a_2\\right|$ je torej pesimistična ocena absolutne napake,\n",
    "\n",
    "$\\left|\\frac{a_1-a_2}{a_2}\\right|$ pa ocena relativne napake."
   ]
  },
  {
   "cell_type": "markdown",
   "metadata": {
    "slideshow": {
     "slide_type": "slide"
    }
   },
   "source": [
    "# Uvod v sisteme linearnih enačb\n",
    "\n",
    "Pod zgornjim naslovom razumemo sistem $m$ linearnih enačb ($E_i, i=0, 1,\\dots,m-1$) z $n$ neznankami ($x_j, j=0,1,\\dots,n-1$):\n",
    "$$\n",
    "\\begin{array}{rllllllll}\n",
    "E_0: & A_{0,0}\\,x_0 &+&A_{0,1}\\,x_1&+& \\ldots &+&A_{0,n-1}\\,x_{n-1}&=&b_0\\\\\n",
    "E_1: & A_{1,0}\\,x_0 &+&A_{1,1}\\,x_1&+& \\ldots &+&A_{1,n-1}\\,x_{n-1}&=&b_1\\\\\n",
    "\\vdots && &&& \\vdots\\\\\n",
    "E_{m-1}: & A_{m-1,0}\\,x_0&+&A_{m-1,2}\\,x_1&+& \\ldots &+&A_{m-1,n}\\,x_{n-1}&=&b_{m-1}.\\\\\n",
    "\\end{array}\n",
    "$$\n",
    "Koeficienti $A_{i,j}$ in $b_i$ so znana števila. \n",
    "\n",
    "V kolikor je desna stran enaka nič, torej $b_i=0$, imenujemo sistem **homogenem**, sicer je sistem **nehomogen**."
   ]
  },
  {
   "cell_type": "markdown",
   "metadata": {
    "slideshow": {
     "slide_type": "subslide"
    }
   },
   "source": [
    "Sistem enačb lahko zapišemo tudi v matrični obliki:\n",
    "\n",
    "$$\\mathbf{A}\\,\\mathbf{x}=\\mathbf{b}$$\n",
    "\n",
    "kjer sta $\\mathbf{A}$ in $\\mathbf{b}$ znana matrika in vektor, vektor $\\mathbf{x}$ pa ni znan. Matriko $\\mathbf{A}$ imenujemo **matrika koeficientov**, vektor $\\mathbf{b}$ **vektor konstant** (tudi: vektor prostih členov ali vektor stolpec desnih strani) in $\\mathbf{x}$ **vektor neznank**. Če matriki $\\mathbf{A}$ dodamo kot stolpec vektor $\\mathbf{b}$, dobimo t. i. **razširjeno matriko** in jo označimo $[\\mathbf{A}|\\mathbf{b}]$."
   ]
  },
  {
   "cell_type": "markdown",
   "metadata": {
    "slideshow": {
     "slide_type": "subslide"
    }
   },
   "source": [
    "Opomba glede zapisa:\n",
    "\n",
    "* skalarne spremenljivke pišemo poševno, npr.: $a, A$,\n",
    "* vektorske spremenljivke pišemo z majhno črko poudarjeno, npr.: $\\mathbf{a}$,\n",
    "* matrične  spremenljivke pišemo z veliko črko poudarjeno, npr.: $\\mathbf{A}$."
   ]
  },
  {
   "cell_type": "markdown",
   "metadata": {
    "slideshow": {
     "slide_type": "subslide"
    }
   },
   "source": [
    "## O rešitvi sistema linearnih enačb"
   ]
  },
  {
   "cell_type": "markdown",
   "metadata": {},
   "source": [
    "Če nad sistemom linearnih enačb izvajamo **elementarne operacije**:\n",
    "\n",
    "* množenje poljubne enačbe s konstanto (ki je različna od nič),\n",
    "* spreminjanje vrstnega reda enačb,\n",
    "* prištevanje ene enačbe (pomnožene s konstanto) drugi enačbi, \n",
    "\n",
    "rešitve sistema ne spremenimo in dobimo ekvivalentni sistem enačb."
   ]
  },
  {
   "cell_type": "markdown",
   "metadata": {
    "slideshow": {
     "slide_type": "subslide"
    }
   },
   "source": [
    "S pomočjo elementarnih operacij nad vrsticami matrike $\\mathbf{A}$ jo lahko preoblikujemo v t. i. **vrstično kanonično obliko**:\n",
    "\n",
    "1. če obstajajo ničelne vrstice, so te na dnu matrike,\n",
    "* prvi neničelni element se nahaja desno od prvih neničelnih elementov predhodnih vrstic,\n",
    "* prvi neničelni element v *vrstici* imenujemo **pivot** in je enak 1,\n",
    "* pivot je edini neničelni element v *stolpcu*.\n",
    "\n",
    "\n",
    "**Rang matrike** predstavlja število neničelnih vrstic v vrstični kanonični obliki matrike; število neničelnih vrstic predstavlja število linearno neodvisnih enačb in je enako številu pivotnih elementov. **Rang matrike je torej enak številu linearno neodvisnih vrstic matrike**. Transponiranje matrike njenega ranga ne spremeni, zato je rang matrike enak tudi številu linearno neodvisnih *stolpcev* matrike. "
   ]
  },
  {
   "cell_type": "markdown",
   "metadata": {
    "slideshow": {
     "slide_type": "subslide"
    }
   },
   "source": [
    "Primer preoblikovanja matrike $\\mathbf{A}$:"
   ]
  },
  {
   "cell_type": "code",
   "execution_count": 3,
   "metadata": {},
   "outputs": [
    {
     "data": {
      "text/plain": [
       "array([[1, 2, 3],\n",
       "       [4, 5, 6],\n",
       "       [7, 8, 9]])"
      ]
     },
     "execution_count": 3,
     "metadata": {},
     "output_type": "execute_result"
    }
   ],
   "source": [
    "import numpy as np #uvozimo numpy\n",
    "A = np.arange(9).reshape((3,3))+1\n",
    "A"
   ]
  },
  {
   "cell_type": "markdown",
   "metadata": {},
   "source": [
    "Očitno ima neničelni element `A[0,0]` vrednost 1 in je pivotni element. Prvo vrstico `A[0,:]` pomnožimo z $-4$ in produkt prištejemo drugi vrstici `A[1,:]-4A[0,:]`:"
   ]
  },
  {
   "cell_type": "code",
   "execution_count": 4,
   "metadata": {
    "slideshow": {
     "slide_type": "subslide"
    }
   },
   "outputs": [
    {
     "data": {
      "text/plain": [
       "array([[ 1,  2,  3],\n",
       "       [ 0, -3, -6],\n",
       "       [ 7,  8,  9]])"
      ]
     },
     "execution_count": 4,
     "metadata": {},
     "output_type": "execute_result"
    }
   ],
   "source": [
    "A[1,:] -= A[1,0]*A[0,:]\n",
    "A"
   ]
  },
  {
   "cell_type": "markdown",
   "metadata": {},
   "source": [
    "Podobno naredimo za tretjo vrstico:"
   ]
  },
  {
   "cell_type": "code",
   "execution_count": 5,
   "metadata": {
    "slideshow": {
     "slide_type": "subslide"
    }
   },
   "outputs": [
    {
     "data": {
      "text/plain": [
       "array([[  1,   2,   3],\n",
       "       [  0,  -3,  -6],\n",
       "       [  0,  -6, -12]])"
      ]
     },
     "execution_count": 5,
     "metadata": {},
     "output_type": "execute_result"
    }
   ],
   "source": [
    "A[2,:] -= A[2,0]*A[0,:]\n",
    "A"
   ]
  },
  {
   "cell_type": "markdown",
   "metadata": {},
   "source": [
    "Drugo vrstico sedaj delimo z `A[1,1]`, da dobimo pivot:"
   ]
  },
  {
   "cell_type": "code",
   "execution_count": 6,
   "metadata": {
    "slideshow": {
     "slide_type": "subslide"
    }
   },
   "outputs": [
    {
     "data": {
      "text/plain": [
       "array([[  1,   2,   3],\n",
       "       [  0,   1,   2],\n",
       "       [  0,  -6, -12]])"
      ]
     },
     "execution_count": 6,
     "metadata": {},
     "output_type": "execute_result"
    }
   ],
   "source": [
    "A[1,:] = A[1,:]/A[1,1]\n",
    "A"
   ]
  },
  {
   "cell_type": "markdown",
   "metadata": {},
   "source": [
    "Odštejemo drugo vrstico od ostalih, da dobimo v drugem stolpcu ničle povsod, razen v drugi vrstici vrednost 1:"
   ]
  },
  {
   "cell_type": "code",
   "execution_count": 7,
   "metadata": {
    "slideshow": {
     "slide_type": "subslide"
    }
   },
   "outputs": [
    {
     "data": {
      "text/plain": [
       "array([[  1,   0,  -1],\n",
       "       [  0,   1,   2],\n",
       "       [  0,  -6, -12]])"
      ]
     },
     "execution_count": 7,
     "metadata": {},
     "output_type": "execute_result"
    }
   ],
   "source": [
    "A[0,:] -= A[0,1]*A[1,:] # odštevanje od prve vrstice\n",
    "A"
   ]
  },
  {
   "cell_type": "code",
   "execution_count": 8,
   "metadata": {},
   "outputs": [
    {
     "data": {
      "text/plain": [
       "array([[ 1,  0, -1],\n",
       "       [ 0,  1,  2],\n",
       "       [ 0,  0,  0]])"
      ]
     },
     "execution_count": 8,
     "metadata": {},
     "output_type": "execute_result"
    }
   ],
   "source": [
    "A[2,:] -= A[2,1]*A[1,:] # odštevanje od zadnje vrstice\n",
    "A"
   ]
  },
  {
   "cell_type": "markdown",
   "metadata": {
    "slideshow": {
     "slide_type": "subslide"
    }
   },
   "source": [
    "Imamo dve neničelni vrstici; Matrika `A` ima dva pivota in predstavlja dve linearno neodvisni enačbi. Rang matrike je 2."
   ]
  },
  {
   "cell_type": "code",
   "execution_count": 9,
   "metadata": {},
   "outputs": [
    {
     "data": {
      "text/plain": [
       "array([[ 1,  0, -1],\n",
       "       [ 0,  1,  2],\n",
       "       [ 0,  0,  0]])"
      ]
     },
     "execution_count": 9,
     "metadata": {},
     "output_type": "execute_result"
    }
   ],
   "source": [
    "A"
   ]
  },
  {
   "cell_type": "markdown",
   "metadata": {
    "slideshow": {
     "slide_type": "subslide"
    }
   },
   "source": [
    "Rang matrike pa lahko določimo tudi s pomočjo `numpy` funkcije `numpy.linalg.matrix_rank` ([dokumentacija](https://docs.scipy.org/doc/numpy/reference/generated/numpy.linalg.matrix_rank.html)):\n",
    "\n",
    "```python\n",
    "matrix_rank(M, tol=None)\n",
    "```\n",
    "\n",
    "kjer je `M` matrika, katere rang iščemo, `tol` opcijski parameter, ki določa mejo, pod katero se vrednosti v algoritmu smatrajo enake nič."
   ]
  },
  {
   "cell_type": "code",
   "execution_count": 10,
   "metadata": {},
   "outputs": [
    {
     "data": {
      "text/plain": [
       "2"
      ]
     },
     "execution_count": 10,
     "metadata": {},
     "output_type": "execute_result"
    }
   ],
   "source": [
    "np.linalg.matrix_rank(A)"
   ]
  },
  {
   "cell_type": "markdown",
   "metadata": {
    "slideshow": {
     "slide_type": "subslide"
    }
   },
   "source": [
    "Če velja $r=\\textbf{rang}(\\mathbf{A})=\\textbf{rang}([\\mathbf{A}|\\mathbf{b}])$, potem rešitev **obstaja** (rečemo tudi, da je sistem **konsistenten**).\n",
    "\n",
    "Konsistenten sistem ima:\n",
    "\n",
    "* natanko eno rešitev, ko je število neznank $n$ enako rangu $r$ in \n",
    "* neskončno mnogo rešitev, ko je rang $r$ manjši od števila neznank $n$ (rešitev je odvisna od $n-r$ parametrov)."
   ]
  },
  {
   "cell_type": "markdown",
   "metadata": {
    "slideshow": {
     "slide_type": "subslide"
    }
   },
   "source": [
    "Najprej se bomo omejili na sistem $m=n$ linearnih enačb z $n$ neznankami ter velja $n=r$:\n",
    "$$\\mathbf{A}\\,\\mathbf{x}=\\mathbf{b}.$$\n",
    "\n",
    "Pod zgornjimi pogoji je matrika koeficientov $\\mathbf{A}$ nesingularna ($|\\mathbf{A}|\\neq 0$) in sistem ima rešitev:\n",
    "$$\\mathbf{x}=\\mathbf{A^{-1}}\\,\\mathbf{b}.$$"
   ]
  },
  {
   "cell_type": "markdown",
   "metadata": {
    "slideshow": {
     "slide_type": "subslide"
    }
   },
   "source": [
    "Poglejmo si primer sistema, ko so **enačbe linearno odvisne** ($r<n$):"
   ]
  },
  {
   "cell_type": "code",
   "execution_count": 11,
   "metadata": {
    "scrolled": true
   },
   "outputs": [
    {
     "data": {
      "text/plain": [
       "array([[1, 2, 1],\n",
       "       [2, 4, 2]])"
      ]
     },
     "execution_count": 11,
     "metadata": {},
     "output_type": "execute_result"
    }
   ],
   "source": [
    "A = np.array([[1 , 2],\n",
    "              [2, 4]])\n",
    "b = np.array([1, 2])\n",
    "Ab = np.column_stack((A,b))\n",
    "Ab"
   ]
  },
  {
   "cell_type": "markdown",
   "metadata": {
    "slideshow": {
     "slide_type": "subslide"
    }
   },
   "source": [
    "S pomočjo `numpy` knjižnice poglejmo sedaj rang matrike koeficientov in razširjene matrike ter determinanto z uporabo `numpy.linalg.det` ([dokumentacija](https://docs.scipy.org/doc/numpy/reference/generated/numpy.linalg.det.html)):\n",
    "\n",
    "```python\n",
    "det(a)\n",
    "```\n",
    "\n",
    "kjer je `a` matrika (ali seznam matrik), katere determinanto iščemo; funkcija `det` vrne determinanto (ali seznam determinant)."
   ]
  },
  {
   "cell_type": "code",
   "execution_count": 12,
   "metadata": {},
   "outputs": [
    {
     "data": {
      "text/plain": [
       "'rang(A)=1, rang(Ab)=1, število neznank: 2, det(A)=0.0'"
      ]
     },
     "execution_count": 12,
     "metadata": {},
     "output_type": "execute_result"
    }
   ],
   "source": [
    "f'rang(A)={np.linalg.matrix_rank(A)}, rang(Ab)={np.linalg.matrix_rank(Ab)}, \\\n",
    "število neznank: {len(A[:,0])}, det(A)={np.linalg.det(A)}'"
   ]
  },
  {
   "cell_type": "markdown",
   "metadata": {
    "slideshow": {
     "slide_type": "subslide"
    }
   },
   "source": [
    "Poglejmo še primer, ko **rešitve sploh ni** (nekonsistenten sistem):"
   ]
  },
  {
   "cell_type": "code",
   "execution_count": 13,
   "metadata": {
    "scrolled": true
   },
   "outputs": [
    {
     "data": {
      "text/plain": [
       "array([[1, 2, 1],\n",
       "       [2, 4, 1]])"
      ]
     },
     "execution_count": 13,
     "metadata": {},
     "output_type": "execute_result"
    }
   ],
   "source": [
    "A = np.array([[1 , 2],\n",
    "              [2, 4]])\n",
    "b = np.array([1, 1])\n",
    "Ab = np.column_stack((A,b))\n",
    "Ab"
   ]
  },
  {
   "cell_type": "code",
   "execution_count": 14,
   "metadata": {},
   "outputs": [
    {
     "data": {
      "text/plain": [
       "'rang(A)=1, rang(Ab)=2, število neznank: 2, det(A)=0.0'"
      ]
     },
     "execution_count": 14,
     "metadata": {},
     "output_type": "execute_result"
    }
   ],
   "source": [
    "f'rang(A)={np.linalg.matrix_rank(A)}, rang(Ab)={np.linalg.matrix_rank(Ab)}, \\\n",
    "število neznank: {len(A[:,0])}, det(A)={np.linalg.det(A)}'"
   ]
  },
  {
   "cell_type": "markdown",
   "metadata": {
    "slideshow": {
     "slide_type": "subslide"
    }
   },
   "source": [
    "## Norma in pogojenost sistemov enačb"
   ]
  },
  {
   "cell_type": "markdown",
   "metadata": {},
   "source": [
    "Numerična naloga je slabo pogojena, če majhna sprememba podatkov povzroči veliko spremembo rezultata. V primeru *majhne spremembe podatkov*, ki povzročijo *majhno spremembo rezultatov*, pa je naloga **dobro pogojena**. \n",
    "\n",
    "Sistem enačb je ponavadi dobro pogojen, če so absolutne vrednosti diagonalnih elementov matrike koeficientov velike v primerjavi z absolutnimi vrednostmi izven diagonalnih elementov."
   ]
  },
  {
   "cell_type": "markdown",
   "metadata": {
    "slideshow": {
     "slide_type": "subslide"
    }
   },
   "source": [
    "Za sistem linearnih enačb $\\mathbf{A}\\,\\mathbf{x}=\\mathbf{b}$ lahko računamo **število pogojenosti** (*angl.* condition number):\n",
    "\n",
    "$$\\textrm{cond}(\\textbf{A})=||\\textbf{A}||\\,||\\textbf{A}^{-1}||.$$\n",
    "\n",
    "Z $||\\textbf{A}||$ je označena **norma** matrike."
   ]
  },
  {
   "cell_type": "markdown",
   "metadata": {
    "slideshow": {
     "slide_type": "subslide"
    }
   },
   "source": [
    "Obstaja več načinov računanja norme; navedimo dve:\n",
    "\n",
    "* Evklidska norma (tudi Frobeniusova):\n",
    "$$||\\textbf{A}||_e=\\sqrt{\\sum_{i=1}^n\\sum_{j=1}^nA_{ij}^2}$$\n",
    "* Norma vsote vrstic ali tudi neskončna norma:\n",
    "$$||\\textbf{A}||_{\\infty}=\\max_{1\\le i\\le n}\\sum_{j=1}^n |A_{ij}|$$"
   ]
  },
  {
   "cell_type": "markdown",
   "metadata": {
    "slideshow": {
     "slide_type": "subslide"
    }
   },
   "source": [
    "Pogojenost računamo z vgrajeno funkcijo `numpy.linalg.cond` ([dokumentacija](https://docs.scipy.org/doc/numpy/reference/generated/numpy.linalg.cond.html)):\n",
    "\n",
    "```python\n",
    "cond(x, p=None)\n",
    "```\n",
    "\n",
    "ki sprejme dva parametra: matriko `x` in opcijski tip norme `p` (privzeti tip je `None`; v tem primeru se uporabi Evklidska/Frobeniusova norma)."
   ]
  },
  {
   "cell_type": "markdown",
   "metadata": {
    "slideshow": {
     "slide_type": "-"
    }
   },
   "source": [
    "Če je število pogojenosti majhno, potem je matrika dobro pogojena in obratno - pri slabi pogojenosti se število pogojenosti zelo poveča.\n",
    "\n",
    "Žal je izračun pogojenosti matrike numerično relativno zahteven."
   ]
  },
  {
   "cell_type": "markdown",
   "metadata": {
    "slideshow": {
     "slide_type": "subslide"
    }
   },
   "source": [
    "### Primer slabo pogojene matrike"
   ]
  },
  {
   "cell_type": "markdown",
   "metadata": {},
   "source": [
    "Pogledali si bomo slabo pogojen sistem, kjer bomo z malenkostno spremembo na matriki koeficientov povzročili veliko spremembo rešitve."
   ]
  },
  {
   "cell_type": "markdown",
   "metadata": {
    "slideshow": {
     "slide_type": "subslide"
    }
   },
   "source": [
    "Matrika koeficientov:"
   ]
  },
  {
   "cell_type": "code",
   "execution_count": 15,
   "metadata": {},
   "outputs": [
    {
     "data": {
      "text/plain": [
       "400002.00000320596"
      ]
     },
     "execution_count": 15,
     "metadata": {},
     "output_type": "execute_result"
    }
   ],
   "source": [
    "A = np.array([[1 , 1],\n",
    "              [1, 1.00001]])\n",
    "np.linalg.cond(A)"
   ]
  },
  {
   "cell_type": "markdown",
   "metadata": {
    "slideshow": {
     "slide_type": "subslide"
    }
   },
   "source": [
    "Vektor konstant:"
   ]
  },
  {
   "cell_type": "code",
   "execution_count": 16,
   "metadata": {
    "scrolled": true
   },
   "outputs": [
    {
     "data": {
      "text/plain": [
       "array([[ 1.     ,  1.     ,  3.     ],\n",
       "       [ 1.     ,  1.00001, -3.     ]])"
      ]
     },
     "execution_count": 16,
     "metadata": {},
     "output_type": "execute_result"
    }
   ],
   "source": [
    "b = np.array([3, -3])\n",
    "Ab = np.column_stack((A,b))\n",
    "Ab"
   ]
  },
  {
   "cell_type": "markdown",
   "metadata": {
    "slideshow": {
     "slide_type": "subslide"
    }
   },
   "source": [
    "Preverimo rang in determinanto:"
   ]
  },
  {
   "cell_type": "code",
   "execution_count": 17,
   "metadata": {},
   "outputs": [
    {
     "data": {
      "text/plain": [
       "'rang(A)=2, rang(Ab)=2, število neznank: 2, det(A)=1.000000000006551e-05'"
      ]
     },
     "execution_count": 17,
     "metadata": {},
     "output_type": "execute_result"
    }
   ],
   "source": [
    "f'rang(A)={np.linalg.matrix_rank(A)}, rang(Ab)={np.linalg.matrix_rank(Ab)}, \\\n",
    "število neznank: {len(A[:,0])}, det(A)={np.linalg.det(A)}'"
   ]
  },
  {
   "cell_type": "markdown",
   "metadata": {
    "slideshow": {
     "slide_type": "subslide"
    }
   },
   "source": [
    "Od druge enačbe odšejemo prvo:"
   ]
  },
  {
   "cell_type": "code",
   "execution_count": 18,
   "metadata": {},
   "outputs": [
    {
     "data": {
      "text/plain": [
       "array([[ 1.e+00,  1.e+00,  3.e+00],\n",
       "       [ 0.e+00,  1.e-05, -6.e+00]])"
      ]
     },
     "execution_count": 18,
     "metadata": {},
     "output_type": "execute_result"
    }
   ],
   "source": [
    "Ab[1,:] -= Ab[0,:]\n",
    "Ab"
   ]
  },
  {
   "cell_type": "markdown",
   "metadata": {
    "slideshow": {
     "slide_type": "subslide"
    }
   },
   "source": [
    "Določimo `x1`:"
   ]
  },
  {
   "cell_type": "code",
   "execution_count": 19,
   "metadata": {},
   "outputs": [
    {
     "data": {
      "text/plain": [
       "-599999.9999960692"
      ]
     },
     "execution_count": 19,
     "metadata": {},
     "output_type": "execute_result"
    }
   ],
   "source": [
    "x1 = Ab[1,2]/Ab[1,1]\n",
    "x1"
   ]
  },
  {
   "cell_type": "markdown",
   "metadata": {},
   "source": [
    "Preostane še določitev `x0`:"
   ]
  },
  {
   "cell_type": "code",
   "execution_count": 20,
   "metadata": {
    "slideshow": {
     "slide_type": "subslide"
    }
   },
   "outputs": [
    {
     "data": {
      "text/plain": [
       "600002.9999960692"
      ]
     },
     "execution_count": 20,
     "metadata": {},
     "output_type": "execute_result"
    }
   ],
   "source": [
    "x0 = (Ab[0,2] - Ab[0,1]*x1)/Ab[0,0]\n",
    "x0"
   ]
  },
  {
   "cell_type": "markdown",
   "metadata": {
    "slideshow": {
     "slide_type": "subslide"
    }
   },
   "source": [
    "Malenkostno spremenimo matriko koeficientov in ponovimo reševanje:"
   ]
  },
  {
   "cell_type": "code",
   "execution_count": 21,
   "metadata": {},
   "outputs": [
    {
     "data": {
      "text/plain": [
       "40002.000074915224"
      ]
     },
     "execution_count": 21,
     "metadata": {},
     "output_type": "execute_result"
    }
   ],
   "source": [
    "A = np.array([[1 , 1],\n",
    "              [1, 1.0001]]) # <= tukaj smo spremenili 1.00001 na 1.0001\n",
    "np.linalg.cond(A)"
   ]
  },
  {
   "cell_type": "markdown",
   "metadata": {
    "slideshow": {
     "slide_type": "subslide"
    }
   },
   "source": [
    "Ponovimo izračun:"
   ]
  },
  {
   "cell_type": "code",
   "execution_count": 22,
   "metadata": {
    "scrolled": true
   },
   "outputs": [],
   "source": [
    "Ab = np.column_stack((A,b))\n",
    "f'rang(A)={np.linalg.matrix_rank(A)}, rang(Ab)={np.linalg.matrix_rank(Ab)}, \\\n",
    "število neznank: {len(A[:,0])}, det(A)={np.linalg.det(A)}'\n",
    "Ab[1,:] -= Ab[0,:]\n",
    "x1_ = Ab[1,2]/Ab[1,1]\n",
    "x0_ = (Ab[0,2] - Ab[0,1]*x1)/Ab[0,0]"
   ]
  },
  {
   "cell_type": "markdown",
   "metadata": {
    "slideshow": {
     "slide_type": "subslide"
    }
   },
   "source": [
    "Primerjamo obe rešitvi:"
   ]
  },
  {
   "cell_type": "code",
   "execution_count": 23,
   "metadata": {},
   "outputs": [
    {
     "data": {
      "text/plain": [
       "[600002.9999960692, -599999.9999960692]"
      ]
     },
     "execution_count": 23,
     "metadata": {},
     "output_type": "execute_result"
    }
   ],
   "source": [
    "[x0, x1] # prva rešitev"
   ]
  },
  {
   "cell_type": "code",
   "execution_count": 24,
   "metadata": {},
   "outputs": [
    {
     "data": {
      "text/plain": [
       "[600002.9999960692, -60000.00000000661]"
      ]
     },
     "execution_count": 24,
     "metadata": {},
     "output_type": "execute_result"
    }
   ],
   "source": [
    "[x0_, x1_] # druga rešitev"
   ]
  },
  {
   "cell_type": "markdown",
   "metadata": {},
   "source": [
    "Ugotovimo, da je malenkostna sprememba enega koeficienta v matriki koeficientov povzročila veliko spremembo v rezultatu. Majhni spremembi podatkov se ne moremo izogniti, zaradi zapisa podatkov v računalniku."
   ]
  },
  {
   "cell_type": "markdown",
   "metadata": {
    "slideshow": {
     "slide_type": "subslide"
    }
   },
   "source": [
    "## Numerično reševanje sistemov linearnih enačb"
   ]
  },
  {
   "cell_type": "markdown",
   "metadata": {},
   "source": [
    "\n",
    "Pogledali si bomo dva, v principu različna pristopa k reševanju sistemov linearnih enačb:\n",
    "\n",
    "A) **Direktni pristop**: nad sistemom enačb izvajamo elementarne operacije, s katerimi predelamo sistem enačb v lažje rešljivega,\n",
    "\n",
    "B) **Iterativni pristop**: izberemo začetni približek, nato pa približek iterativno izboljšujemo."
   ]
  },
  {
   "cell_type": "markdown",
   "metadata": {
    "slideshow": {
     "slide_type": "slide"
    }
   },
   "source": [
    "# Gaussova eliminacija\n",
    "\n",
    "Predpostavimo, da rešujemo sistem $n$ enačb za $n$ neznank, ki ima rang $n$. Tak sistem je enolično rešljiv. \n",
    "\n",
    "Gaussova eliminacija spada med direktne metode, saj s pomočjo elementarnih vrstičnih operacij sistem enačb prevedemo v zgornje poravnani trikotni sistem (pod glavno diagonalo v razširjeni matriki so vrednosti nič)."
   ]
  },
  {
   "cell_type": "markdown",
   "metadata": {
    "slideshow": {
     "slide_type": "subslide"
    }
   },
   "source": [
    "Najprej pripravimo razširjeno matriko koeficientov:\n",
    "$$\\begin{bmatrix}\n",
    "\\mathbf{A}|\\mathbf{b}\n",
    "\\end{bmatrix}=\n",
    "\\left[\\begin{array}{cccc|c}\n",
    "A_{0,0}&A_{0,1}&\\cdots & A_{0,n-1} & b_0\\\\\n",
    "A_{1,0}&A_{0,1}&\\cdots & A_{1,n-1} & b_1\\\\\n",
    "\\vdots&\\vdots&\\ddots & \\vdots & \\vdots\\\\\n",
    "A_{n-1,0}&A_{n-1,1}&\\cdots & A_{n-1,n-1} & b_{n-1}\\\\\n",
    "\\end{array}\\right]\n",
    "$$"
   ]
  },
  {
   "cell_type": "markdown",
   "metadata": {
    "slideshow": {
     "slide_type": "subslide"
    }
   },
   "source": [
    "Gaussovo eliminacijo si bomo pogledali na zgledu:"
   ]
  },
  {
   "cell_type": "code",
   "execution_count": 44,
   "metadata": {},
   "outputs": [],
   "source": [
    "A = np.array([[ 8., -6, 3],\n",
    "              [-6, 6,-6],\n",
    "              [ 3, -6, 6]])\n",
    "b = np.array([-14, 36, 6])\n",
    "Ab = np.column_stack((A,b))"
   ]
  },
  {
   "cell_type": "code",
   "execution_count": 50,
   "metadata": {
    "slideshow": {
     "slide_type": "subslide"
    }
   },
   "outputs": [
    {
     "data": {
      "text/plain": [
       "array([[  8.,  -6.,   3., -14.],\n",
       "       [ -6.,   6.,  -6.,  36.],\n",
       "       [  3.,  -6.,   6.,   6.]])"
      ]
     },
     "execution_count": 50,
     "metadata": {},
     "output_type": "execute_result"
    }
   ],
   "source": [
    "Ab"
   ]
  },
  {
   "cell_type": "markdown",
   "metadata": {
    "slideshow": {
     "slide_type": "subslide"
    }
   },
   "source": [
    "Korak 0: prvo vrstico pomnožimo z `Ab[1,0]/Ab[0,0]=-6/8` in odštejemo od druge:"
   ]
  },
  {
   "cell_type": "code",
   "execution_count": 51,
   "metadata": {},
   "outputs": [
    {
     "data": {
      "text/plain": [
       "array([[  8.  ,  -6.  ,   3.  , -14.  ],\n",
       "       [  0.  ,   1.5 ,  -3.75,  25.5 ],\n",
       "       [  3.  ,  -6.  ,   6.  ,   6.  ]])"
      ]
     },
     "execution_count": 51,
     "metadata": {},
     "output_type": "execute_result"
    }
   ],
   "source": [
    "Ab[1,:] -= Ab[1,0]/Ab[0,0] * Ab[0,:]\n",
    "Ab"
   ]
  },
  {
   "cell_type": "markdown",
   "metadata": {
    "slideshow": {
     "slide_type": "subslide"
    }
   },
   "source": [
    "Nato prvo vrstico pomnožimo z `Ab[2,0]/Ab[0,0]=3/8` in odštejemo od tretje:"
   ]
  },
  {
   "cell_type": "code",
   "execution_count": 52,
   "metadata": {},
   "outputs": [
    {
     "data": {
      "text/plain": [
       "array([[  8.   ,  -6.   ,   3.   , -14.   ],\n",
       "       [  0.   ,   1.5  ,  -3.75 ,  25.5  ],\n",
       "       [  0.   ,  -3.75 ,   4.875,  11.25 ]])"
      ]
     },
     "execution_count": 52,
     "metadata": {},
     "output_type": "execute_result"
    }
   ],
   "source": [
    "Ab[2,:] -= Ab[2,0]/Ab[0,0] * Ab[0,:]\n",
    "Ab"
   ]
  },
  {
   "cell_type": "markdown",
   "metadata": {
    "slideshow": {
     "slide_type": "subslide"
    }
   },
   "source": [
    "Korak 1: drugo vrstico pomnožimo z `Ab[2,1]/Ab[1,1]=-3.75/1.5` in odštejemo od tretje:"
   ]
  },
  {
   "cell_type": "code",
   "execution_count": 53,
   "metadata": {
    "slideshow": {
     "slide_type": "subslide"
    }
   },
   "outputs": [
    {
     "data": {
      "text/plain": [
       "array([[  8.  ,  -6.  ,   3.  , -14.  ],\n",
       "       [  0.  ,   1.5 ,  -3.75,  25.5 ],\n",
       "       [  0.  ,   0.  ,  -4.5 ,  75.  ]])"
      ]
     },
     "execution_count": 53,
     "metadata": {},
     "output_type": "execute_result"
    }
   ],
   "source": [
    "Ab[2,:] -= Ab[2,1]/Ab[1,1] * Ab[1,:]\n",
    "Ab"
   ]
  },
  {
   "cell_type": "markdown",
   "metadata": {
    "slideshow": {
     "slide_type": "subslide"
    }
   },
   "source": [
    "Eliminacijo lahko tudi animiramo (uporabimo predpripravljen modul):"
   ]
  },
  {
   "cell_type": "code",
   "execution_count": 55,
   "metadata": {},
   "outputs": [
    {
     "name": "stderr",
     "output_type": "stream",
     "text": [
      "UsageError: unrecognized arguments: # moramo uporabiti interaktivni način\n"
     ]
    }
   ],
   "source": [
    "from moduli.gauss_prikaz import gauss_visualize\n",
    "%matplotlib notebook # moramo uporabiti interaktivni način"
   ]
  },
  {
   "cell_type": "code",
   "execution_count": 58,
   "metadata": {},
   "outputs": [
    {
     "data": {
      "application/javascript": [
       "/* Put everything inside the global mpl namespace */\n",
       "window.mpl = {};\n",
       "\n",
       "\n",
       "mpl.get_websocket_type = function() {\n",
       "    if (typeof(WebSocket) !== 'undefined') {\n",
       "        return WebSocket;\n",
       "    } else if (typeof(MozWebSocket) !== 'undefined') {\n",
       "        return MozWebSocket;\n",
       "    } else {\n",
       "        alert('Your browser does not have WebSocket support.' +\n",
       "              'Please try Chrome, Safari or Firefox ≥ 6. ' +\n",
       "              'Firefox 4 and 5 are also supported but you ' +\n",
       "              'have to enable WebSockets in about:config.');\n",
       "    };\n",
       "}\n",
       "\n",
       "mpl.figure = function(figure_id, websocket, ondownload, parent_element) {\n",
       "    this.id = figure_id;\n",
       "\n",
       "    this.ws = websocket;\n",
       "\n",
       "    this.supports_binary = (this.ws.binaryType != undefined);\n",
       "\n",
       "    if (!this.supports_binary) {\n",
       "        var warnings = document.getElementById(\"mpl-warnings\");\n",
       "        if (warnings) {\n",
       "            warnings.style.display = 'block';\n",
       "            warnings.textContent = (\n",
       "                \"This browser does not support binary websocket messages. \" +\n",
       "                    \"Performance may be slow.\");\n",
       "        }\n",
       "    }\n",
       "\n",
       "    this.imageObj = new Image();\n",
       "\n",
       "    this.context = undefined;\n",
       "    this.message = undefined;\n",
       "    this.canvas = undefined;\n",
       "    this.rubberband_canvas = undefined;\n",
       "    this.rubberband_context = undefined;\n",
       "    this.format_dropdown = undefined;\n",
       "\n",
       "    this.image_mode = 'full';\n",
       "\n",
       "    this.root = $('<div/>');\n",
       "    this._root_extra_style(this.root)\n",
       "    this.root.attr('style', 'display: inline-block');\n",
       "\n",
       "    $(parent_element).append(this.root);\n",
       "\n",
       "    this._init_header(this);\n",
       "    this._init_canvas(this);\n",
       "    this._init_toolbar(this);\n",
       "\n",
       "    var fig = this;\n",
       "\n",
       "    this.waiting = false;\n",
       "\n",
       "    this.ws.onopen =  function () {\n",
       "            fig.send_message(\"supports_binary\", {value: fig.supports_binary});\n",
       "            fig.send_message(\"send_image_mode\", {});\n",
       "            if (mpl.ratio != 1) {\n",
       "                fig.send_message(\"set_dpi_ratio\", {'dpi_ratio': mpl.ratio});\n",
       "            }\n",
       "            fig.send_message(\"refresh\", {});\n",
       "        }\n",
       "\n",
       "    this.imageObj.onload = function() {\n",
       "            if (fig.image_mode == 'full') {\n",
       "                // Full images could contain transparency (where diff images\n",
       "                // almost always do), so we need to clear the canvas so that\n",
       "                // there is no ghosting.\n",
       "                fig.context.clearRect(0, 0, fig.canvas.width, fig.canvas.height);\n",
       "            }\n",
       "            fig.context.drawImage(fig.imageObj, 0, 0);\n",
       "        };\n",
       "\n",
       "    this.imageObj.onunload = function() {\n",
       "        fig.ws.close();\n",
       "    }\n",
       "\n",
       "    this.ws.onmessage = this._make_on_message_function(this);\n",
       "\n",
       "    this.ondownload = ondownload;\n",
       "}\n",
       "\n",
       "mpl.figure.prototype._init_header = function() {\n",
       "    var titlebar = $(\n",
       "        '<div class=\"ui-dialog-titlebar ui-widget-header ui-corner-all ' +\n",
       "        'ui-helper-clearfix\"/>');\n",
       "    var titletext = $(\n",
       "        '<div class=\"ui-dialog-title\" style=\"width: 100%; ' +\n",
       "        'text-align: center; padding: 3px;\"/>');\n",
       "    titlebar.append(titletext)\n",
       "    this.root.append(titlebar);\n",
       "    this.header = titletext[0];\n",
       "}\n",
       "\n",
       "\n",
       "\n",
       "mpl.figure.prototype._canvas_extra_style = function(canvas_div) {\n",
       "\n",
       "}\n",
       "\n",
       "\n",
       "mpl.figure.prototype._root_extra_style = function(canvas_div) {\n",
       "\n",
       "}\n",
       "\n",
       "mpl.figure.prototype._init_canvas = function() {\n",
       "    var fig = this;\n",
       "\n",
       "    var canvas_div = $('<div/>');\n",
       "\n",
       "    canvas_div.attr('style', 'position: relative; clear: both; outline: 0');\n",
       "\n",
       "    function canvas_keyboard_event(event) {\n",
       "        return fig.key_event(event, event['data']);\n",
       "    }\n",
       "\n",
       "    canvas_div.keydown('key_press', canvas_keyboard_event);\n",
       "    canvas_div.keyup('key_release', canvas_keyboard_event);\n",
       "    this.canvas_div = canvas_div\n",
       "    this._canvas_extra_style(canvas_div)\n",
       "    this.root.append(canvas_div);\n",
       "\n",
       "    var canvas = $('<canvas/>');\n",
       "    canvas.addClass('mpl-canvas');\n",
       "    canvas.attr('style', \"left: 0; top: 0; z-index: 0; outline: 0\")\n",
       "\n",
       "    this.canvas = canvas[0];\n",
       "    this.context = canvas[0].getContext(\"2d\");\n",
       "\n",
       "    var backingStore = this.context.backingStorePixelRatio ||\n",
       "\tthis.context.webkitBackingStorePixelRatio ||\n",
       "\tthis.context.mozBackingStorePixelRatio ||\n",
       "\tthis.context.msBackingStorePixelRatio ||\n",
       "\tthis.context.oBackingStorePixelRatio ||\n",
       "\tthis.context.backingStorePixelRatio || 1;\n",
       "\n",
       "    mpl.ratio = (window.devicePixelRatio || 1) / backingStore;\n",
       "\n",
       "    var rubberband = $('<canvas/>');\n",
       "    rubberband.attr('style', \"position: absolute; left: 0; top: 0; z-index: 1;\")\n",
       "\n",
       "    var pass_mouse_events = true;\n",
       "\n",
       "    canvas_div.resizable({\n",
       "        start: function(event, ui) {\n",
       "            pass_mouse_events = false;\n",
       "        },\n",
       "        resize: function(event, ui) {\n",
       "            fig.request_resize(ui.size.width, ui.size.height);\n",
       "        },\n",
       "        stop: function(event, ui) {\n",
       "            pass_mouse_events = true;\n",
       "            fig.request_resize(ui.size.width, ui.size.height);\n",
       "        },\n",
       "    });\n",
       "\n",
       "    function mouse_event_fn(event) {\n",
       "        if (pass_mouse_events)\n",
       "            return fig.mouse_event(event, event['data']);\n",
       "    }\n",
       "\n",
       "    rubberband.mousedown('button_press', mouse_event_fn);\n",
       "    rubberband.mouseup('button_release', mouse_event_fn);\n",
       "    // Throttle sequential mouse events to 1 every 20ms.\n",
       "    rubberband.mousemove('motion_notify', mouse_event_fn);\n",
       "\n",
       "    rubberband.mouseenter('figure_enter', mouse_event_fn);\n",
       "    rubberband.mouseleave('figure_leave', mouse_event_fn);\n",
       "\n",
       "    canvas_div.on(\"wheel\", function (event) {\n",
       "        event = event.originalEvent;\n",
       "        event['data'] = 'scroll'\n",
       "        if (event.deltaY < 0) {\n",
       "            event.step = 1;\n",
       "        } else {\n",
       "            event.step = -1;\n",
       "        }\n",
       "        mouse_event_fn(event);\n",
       "    });\n",
       "\n",
       "    canvas_div.append(canvas);\n",
       "    canvas_div.append(rubberband);\n",
       "\n",
       "    this.rubberband = rubberband;\n",
       "    this.rubberband_canvas = rubberband[0];\n",
       "    this.rubberband_context = rubberband[0].getContext(\"2d\");\n",
       "    this.rubberband_context.strokeStyle = \"#000000\";\n",
       "\n",
       "    this._resize_canvas = function(width, height) {\n",
       "        // Keep the size of the canvas, canvas container, and rubber band\n",
       "        // canvas in synch.\n",
       "        canvas_div.css('width', width)\n",
       "        canvas_div.css('height', height)\n",
       "\n",
       "        canvas.attr('width', width * mpl.ratio);\n",
       "        canvas.attr('height', height * mpl.ratio);\n",
       "        canvas.attr('style', 'width: ' + width + 'px; height: ' + height + 'px;');\n",
       "\n",
       "        rubberband.attr('width', width);\n",
       "        rubberband.attr('height', height);\n",
       "    }\n",
       "\n",
       "    // Set the figure to an initial 600x600px, this will subsequently be updated\n",
       "    // upon first draw.\n",
       "    this._resize_canvas(600, 600);\n",
       "\n",
       "    // Disable right mouse context menu.\n",
       "    $(this.rubberband_canvas).bind(\"contextmenu\",function(e){\n",
       "        return false;\n",
       "    });\n",
       "\n",
       "    function set_focus () {\n",
       "        canvas.focus();\n",
       "        canvas_div.focus();\n",
       "    }\n",
       "\n",
       "    window.setTimeout(set_focus, 100);\n",
       "}\n",
       "\n",
       "mpl.figure.prototype._init_toolbar = function() {\n",
       "    var fig = this;\n",
       "\n",
       "    var nav_element = $('<div/>')\n",
       "    nav_element.attr('style', 'width: 100%');\n",
       "    this.root.append(nav_element);\n",
       "\n",
       "    // Define a callback function for later on.\n",
       "    function toolbar_event(event) {\n",
       "        return fig.toolbar_button_onclick(event['data']);\n",
       "    }\n",
       "    function toolbar_mouse_event(event) {\n",
       "        return fig.toolbar_button_onmouseover(event['data']);\n",
       "    }\n",
       "\n",
       "    for(var toolbar_ind in mpl.toolbar_items) {\n",
       "        var name = mpl.toolbar_items[toolbar_ind][0];\n",
       "        var tooltip = mpl.toolbar_items[toolbar_ind][1];\n",
       "        var image = mpl.toolbar_items[toolbar_ind][2];\n",
       "        var method_name = mpl.toolbar_items[toolbar_ind][3];\n",
       "\n",
       "        if (!name) {\n",
       "            // put a spacer in here.\n",
       "            continue;\n",
       "        }\n",
       "        var button = $('<button/>');\n",
       "        button.addClass('ui-button ui-widget ui-state-default ui-corner-all ' +\n",
       "                        'ui-button-icon-only');\n",
       "        button.attr('role', 'button');\n",
       "        button.attr('aria-disabled', 'false');\n",
       "        button.click(method_name, toolbar_event);\n",
       "        button.mouseover(tooltip, toolbar_mouse_event);\n",
       "\n",
       "        var icon_img = $('<span/>');\n",
       "        icon_img.addClass('ui-button-icon-primary ui-icon');\n",
       "        icon_img.addClass(image);\n",
       "        icon_img.addClass('ui-corner-all');\n",
       "\n",
       "        var tooltip_span = $('<span/>');\n",
       "        tooltip_span.addClass('ui-button-text');\n",
       "        tooltip_span.html(tooltip);\n",
       "\n",
       "        button.append(icon_img);\n",
       "        button.append(tooltip_span);\n",
       "\n",
       "        nav_element.append(button);\n",
       "    }\n",
       "\n",
       "    var fmt_picker_span = $('<span/>');\n",
       "\n",
       "    var fmt_picker = $('<select/>');\n",
       "    fmt_picker.addClass('mpl-toolbar-option ui-widget ui-widget-content');\n",
       "    fmt_picker_span.append(fmt_picker);\n",
       "    nav_element.append(fmt_picker_span);\n",
       "    this.format_dropdown = fmt_picker[0];\n",
       "\n",
       "    for (var ind in mpl.extensions) {\n",
       "        var fmt = mpl.extensions[ind];\n",
       "        var option = $(\n",
       "            '<option/>', {selected: fmt === mpl.default_extension}).html(fmt);\n",
       "        fmt_picker.append(option)\n",
       "    }\n",
       "\n",
       "    // Add hover states to the ui-buttons\n",
       "    $( \".ui-button\" ).hover(\n",
       "        function() { $(this).addClass(\"ui-state-hover\");},\n",
       "        function() { $(this).removeClass(\"ui-state-hover\");}\n",
       "    );\n",
       "\n",
       "    var status_bar = $('<span class=\"mpl-message\"/>');\n",
       "    nav_element.append(status_bar);\n",
       "    this.message = status_bar[0];\n",
       "}\n",
       "\n",
       "mpl.figure.prototype.request_resize = function(x_pixels, y_pixels) {\n",
       "    // Request matplotlib to resize the figure. Matplotlib will then trigger a resize in the client,\n",
       "    // which will in turn request a refresh of the image.\n",
       "    this.send_message('resize', {'width': x_pixels, 'height': y_pixels});\n",
       "}\n",
       "\n",
       "mpl.figure.prototype.send_message = function(type, properties) {\n",
       "    properties['type'] = type;\n",
       "    properties['figure_id'] = this.id;\n",
       "    this.ws.send(JSON.stringify(properties));\n",
       "}\n",
       "\n",
       "mpl.figure.prototype.send_draw_message = function() {\n",
       "    if (!this.waiting) {\n",
       "        this.waiting = true;\n",
       "        this.ws.send(JSON.stringify({type: \"draw\", figure_id: this.id}));\n",
       "    }\n",
       "}\n",
       "\n",
       "\n",
       "mpl.figure.prototype.handle_save = function(fig, msg) {\n",
       "    var format_dropdown = fig.format_dropdown;\n",
       "    var format = format_dropdown.options[format_dropdown.selectedIndex].value;\n",
       "    fig.ondownload(fig, format);\n",
       "}\n",
       "\n",
       "\n",
       "mpl.figure.prototype.handle_resize = function(fig, msg) {\n",
       "    var size = msg['size'];\n",
       "    if (size[0] != fig.canvas.width || size[1] != fig.canvas.height) {\n",
       "        fig._resize_canvas(size[0], size[1]);\n",
       "        fig.send_message(\"refresh\", {});\n",
       "    };\n",
       "}\n",
       "\n",
       "mpl.figure.prototype.handle_rubberband = function(fig, msg) {\n",
       "    var x0 = msg['x0'] / mpl.ratio;\n",
       "    var y0 = (fig.canvas.height - msg['y0']) / mpl.ratio;\n",
       "    var x1 = msg['x1'] / mpl.ratio;\n",
       "    var y1 = (fig.canvas.height - msg['y1']) / mpl.ratio;\n",
       "    x0 = Math.floor(x0) + 0.5;\n",
       "    y0 = Math.floor(y0) + 0.5;\n",
       "    x1 = Math.floor(x1) + 0.5;\n",
       "    y1 = Math.floor(y1) + 0.5;\n",
       "    var min_x = Math.min(x0, x1);\n",
       "    var min_y = Math.min(y0, y1);\n",
       "    var width = Math.abs(x1 - x0);\n",
       "    var height = Math.abs(y1 - y0);\n",
       "\n",
       "    fig.rubberband_context.clearRect(\n",
       "        0, 0, fig.canvas.width, fig.canvas.height);\n",
       "\n",
       "    fig.rubberband_context.strokeRect(min_x, min_y, width, height);\n",
       "}\n",
       "\n",
       "mpl.figure.prototype.handle_figure_label = function(fig, msg) {\n",
       "    // Updates the figure title.\n",
       "    fig.header.textContent = msg['label'];\n",
       "}\n",
       "\n",
       "mpl.figure.prototype.handle_cursor = function(fig, msg) {\n",
       "    var cursor = msg['cursor'];\n",
       "    switch(cursor)\n",
       "    {\n",
       "    case 0:\n",
       "        cursor = 'pointer';\n",
       "        break;\n",
       "    case 1:\n",
       "        cursor = 'default';\n",
       "        break;\n",
       "    case 2:\n",
       "        cursor = 'crosshair';\n",
       "        break;\n",
       "    case 3:\n",
       "        cursor = 'move';\n",
       "        break;\n",
       "    }\n",
       "    fig.rubberband_canvas.style.cursor = cursor;\n",
       "}\n",
       "\n",
       "mpl.figure.prototype.handle_message = function(fig, msg) {\n",
       "    fig.message.textContent = msg['message'];\n",
       "}\n",
       "\n",
       "mpl.figure.prototype.handle_draw = function(fig, msg) {\n",
       "    // Request the server to send over a new figure.\n",
       "    fig.send_draw_message();\n",
       "}\n",
       "\n",
       "mpl.figure.prototype.handle_image_mode = function(fig, msg) {\n",
       "    fig.image_mode = msg['mode'];\n",
       "}\n",
       "\n",
       "mpl.figure.prototype.updated_canvas_event = function() {\n",
       "    // Called whenever the canvas gets updated.\n",
       "    this.send_message(\"ack\", {});\n",
       "}\n",
       "\n",
       "// A function to construct a web socket function for onmessage handling.\n",
       "// Called in the figure constructor.\n",
       "mpl.figure.prototype._make_on_message_function = function(fig) {\n",
       "    return function socket_on_message(evt) {\n",
       "        if (evt.data instanceof Blob) {\n",
       "            /* FIXME: We get \"Resource interpreted as Image but\n",
       "             * transferred with MIME type text/plain:\" errors on\n",
       "             * Chrome.  But how to set the MIME type?  It doesn't seem\n",
       "             * to be part of the websocket stream */\n",
       "            evt.data.type = \"image/png\";\n",
       "\n",
       "            /* Free the memory for the previous frames */\n",
       "            if (fig.imageObj.src) {\n",
       "                (window.URL || window.webkitURL).revokeObjectURL(\n",
       "                    fig.imageObj.src);\n",
       "            }\n",
       "\n",
       "            fig.imageObj.src = (window.URL || window.webkitURL).createObjectURL(\n",
       "                evt.data);\n",
       "            fig.updated_canvas_event();\n",
       "            fig.waiting = false;\n",
       "            return;\n",
       "        }\n",
       "        else if (typeof evt.data === 'string' && evt.data.slice(0, 21) == \"data:image/png;base64\") {\n",
       "            fig.imageObj.src = evt.data;\n",
       "            fig.updated_canvas_event();\n",
       "            fig.waiting = false;\n",
       "            return;\n",
       "        }\n",
       "\n",
       "        var msg = JSON.parse(evt.data);\n",
       "        var msg_type = msg['type'];\n",
       "\n",
       "        // Call the  \"handle_{type}\" callback, which takes\n",
       "        // the figure and JSON message as its only arguments.\n",
       "        try {\n",
       "            var callback = fig[\"handle_\" + msg_type];\n",
       "        } catch (e) {\n",
       "            console.log(\"No handler for the '\" + msg_type + \"' message type: \", msg);\n",
       "            return;\n",
       "        }\n",
       "\n",
       "        if (callback) {\n",
       "            try {\n",
       "                // console.log(\"Handling '\" + msg_type + \"' message: \", msg);\n",
       "                callback(fig, msg);\n",
       "            } catch (e) {\n",
       "                console.log(\"Exception inside the 'handler_\" + msg_type + \"' callback:\", e, e.stack, msg);\n",
       "            }\n",
       "        }\n",
       "    };\n",
       "}\n",
       "\n",
       "// from http://stackoverflow.com/questions/1114465/getting-mouse-location-in-canvas\n",
       "mpl.findpos = function(e) {\n",
       "    //this section is from http://www.quirksmode.org/js/events_properties.html\n",
       "    var targ;\n",
       "    if (!e)\n",
       "        e = window.event;\n",
       "    if (e.target)\n",
       "        targ = e.target;\n",
       "    else if (e.srcElement)\n",
       "        targ = e.srcElement;\n",
       "    if (targ.nodeType == 3) // defeat Safari bug\n",
       "        targ = targ.parentNode;\n",
       "\n",
       "    // jQuery normalizes the pageX and pageY\n",
       "    // pageX,Y are the mouse positions relative to the document\n",
       "    // offset() returns the position of the element relative to the document\n",
       "    var x = e.pageX - $(targ).offset().left;\n",
       "    var y = e.pageY - $(targ).offset().top;\n",
       "\n",
       "    return {\"x\": x, \"y\": y};\n",
       "};\n",
       "\n",
       "/*\n",
       " * return a copy of an object with only non-object keys\n",
       " * we need this to avoid circular references\n",
       " * http://stackoverflow.com/a/24161582/3208463\n",
       " */\n",
       "function simpleKeys (original) {\n",
       "  return Object.keys(original).reduce(function (obj, key) {\n",
       "    if (typeof original[key] !== 'object')\n",
       "        obj[key] = original[key]\n",
       "    return obj;\n",
       "  }, {});\n",
       "}\n",
       "\n",
       "mpl.figure.prototype.mouse_event = function(event, name) {\n",
       "    var canvas_pos = mpl.findpos(event)\n",
       "\n",
       "    if (name === 'button_press')\n",
       "    {\n",
       "        this.canvas.focus();\n",
       "        this.canvas_div.focus();\n",
       "    }\n",
       "\n",
       "    var x = canvas_pos.x * mpl.ratio;\n",
       "    var y = canvas_pos.y * mpl.ratio;\n",
       "\n",
       "    this.send_message(name, {x: x, y: y, button: event.button,\n",
       "                             step: event.step,\n",
       "                             guiEvent: simpleKeys(event)});\n",
       "\n",
       "    /* This prevents the web browser from automatically changing to\n",
       "     * the text insertion cursor when the button is pressed.  We want\n",
       "     * to control all of the cursor setting manually through the\n",
       "     * 'cursor' event from matplotlib */\n",
       "    event.preventDefault();\n",
       "    return false;\n",
       "}\n",
       "\n",
       "mpl.figure.prototype._key_event_extra = function(event, name) {\n",
       "    // Handle any extra behaviour associated with a key event\n",
       "}\n",
       "\n",
       "mpl.figure.prototype.key_event = function(event, name) {\n",
       "\n",
       "    // Prevent repeat events\n",
       "    if (name == 'key_press')\n",
       "    {\n",
       "        if (event.which === this._key)\n",
       "            return;\n",
       "        else\n",
       "            this._key = event.which;\n",
       "    }\n",
       "    if (name == 'key_release')\n",
       "        this._key = null;\n",
       "\n",
       "    var value = '';\n",
       "    if (event.ctrlKey && event.which != 17)\n",
       "        value += \"ctrl+\";\n",
       "    if (event.altKey && event.which != 18)\n",
       "        value += \"alt+\";\n",
       "    if (event.shiftKey && event.which != 16)\n",
       "        value += \"shift+\";\n",
       "\n",
       "    value += 'k';\n",
       "    value += event.which.toString();\n",
       "\n",
       "    this._key_event_extra(event, name);\n",
       "\n",
       "    this.send_message(name, {key: value,\n",
       "                             guiEvent: simpleKeys(event)});\n",
       "    return false;\n",
       "}\n",
       "\n",
       "mpl.figure.prototype.toolbar_button_onclick = function(name) {\n",
       "    if (name == 'download') {\n",
       "        this.handle_save(this, null);\n",
       "    } else {\n",
       "        this.send_message(\"toolbar_button\", {name: name});\n",
       "    }\n",
       "};\n",
       "\n",
       "mpl.figure.prototype.toolbar_button_onmouseover = function(tooltip) {\n",
       "    this.message.textContent = tooltip;\n",
       "};\n",
       "mpl.toolbar_items = [[\"Home\", \"Reset original view\", \"fa fa-home icon-home\", \"home\"], [\"Back\", \"Back to previous view\", \"fa fa-arrow-left icon-arrow-left\", \"back\"], [\"Forward\", \"Forward to next view\", \"fa fa-arrow-right icon-arrow-right\", \"forward\"], [\"\", \"\", \"\", \"\"], [\"Pan\", \"Pan axes with left mouse, zoom with right\", \"fa fa-arrows icon-move\", \"pan\"], [\"Zoom\", \"Zoom to rectangle\", \"fa fa-square-o icon-check-empty\", \"zoom\"], [\"\", \"\", \"\", \"\"], [\"Download\", \"Download plot\", \"fa fa-floppy-o icon-save\", \"download\"]];\n",
       "\n",
       "mpl.extensions = [\"eps\", \"jpeg\", \"pdf\", \"png\", \"ps\", \"raw\", \"svg\", \"tif\"];\n",
       "\n",
       "mpl.default_extension = \"png\";var comm_websocket_adapter = function(comm) {\n",
       "    // Create a \"websocket\"-like object which calls the given IPython comm\n",
       "    // object with the appropriate methods. Currently this is a non binary\n",
       "    // socket, so there is still some room for performance tuning.\n",
       "    var ws = {};\n",
       "\n",
       "    ws.close = function() {\n",
       "        comm.close()\n",
       "    };\n",
       "    ws.send = function(m) {\n",
       "        //console.log('sending', m);\n",
       "        comm.send(m);\n",
       "    };\n",
       "    // Register the callback with on_msg.\n",
       "    comm.on_msg(function(msg) {\n",
       "        //console.log('receiving', msg['content']['data'], msg);\n",
       "        // Pass the mpl event to the overridden (by mpl) onmessage function.\n",
       "        ws.onmessage(msg['content']['data'])\n",
       "    });\n",
       "    return ws;\n",
       "}\n",
       "\n",
       "mpl.mpl_figure_comm = function(comm, msg) {\n",
       "    // This is the function which gets called when the mpl process\n",
       "    // starts-up an IPython Comm through the \"matplotlib\" channel.\n",
       "\n",
       "    var id = msg.content.data.id;\n",
       "    // Get hold of the div created by the display call when the Comm\n",
       "    // socket was opened in Python.\n",
       "    var element = $(\"#\" + id);\n",
       "    var ws_proxy = comm_websocket_adapter(comm)\n",
       "\n",
       "    function ondownload(figure, format) {\n",
       "        window.open(figure.imageObj.src);\n",
       "    }\n",
       "\n",
       "    var fig = new mpl.figure(id, ws_proxy,\n",
       "                           ondownload,\n",
       "                           element.get(0));\n",
       "\n",
       "    // Call onopen now - mpl needs it, as it is assuming we've passed it a real\n",
       "    // web socket which is closed, not our websocket->open comm proxy.\n",
       "    ws_proxy.onopen();\n",
       "\n",
       "    fig.parent_element = element.get(0);\n",
       "    fig.cell_info = mpl.find_output_cell(\"<div id='\" + id + \"'></div>\");\n",
       "    if (!fig.cell_info) {\n",
       "        console.error(\"Failed to find cell for figure\", id, fig);\n",
       "        return;\n",
       "    }\n",
       "\n",
       "    var output_index = fig.cell_info[2]\n",
       "    var cell = fig.cell_info[0];\n",
       "\n",
       "};\n",
       "\n",
       "mpl.figure.prototype.handle_close = function(fig, msg) {\n",
       "    var width = fig.canvas.width/mpl.ratio\n",
       "    fig.root.unbind('remove')\n",
       "\n",
       "    // Update the output cell to use the data from the current canvas.\n",
       "    fig.push_to_output();\n",
       "    var dataURL = fig.canvas.toDataURL();\n",
       "    // Re-enable the keyboard manager in IPython - without this line, in FF,\n",
       "    // the notebook keyboard shortcuts fail.\n",
       "    IPython.keyboard_manager.enable()\n",
       "    $(fig.parent_element).html('<img src=\"' + dataURL + '\" width=\"' + width + '\">');\n",
       "    fig.close_ws(fig, msg);\n",
       "}\n",
       "\n",
       "mpl.figure.prototype.close_ws = function(fig, msg){\n",
       "    fig.send_message('closing', msg);\n",
       "    // fig.ws.close()\n",
       "}\n",
       "\n",
       "mpl.figure.prototype.push_to_output = function(remove_interactive) {\n",
       "    // Turn the data on the canvas into data in the output cell.\n",
       "    var width = this.canvas.width/mpl.ratio\n",
       "    var dataURL = this.canvas.toDataURL();\n",
       "    this.cell_info[1]['text/html'] = '<img src=\"' + dataURL + '\" width=\"' + width + '\">';\n",
       "}\n",
       "\n",
       "mpl.figure.prototype.updated_canvas_event = function() {\n",
       "    // Tell IPython that the notebook contents must change.\n",
       "    IPython.notebook.set_dirty(true);\n",
       "    this.send_message(\"ack\", {});\n",
       "    var fig = this;\n",
       "    // Wait a second, then push the new image to the DOM so\n",
       "    // that it is saved nicely (might be nice to debounce this).\n",
       "    setTimeout(function () { fig.push_to_output() }, 1000);\n",
       "}\n",
       "\n",
       "mpl.figure.prototype._init_toolbar = function() {\n",
       "    var fig = this;\n",
       "\n",
       "    var nav_element = $('<div/>')\n",
       "    nav_element.attr('style', 'width: 100%');\n",
       "    this.root.append(nav_element);\n",
       "\n",
       "    // Define a callback function for later on.\n",
       "    function toolbar_event(event) {\n",
       "        return fig.toolbar_button_onclick(event['data']);\n",
       "    }\n",
       "    function toolbar_mouse_event(event) {\n",
       "        return fig.toolbar_button_onmouseover(event['data']);\n",
       "    }\n",
       "\n",
       "    for(var toolbar_ind in mpl.toolbar_items){\n",
       "        var name = mpl.toolbar_items[toolbar_ind][0];\n",
       "        var tooltip = mpl.toolbar_items[toolbar_ind][1];\n",
       "        var image = mpl.toolbar_items[toolbar_ind][2];\n",
       "        var method_name = mpl.toolbar_items[toolbar_ind][3];\n",
       "\n",
       "        if (!name) { continue; };\n",
       "\n",
       "        var button = $('<button class=\"btn btn-default\" href=\"#\" title=\"' + name + '\"><i class=\"fa ' + image + ' fa-lg\"></i></button>');\n",
       "        button.click(method_name, toolbar_event);\n",
       "        button.mouseover(tooltip, toolbar_mouse_event);\n",
       "        nav_element.append(button);\n",
       "    }\n",
       "\n",
       "    // Add the status bar.\n",
       "    var status_bar = $('<span class=\"mpl-message\" style=\"text-align:right; float: right;\"/>');\n",
       "    nav_element.append(status_bar);\n",
       "    this.message = status_bar[0];\n",
       "\n",
       "    // Add the close button to the window.\n",
       "    var buttongrp = $('<div class=\"btn-group inline pull-right\"></div>');\n",
       "    var button = $('<button class=\"btn btn-mini btn-primary\" href=\"#\" title=\"Stop Interaction\"><i class=\"fa fa-power-off icon-remove icon-large\"></i></button>');\n",
       "    button.click(function (evt) { fig.handle_close(fig, {}); } );\n",
       "    button.mouseover('Stop Interaction', toolbar_mouse_event);\n",
       "    buttongrp.append(button);\n",
       "    var titlebar = this.root.find($('.ui-dialog-titlebar'));\n",
       "    titlebar.prepend(buttongrp);\n",
       "}\n",
       "\n",
       "mpl.figure.prototype._root_extra_style = function(el){\n",
       "    var fig = this\n",
       "    el.on(\"remove\", function(){\n",
       "\tfig.close_ws(fig, {});\n",
       "    });\n",
       "}\n",
       "\n",
       "mpl.figure.prototype._canvas_extra_style = function(el){\n",
       "    // this is important to make the div 'focusable\n",
       "    el.attr('tabindex', 0)\n",
       "    // reach out to IPython and tell the keyboard manager to turn it's self\n",
       "    // off when our div gets focus\n",
       "\n",
       "    // location in version 3\n",
       "    if (IPython.notebook.keyboard_manager) {\n",
       "        IPython.notebook.keyboard_manager.register_events(el);\n",
       "    }\n",
       "    else {\n",
       "        // location in version 2\n",
       "        IPython.keyboard_manager.register_events(el);\n",
       "    }\n",
       "\n",
       "}\n",
       "\n",
       "mpl.figure.prototype._key_event_extra = function(event, name) {\n",
       "    var manager = IPython.notebook.keyboard_manager;\n",
       "    if (!manager)\n",
       "        manager = IPython.keyboard_manager;\n",
       "\n",
       "    // Check for shift+enter\n",
       "    if (event.shiftKey && event.which == 13) {\n",
       "        this.canvas_div.blur();\n",
       "        event.shiftKey = false;\n",
       "        // Send a \"J\" for go to next cell\n",
       "        event.which = 74;\n",
       "        event.keyCode = 74;\n",
       "        manager.command_mode();\n",
       "        manager.handle_keydown(event);\n",
       "    }\n",
       "}\n",
       "\n",
       "mpl.figure.prototype.handle_save = function(fig, msg) {\n",
       "    fig.ondownload(fig, null);\n",
       "}\n",
       "\n",
       "\n",
       "mpl.find_output_cell = function(html_output) {\n",
       "    // Return the cell and output element which can be found *uniquely* in the notebook.\n",
       "    // Note - this is a bit hacky, but it is done because the \"notebook_saving.Notebook\"\n",
       "    // IPython event is triggered only after the cells have been serialised, which for\n",
       "    // our purposes (turning an active figure into a static one), is too late.\n",
       "    var cells = IPython.notebook.get_cells();\n",
       "    var ncells = cells.length;\n",
       "    for (var i=0; i<ncells; i++) {\n",
       "        var cell = cells[i];\n",
       "        if (cell.cell_type === 'code'){\n",
       "            for (var j=0; j<cell.output_area.outputs.length; j++) {\n",
       "                var data = cell.output_area.outputs[j];\n",
       "                if (data.data) {\n",
       "                    // IPython >= 3 moved mimebundle to data attribute of output\n",
       "                    data = data.data;\n",
       "                }\n",
       "                if (data['text/html'] == html_output) {\n",
       "                    return [cell, data, j];\n",
       "                }\n",
       "            }\n",
       "        }\n",
       "    }\n",
       "}\n",
       "\n",
       "// Register the function which deals with the matplotlib target/channel.\n",
       "// The kernel may be null if the page has been refreshed.\n",
       "if (IPython.notebook.kernel != null) {\n",
       "    IPython.notebook.kernel.comm_manager.register_target('matplotlib', mpl.mpl_figure_comm);\n",
       "}\n"
      ],
      "text/plain": [
       "<IPython.core.display.Javascript object>"
      ]
     },
     "metadata": {},
     "output_type": "display_data"
    },
    {
     "data": {
      "text/html": [
       "<img src=\"data:image/png;base64,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\" width=\"640\">"
      ],
      "text/plain": [
       "<IPython.core.display.HTML object>"
      ]
     },
     "metadata": {},
     "output_type": "display_data"
    }
   ],
   "source": [
    "gauss_visualize(A,b, savepath='./fig/gauss_eliminacija.gif', fps=0.75, float_precision=3);"
   ]
  },
  {
   "cell_type": "markdown",
   "metadata": {},
   "source": [
    "<img src='./fig/gauss_eliminacija.gif' width=400>"
   ]
  },
  {
   "cell_type": "markdown",
   "metadata": {
    "slideshow": {
     "slide_type": "subslide"
    }
   },
   "source": [
    "Dobili smo zgornje trikotno matriko in Gaussova eliminacija je končana. Lahko izračunamo rešitev, torej določimo vektor neznank $x$ z **obratnim vstavljanjem**. \n",
    "\n",
    "Iz zadnje vrstice zgornje trikotne matrike izračunamo $x_2$:"
   ]
  },
  {
   "cell_type": "code",
   "execution_count": 59,
   "metadata": {
    "slideshow": {
     "slide_type": "subslide"
    }
   },
   "outputs": [
    {
     "data": {
      "text/plain": [
       "array([[  8.  ,  -6.  ,   3.  , -14.  ],\n",
       "       [  0.  ,   1.5 ,  -3.75,  25.5 ],\n",
       "       [  0.  ,   0.  ,  -4.5 ,  75.  ]])"
      ]
     },
     "execution_count": 59,
     "metadata": {},
     "output_type": "execute_result"
    }
   ],
   "source": [
    "Ab"
   ]
  },
  {
   "cell_type": "code",
   "execution_count": 60,
   "metadata": {
    "slideshow": {
     "slide_type": "-"
    }
   },
   "outputs": [
    {
     "data": {
      "text/plain": [
       "array([  0.        ,   0.        , -16.66666667])"
      ]
     },
     "execution_count": 60,
     "metadata": {},
     "output_type": "execute_result"
    }
   ],
   "source": [
    "x = np.zeros(3) #pripravimo prazen seznam\n",
    "x[2] = Ab[2,-1]/Ab[2,2]\n",
    "x"
   ]
  },
  {
   "cell_type": "markdown",
   "metadata": {},
   "source": [
    "S pomočjo predzadnje vrstice izračunamo $x_1$:"
   ]
  },
  {
   "cell_type": "code",
   "execution_count": 61,
   "metadata": {
    "slideshow": {
     "slide_type": "subslide"
    }
   },
   "outputs": [
    {
     "data": {
      "text/plain": [
       "array([[  8.  ,  -6.  ,   3.  , -14.  ],\n",
       "       [  0.  ,   1.5 ,  -3.75,  25.5 ],\n",
       "       [  0.  ,   0.  ,  -4.5 ,  75.  ]])"
      ]
     },
     "execution_count": 61,
     "metadata": {},
     "output_type": "execute_result"
    }
   ],
   "source": [
    "Ab"
   ]
  },
  {
   "cell_type": "code",
   "execution_count": 62,
   "metadata": {},
   "outputs": [
    {
     "data": {
      "text/plain": [
       "array([  0.        , -24.66666667, -16.66666667])"
      ]
     },
     "execution_count": 62,
     "metadata": {},
     "output_type": "execute_result"
    }
   ],
   "source": [
    "x[1] = (Ab[1,-1] - Ab[1,2]*x[2]) / Ab[1,1]\n",
    "x"
   ]
  },
  {
   "cell_type": "markdown",
   "metadata": {},
   "source": [
    "S pomočjo prve vrstice nato izračunamo $x_0$:"
   ]
  },
  {
   "cell_type": "code",
   "execution_count": 63,
   "metadata": {
    "slideshow": {
     "slide_type": "subslide"
    }
   },
   "outputs": [
    {
     "data": {
      "text/plain": [
       "array([[  8.  ,  -6.  ,   3.  , -14.  ],\n",
       "       [  0.  ,   1.5 ,  -3.75,  25.5 ],\n",
       "       [  0.  ,   0.  ,  -4.5 ,  75.  ]])"
      ]
     },
     "execution_count": 63,
     "metadata": {},
     "output_type": "execute_result"
    }
   ],
   "source": [
    "Ab"
   ]
  },
  {
   "cell_type": "code",
   "execution_count": 64,
   "metadata": {},
   "outputs": [
    {
     "data": {
      "text/plain": [
       "array([-14.        , -24.66666667, -16.66666667])"
      ]
     },
     "execution_count": 64,
     "metadata": {},
     "output_type": "execute_result"
    }
   ],
   "source": [
    "x[0] = (Ab[0,3] - Ab[0,1:3]@x[1:]) / Ab[0,0]\n",
    "x"
   ]
  },
  {
   "cell_type": "markdown",
   "metadata": {
    "slideshow": {
     "slide_type": "subslide"
    }
   },
   "source": [
    "Preverimo rešitev:"
   ]
  },
  {
   "cell_type": "code",
   "execution_count": 65,
   "metadata": {},
   "outputs": [
    {
     "data": {
      "text/plain": [
       "array([0.00000000e+00, 0.00000000e+00, 1.42108547e-14])"
      ]
     },
     "execution_count": 65,
     "metadata": {},
     "output_type": "execute_result"
    }
   ],
   "source": [
    "A @ x - b"
   ]
  },
  {
   "cell_type": "markdown",
   "metadata": {
    "slideshow": {
     "slide_type": "subslide"
    }
   },
   "source": [
    "### Povzetek Gaussove eliminacije"
   ]
  },
  {
   "cell_type": "markdown",
   "metadata": {},
   "source": [
    "V modul ``orodja.py`` shranimo funkciji:"
   ]
  },
  {
   "cell_type": "code",
   "execution_count": 66,
   "metadata": {},
   "outputs": [],
   "source": [
    "def gaussova_eliminacija(A, b, prikazi_korake = False):\n",
    "    Ab = np.column_stack((A, b))\n",
    "    for p, pivot_vrsta in enumerate(Ab[:-1]):\n",
    "        for vrsta in Ab[p+1:]:\n",
    "            if pivot_vrsta[p]:\n",
    "                vrsta[p:] -= pivot_vrsta[p:]*vrsta[p]/pivot_vrsta[p]\n",
    "            else:\n",
    "                raise Exception('Deljenje z 0.')\n",
    "        if prikazi_korake:\n",
    "            print('Korak: {:g}'.format(p))\n",
    "            print(Ab)\n",
    "    return Ab\n",
    "\n",
    "def gaussova_el_resitev(Ub):\n",
    "    v = len(Ub)\n",
    "    x = np.zeros(v)\n",
    "    for p, pivot_vrsta in enumerate(Ub[::-1]):\n",
    "        x[v-p-1] = (pivot_vrsta[-1] - pivot_vrsta[v-p:-1] @ x[v-p:] ) / (pivot_vrsta[v-p-1])\n",
    "    return x"
   ]
  },
  {
   "cell_type": "markdown",
   "metadata": {
    "slideshow": {
     "slide_type": "subslide"
    }
   },
   "source": [
    "Algoritem, s katerim iz zgornje trikotnega sistema enačb $\\mathbf{U}\\,\\mathbf{x}=\\mathbf{b}$ izračunamo rešitev, imenujemo **obratno vstavljanje** (angl. *back substitution*); $\\mathbf{U}$ je zgornje trikotna matrika.\n",
    "\n",
    "V kolikor bi reševali sistem $\\mathbf{L}\\,\\mathbf{x}=\\mathbf{b}$ in je $\\mathbf{L}$ spodnje trikotna matrika, bi to metodo imenovali **direktno vstavljanje** (angl. *forward substitution*)."
   ]
  },
  {
   "cell_type": "code",
   "execution_count": 67,
   "metadata": {
    "slideshow": {
     "slide_type": "subslide"
    }
   },
   "outputs": [
    {
     "data": {
      "text/plain": [
       "array([[  8.  ,  -6.  ,   3.  , -14.  ],\n",
       "       [  0.  ,   1.5 ,  -3.75,  25.5 ],\n",
       "       [  0.  ,   0.  ,  -4.5 ,  75.  ]])"
      ]
     },
     "execution_count": 67,
     "metadata": {},
     "output_type": "execute_result"
    }
   ],
   "source": [
    "Ub = gaussova_eliminacija(A, b, prikazi_korake=False)\n",
    "Ub"
   ]
  },
  {
   "cell_type": "code",
   "execution_count": 68,
   "metadata": {},
   "outputs": [
    {
     "data": {
      "text/plain": [
       "array([-14.        , -24.66666667, -16.66666667])"
      ]
     },
     "execution_count": 68,
     "metadata": {},
     "output_type": "execute_result"
    }
   ],
   "source": [
    "gaussova_el_resitev(Ub)"
   ]
  },
  {
   "cell_type": "markdown",
   "metadata": {
    "slideshow": {
     "slide_type": "subslide"
    }
   },
   "source": [
    "## Numerična zahtevnost"
   ]
  },
  {
   "cell_type": "markdown",
   "metadata": {},
   "source": [
    "Numerično zahtevnost ocenjujemo po številu matematičnih operacij, ki so potrebne za izračun. \n",
    "Za rešitev $n$ linearnih enačb tako z Gaussovo eliminacijo potrebujemo približno $n^3/3$ matematičnih operacij. Za določitev neznank $\\mathbf{x}$ potrebujemo še dodatnih približno $n^2$ operacij.\n",
    "\n",
    "Pri Gaussovi eliminaciji smo eliminacijo izvedli samo za člene pod diagonalo; če bi z eliminacijo nadaljevali in jo izvedli tudi za člene nad diagonalo, bi izvedli t. i. *Gauss-Jordanovo* eliminacijo, za katero pa potrebujemo dodatnih približno $n^3/3$ operacij* (kar se šteje kot glavna slabost te metode).\n",
    "\n",
    "\\* Nekaj komentarjev na temo števila numeričnih operacij najdete tukaj: [pinm.ladisk.si](http://pinm.ladisk.si/303/kako-dolo%C4%8Damo-numeri%C4%8Dno-zahtevnost-algoritmov)."
   ]
  },
  {
   "cell_type": "markdown",
   "metadata": {
    "slideshow": {
     "slide_type": "subslide"
    }
   },
   "source": [
    "## Uporaba knjižnjice `numpy`"
   ]
  },
  {
   "cell_type": "markdown",
   "metadata": {},
   "source": [
    "Reševanje sistema linearnih enačb z `numpy.linalg.solve` ([dokumentacija](https://docs.scipy.org/doc/numpy/reference/generated/numpy.linalg.solve.html)):\n",
    "\n",
    "```python\n",
    "solve(a, b)\n",
    "```\n",
    "\n",
    "kjer je `a` matrika koeficientov (ali seznam matrik) in je `b` vektor konstant (ali seznam vektorjev). Funkcija vrne vektor (ali seznam vektorjev) rešitev."
   ]
  },
  {
   "cell_type": "code",
   "execution_count": 69,
   "metadata": {
    "slideshow": {
     "slide_type": "subslide"
    }
   },
   "outputs": [
    {
     "data": {
      "text/plain": [
       "array([-14.        , -24.66666667, -16.66666667])"
      ]
     },
     "execution_count": 69,
     "metadata": {},
     "output_type": "execute_result"
    }
   ],
   "source": [
    "np.linalg.solve(A, b)"
   ]
  },
  {
   "cell_type": "markdown",
   "metadata": {
    "slideshow": {
     "slide_type": "slide"
    }
   },
   "source": [
    "# Nekaj vprašanj za razmislek!"
   ]
  },
  {
   "cell_type": "markdown",
   "metadata": {},
   "source": [
    "1. Za sistem enačb: \n",
    "    $$\n",
    "    \\mathbf{A}=\n",
    "    \\begin{bmatrix}\n",
    "    1 & -4 & 1\\\\\n",
    "    1 & 6 & -1\\\\\n",
    "    2 & -1 & 2\n",
    "    \\end{bmatrix}\n",
    "    \\qquad\n",
    "    \\mathbf{b}=\n",
    "    \\begin{bmatrix}\n",
    "    7\\\\\n",
    "    13\\\\\n",
    "    5\n",
    "    \\end{bmatrix}\n",
    "    $$\n",
    "\n",
    "    najdite rešitev s pomočjo ``np.linalg.solve()``.\n",
    "\n",
    "* Za zgoraj definirano matriko $\\mathbf{A}$ določite Evklidsko normo (lastni program).\n",
    "* Za zgoraj definirano matriko $\\mathbf{A}$ določite neskončno normo (lastni program).\n",
    "* Za zgoraj definirano matriko $\\mathbf{A}$ določite pogojenost (``numpy`` funkcija).\n",
    "* Definirajte funkcijo ``gauss_elim``, ki za poljubno matriko $\\mathbf{A}$ in vektor $\\mathbf{b}$ izvede Gaussovo eliminacijo (posebej za matriko in posebej za vektor tako, da ne sestavite razširjene matrike $[\\mathbf{A}|\\mathbf{b}]$).\n",
    "* Definirajte funkcijo ``gauss_elim_x``, ki za razultat funkcije ``gauss_elim`` najde ustrezne vrednosti vektorja $\\textbf{x}$.\n",
    "* Zgornji funkciji dopolnite s štetjem matematičnih operacij.\n",
    "* Na sliki je prikazan sistem mas:\n",
    "\n",
    "    <img width=600 src=\"./fig/mase_na_klancu.png\">\n",
    "    \n",
    "    Predpostavite, da se sistem zaradi teže giblje po klancu navzdol z neznanim pospeškom $a$ in da so vrvi napete z neznanimi silami $F_i$. Znane veličine so (sami jih določite): posamično telo ima maso $m_i$, koeficient trenja s podlago $\\mu_i=1$, $g=9,81$m/s$^2$, $\\varphi=55^{\\circ}$.\n",
    "    Določite sistem enačb v primeru dveh teles. Določite matriko koeficientov $\\mathbf{A}$ in vektorja $\\mathbf{b}$ ter $\\mathbf{x}$.\n",
    "* Za zgoraj definiran sistem mas predpostavite, da je mas 4 (ali več) ter določite matriko koeficientov $\\mathbf{A}$, in vektorja $\\mathbf{x}$ ter $\\mathbf{b}$. Rešite sistem s pomočjo Gaussove elimnacije/LU razcepa ali ``np.linalg.solve``. Preverite pogojenost!\n",
    "* V sistemu mas dobimo fizikalno nekonsistentno rešitev, če imamo v kateri od vrvi tlačno silo (vrv ne prenese tlačne sile). Preverite, ali je to v vašem primeru res. Ustrezno spremenite koeficient(e) trenja, da se bo to zgodilo."
   ]
  },
  {
   "cell_type": "markdown",
   "metadata": {
    "slideshow": {
     "slide_type": "subslide"
    }
   },
   "source": [
    "# Dodatno"
   ]
  },
  {
   "cell_type": "markdown",
   "metadata": {},
   "source": [
    "Poglejte si strani:\n",
    "* [micropython.org](http://www.micropython.org)\n",
    "* [kivy.org](http://www.kivy.org)\n",
    "* [openmodal.com](http://www.openmodal.com)"
   ]
  },
  {
   "cell_type": "markdown",
   "metadata": {
    "slideshow": {
     "slide_type": "subslide"
    }
   },
   "source": [
    "## Primer simbolnega reševanja sistema linearnih enačb v okviru `sympy`"
   ]
  },
  {
   "cell_type": "code",
   "execution_count": 86,
   "metadata": {},
   "outputs": [],
   "source": [
    "import sympy as sym\n",
    "sym.init_printing()"
   ]
  },
  {
   "cell_type": "code",
   "execution_count": 87,
   "metadata": {
    "slideshow": {
     "slide_type": "-"
    }
   },
   "outputs": [],
   "source": [
    "A11, A12, A21, A22 = sym.symbols('A11, A12, A21, A22')\n",
    "x1, x2 = sym.symbols('x1, x2')\n",
    "b1, b2 = sym.symbols('b1, b2')\n",
    "A = sym.Matrix([[A11, A12],\n",
    "                [A21, A22]])\n",
    "x = sym.Matrix([[x1],\n",
    "                [x2]])\n",
    "b = sym.Matrix([[b1],\n",
    "                [b2]])"
   ]
  },
  {
   "cell_type": "code",
   "execution_count": 88,
   "metadata": {
    "slideshow": {
     "slide_type": "subslide"
    }
   },
   "outputs": [
    {
     "data": {
      "image/png": "[encoded data removed]",
      "text/latex": [
       "$$\\left[\\begin{matrix}A_{11} x_{1} + A_{12} x_{2}\\\\A_{21} x_{1} + A_{22} x_{2}\\end{matrix}\\right] = \\left[\\begin{matrix}b_{1}\\\\b_{2}\\end{matrix}\\right]$$"
      ],
      "text/plain": [
       "⎡A₁₁⋅x₁ + A₁₂⋅x₂⎤   ⎡b₁⎤\n",
       "⎢               ⎥ = ⎢  ⎥\n",
       "⎣A₂₁⋅x₁ + A₂₂⋅x₂⎦   ⎣b₂⎦"
      ]
     },
     "execution_count": 88,
     "metadata": {},
     "output_type": "execute_result"
    }
   ],
   "source": [
    "eq = sym.Eq(A*x,b)\n",
    "eq"
   ]
  },
  {
   "cell_type": "code",
   "execution_count": 89,
   "metadata": {
    "slideshow": {
     "slide_type": "-"
    }
   },
   "outputs": [
    {
     "data": {
      "image/png": "[encoded data removed]",
      "text/latex": [
       "$$\\left \\{ x_{1} : \\frac{- A_{12} b_{2} + A_{22} b_{1}}{A_{11} A_{22} - A_{12} A_{21}}, \\quad x_{2} : \\frac{A_{11} b_{2} - A_{21} b_{1}}{A_{11} A_{22} - A_{12} A_{21}}\\right \\}$$"
      ],
      "text/plain": [
       "⎧     -A₁₂⋅b₂ + A₂₂⋅b₁       A₁₁⋅b₂ - A₂₁⋅b₁ ⎫\n",
       "⎨x₁: ─────────────────, x₂: ─────────────────⎬\n",
       "⎩    A₁₁⋅A₂₂ - A₁₂⋅A₂₁      A₁₁⋅A₂₂ - A₁₂⋅A₂₁⎭"
      ]
     },
     "execution_count": 89,
     "metadata": {},
     "output_type": "execute_result"
    }
   ],
   "source": [
    "#%%timeit\n",
    "resitev = sym.solve(eq,[x1, x2])\n",
    "resitev"
   ]
  },
  {
   "cell_type": "code",
   "execution_count": 90,
   "metadata": {},
   "outputs": [
    {
     "data": {
      "image/png": "[encoded data removed]",
      "text/latex": [
       "$$A_{11} A_{22} - A_{12} A_{21}$$"
      ],
      "text/plain": [
       "A₁₁⋅A₂₂ - A₁₂⋅A₂₁"
      ]
     },
     "execution_count": 90,
     "metadata": {},
     "output_type": "execute_result"
    }
   ],
   "source": [
    "A.det()"
   ]
  }
 ],
 "metadata": {
  "anaconda-cloud": {},
  "celltoolbar": "Slideshow",
  "kernelspec": {
   "display_name": "Python 3",
   "language": "python",
   "name": "python3"
  },
  "language_info": {
   "codemirror_mode": {
    "name": "ipython",
    "version": 3
   },
   "file_extension": ".py",
   "mimetype": "text/x-python",
   "name": "python",
   "nbconvert_exporter": "python",
   "pygments_lexer": "ipython3",
   "version": "3.6.7"
  },
  "latex_envs": {
   "bibliofile": "biblio.bib",
   "cite_by": "apalike",
   "current_citInitial": 1,
   "eqLabelWithNumbers": true,
   "eqNumInitial": 0
  },
  "livereveal": {
   "theme": "sky",
   "transition": "default",
   "width": 1200
  },
  "nav_menu": {},
  "toc": {
   "base_numbering": 1,
   "nav_menu": {
    "height": "281px",
    "width": "252px"
   },
   "number_sections": true,
   "sideBar": true,
   "skip_h1_title": false,
   "title_cell": "Kazalo",
   "title_sidebar": "Kazalo",
   "toc_cell": true,
   "toc_position": {
    "height": "516px",
    "left": "0px",
    "right": "1006px",
    "top": "105.995px",
    "width": "176px"
   },
   "toc_section_display": "block",
   "toc_window_display": false
  }
 },
 "nbformat": 4,
 "nbformat_minor": 1
}
