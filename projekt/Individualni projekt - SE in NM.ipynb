{
 "cells": [
  {
   "cell_type": "markdown",
   "metadata": {},
   "source": [
    "Avtor: **Ime in priimek, vpisna številka**\n",
    "\n",
    "Datum: 1. oktober 2018\n",
    "\n",
    "*Potrjujem, da sem avtor projektne naloge in da sem vso vsebino pripravil sam. V primeru, da se ugotovi plagiatorstvo se zavedam, da ne bom izpolnjeval pogojev za pristop k izpitu.*"
   ]
  },
  {
   "cell_type": "markdown",
   "metadata": {},
   "source": [
    "---"
   ]
  },
  {
   "cell_type": "markdown",
   "metadata": {},
   "source": [
    "# *Navodila za uporabo te predloge*<span class=\"tocSkip\"></span>\n",
    "\n",
    "*Predloga je namenjena pripravi poročila individualnega projekta pri predmetih SE (Strojni elementi - 1 ali 2) ter NM (Numerične metode). Poročilo je razdeljeno na vsebinska poglavja, določena pri predmetu SE. Vsako vsebinsko poglavje lahko vsebuje več podpoglavij, celic, namenjenih kodi ali tekstu.* \n",
    "\n",
    "*Za potrebe predmeta NM morate vsaj enkrat uporabiti vsako od zahtevanih vsebin:*\n",
    "\n",
    "* *simbolno reševanje*, \n",
    "* *sistemi linearnih enačb*, \n",
    "* *interpolacija ali aproksimacija*,\n",
    "* *iskanje ničel*, \n",
    "* *integriranje ali odvajanje*, \n",
    "* *reševanje diferencialnih enačb*.\n",
    "\n",
    "Ko vsebino iz NM uporabite, to **nakažite v imenu podpoglavja** (glejte primer spodaj)."
   ]
  },
  {
   "cell_type": "markdown",
   "metadata": {},
   "source": [
    "### Kriteriji ocenjevanja pri NM<span class=\"tocSkip\"></span>\n",
    "\n",
    "Ocena individualnega projekta pri predmetu Numerične metode je sestavljena iz: \n",
    "* *numerična pravilnost* (30%), \n",
    "* *struktura, urejenost, uporaba modulov, stil kode (docstringi)* (30%), \n",
    "* *lasten odnos / kreativni dodatek* (30%),\n",
    "* *pripravljeni testi kode in/ali uporabniški vmesnik* (10%).\n",
    "\n",
    "\n",
    "### Oddaja pri NM<span class=\"tocSkip\"></span>\n",
    "V obliki zip datoteke z imenom: **`Ime in priimek, vpisna številka.zip`** pošljete na email naslov svojega asistenta."
   ]
  },
  {
   "cell_type": "markdown",
   "metadata": {},
   "source": [
    "---"
   ]
  },
  {
   "cell_type": "markdown",
   "metadata": {},
   "source": [
    "*Individualni seminar mora vsebovati **kazalo vsebine** z delujočimi povezavami na poglavja. Najlažje ga prpravite z uporabo razširitve [toc2](https://github.com/ipython-contrib/jupyter_contrib_nbextensions/tree/master/src/jupyter_contrib_nbextensions/nbextensions/toc2). Za namestitev poženite spodnjo celico in nato ponovno poženite `jupyter notebook`:* "
   ]
  },
  {
   "cell_type": "code",
   "execution_count": null,
   "metadata": {},
   "outputs": [],
   "source": [
    "# Namestitev toc2\n",
    "%sx conda install -c conda-forge jupyter_contrib_nbextensions -y\n",
    "%sx jupyter contrib nbextension install --user\n",
    "%sx jupyter nbextension enable toc2/main"
   ]
  },
  {
   "cell_type": "markdown",
   "metadata": {},
   "source": [
    "*Po tem, ko ste zgorni dodatek namestili, ga vključite v poročilo (**korak 1.**), odprete nastavitve kazala (**korak 2.**) in v oknu, ki se odpre, izberete možnost \"Add notebook ToC cell\" (**korak 3.**)*\n",
    "\n",
    "<img src=\"kazalo.gif\" width=700>"
   ]
  },
  {
   "cell_type": "markdown",
   "metadata": {
    "toc": true
   },
   "source": [
    "<h1>Kazalo<span class=\"tocSkip\"></span></h1>\n",
    "<div class=\"toc\"><ul class=\"toc-item\"><li><span><a href=\"#Vsebinsko-poglavje-1\" data-toc-modified-id=\"Vsebinsko-poglavje-1-1\"><span class=\"toc-item-num\">1&nbsp;&nbsp;</span>Vsebinsko poglavje 1</a></span><ul class=\"toc-item\"><li><span><a href=\"#Uvod\" data-toc-modified-id=\"Uvod-1.1\"><span class=\"toc-item-num\">1.1&nbsp;&nbsp;</span>Uvod</a></span></li><li><span><a href=\"#Preračun-zobnikov-[simbolno-reševanje]\" data-toc-modified-id=\"Preračun-zobnikov-[simbolno-reševanje]-1.2\"><span class=\"toc-item-num\">1.2&nbsp;&nbsp;</span>Preračun zobnikov [simbolno reševanje]</a></span></li></ul></li><li><span><a href=\"#Vsebinsko-poglavje-2\" data-toc-modified-id=\"Vsebinsko-poglavje-2-2\"><span class=\"toc-item-num\">2&nbsp;&nbsp;</span>Vsebinsko poglavje 2</a></span><ul class=\"toc-item\"><li><span><a href=\"#Uvod\" data-toc-modified-id=\"Uvod-2.1\"><span class=\"toc-item-num\">2.1&nbsp;&nbsp;</span>Uvod</a></span></li><li><span><a href=\"#Analiza-laboratorijskih-meritev-[aproksimacija,-interpolacija]\" data-toc-modified-id=\"Analiza-laboratorijskih-meritev-[aproksimacija,-interpolacija]-2.2\"><span class=\"toc-item-num\">2.2&nbsp;&nbsp;</span>Analiza laboratorijskih meritev [aproksimacija, interpolacija]</a></span></li></ul></li></ul></div>"
   ]
  },
  {
   "cell_type": "markdown",
   "metadata": {},
   "source": [
    "---"
   ]
  },
  {
   "cell_type": "markdown",
   "metadata": {},
   "source": [
    "# Vsebinsko poglavje 1"
   ]
  },
  {
   "cell_type": "markdown",
   "metadata": {},
   "source": [
    "## Uvod"
   ]
  },
  {
   "cell_type": "markdown",
   "metadata": {},
   "source": [
    "Definicija naloge naj vsebuje kratek opis problema in sliko!"
   ]
  },
  {
   "cell_type": "markdown",
   "metadata": {},
   "source": [
    "Slika 3.22 iz vira Slavič 2014:\n",
    "\n",
    "<img src=\"slika1.png\" width=250>"
   ]
  },
  {
   "cell_type": "markdown",
   "metadata": {},
   "source": [
    "## Preračun zobnikov [simbolno reševanje]"
   ]
  },
  {
   "cell_type": "markdown",
   "metadata": {},
   "source": [
    "---"
   ]
  },
  {
   "cell_type": "markdown",
   "metadata": {},
   "source": [
    "# Vsebinsko poglavje 2"
   ]
  },
  {
   "cell_type": "markdown",
   "metadata": {},
   "source": [
    "## Uvod"
   ]
  },
  {
   "cell_type": "markdown",
   "metadata": {},
   "source": [
    "..."
   ]
  },
  {
   "cell_type": "markdown",
   "metadata": {},
   "source": [
    "## Analiza laboratorijskih meritev [aproksimacija, interpolacija]"
   ]
  }
 ],
 "metadata": {
  "anaconda-cloud": {},
  "kernelspec": {
   "display_name": "Python 3",
   "language": "python",
   "name": "python3"
  },
  "language_info": {
   "codemirror_mode": {
    "name": "ipython",
    "version": 3
   },
   "file_extension": ".py",
   "mimetype": "text/x-python",
   "name": "python",
   "nbconvert_exporter": "python",
   "pygments_lexer": "ipython3",
   "version": "3.6.5"
  },
  "latex_envs": {
   "bibliofile": "biblio.bib",
   "cite_by": "apalike",
   "current_citInitial": 1,
   "eqLabelWithNumbers": true,
   "eqNumInitial": 0
  },
  "nav_menu": {},
  "toc": {
   "base_numbering": "1",
   "nav_menu": {},
   "number_sections": true,
   "sideBar": true,
   "skip_h1_title": false,
   "title_cell": "Kazalo",
   "title_sidebar": "Kazalo",
   "toc_cell": true,
   "toc_position": {
    "height": "778px",
    "left": "380px",
    "top": "111.133px",
    "width": "384px"
   },
   "toc_section_display": true,
   "toc_window_display": true
  }
 },
 "nbformat": 4,
 "nbformat_minor": 1
}
